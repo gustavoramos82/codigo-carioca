{
 "cells": [
  {
   "cell_type": "code",
   "execution_count": 1,
   "metadata": {},
   "outputs": [],
   "source": [
    "import numpy as np\n",
    "import pandas as pd\n",
    "import matplotlib.pyplot as plt\n",
    "import seaborn as sns\n",
    "import plotly.express as px"
   ]
  },
  {
   "cell_type": "code",
   "execution_count": 4,
   "metadata": {},
   "outputs": [
    {
     "data": {
      "text/html": [
       "<div>\n",
       "<style scoped>\n",
       "    .dataframe tbody tr th:only-of-type {\n",
       "        vertical-align: middle;\n",
       "    }\n",
       "\n",
       "    .dataframe tbody tr th {\n",
       "        vertical-align: top;\n",
       "    }\n",
       "\n",
       "    .dataframe thead th {\n",
       "        text-align: right;\n",
       "    }\n",
       "</style>\n",
       "<table border=\"1\" class=\"dataframe\">\n",
       "  <thead>\n",
       "    <tr style=\"text-align: right;\">\n",
       "      <th></th>\n",
       "      <th>Nome</th>\n",
       "      <th>Empreendedor</th>\n",
       "      <th>CPF_CNPJ</th>\n",
       "      <th>UF</th>\n",
       "      <th>Município</th>\n",
       "      <th>Latitude</th>\n",
       "      <th>Longitude</th>\n",
       "      <th>Posicionamento</th>\n",
       "      <th>Categoria de Risco - CRI</th>\n",
       "      <th>Dano Potencial Associado - DPA</th>\n",
       "      <th>Necessita de PAEBM</th>\n",
       "      <th>Inserido na PNSB</th>\n",
       "      <th>Nível de Emergência</th>\n",
       "      <th>Status da DCE Atual</th>\n",
       "      <th>Status da DCO Atual</th>\n",
       "      <th>Tipo de Barragem de Mineração</th>\n",
       "      <th>A Barragem de Mineração possui outra estrutura de mineração interna selante de reservatório</th>\n",
       "      <th>Quantidade Diques Internos</th>\n",
       "      <th>Quantidade Diques Selantes</th>\n",
       "      <th>Cluster</th>\n",
       "    </tr>\n",
       "  </thead>\n",
       "  <tbody>\n",
       "    <tr>\n",
       "      <th>0</th>\n",
       "      <td>MASSANGANA 01</td>\n",
       "      <td>COOPERATIVA DE PRODUTORES DE ESTANHO DO BRASIL...</td>\n",
       "      <td>26021163000144</td>\n",
       "      <td>RO</td>\n",
       "      <td>ARIQUEMES</td>\n",
       "      <td>-09°56'46.053''</td>\n",
       "      <td>-63°19'48.767''</td>\n",
       "      <td>Sul do Equador</td>\n",
       "      <td>Média</td>\n",
       "      <td>Baixa</td>\n",
       "      <td>Não</td>\n",
       "      <td>Não</td>\n",
       "      <td>Sem emergência</td>\n",
       "      <td>-</td>\n",
       "      <td>-</td>\n",
       "      <td>Barragem/Barramento/Dique</td>\n",
       "      <td>Não</td>\n",
       "      <td>0.0</td>\n",
       "      <td>0.0</td>\n",
       "      <td>3</td>\n",
       "    </tr>\n",
       "    <tr>\n",
       "      <th>1</th>\n",
       "      <td>Igarapé Mutum</td>\n",
       "      <td>COOPERMETAL - COOPERATIVA METALURGICA DE RONDONIA</td>\n",
       "      <td>09259736000153</td>\n",
       "      <td>RO</td>\n",
       "      <td>ARIQUEMES</td>\n",
       "      <td>-09°45'55.465''</td>\n",
       "      <td>-63°31'12.111''</td>\n",
       "      <td>Sul do Equador</td>\n",
       "      <td>Média</td>\n",
       "      <td>Alta</td>\n",
       "      <td>Sim</td>\n",
       "      <td>Sim</td>\n",
       "      <td>Sem emergência</td>\n",
       "      <td>1º Campanha 2024 - Atestado</td>\n",
       "      <td>1º Campanha 2023 - Indefinido</td>\n",
       "      <td>Barragem/Barramento/Dique</td>\n",
       "      <td>Não</td>\n",
       "      <td>0.0</td>\n",
       "      <td>0.0</td>\n",
       "      <td>0</td>\n",
       "    </tr>\n",
       "    <tr>\n",
       "      <th>2</th>\n",
       "      <td>Rio Santa Cruz</td>\n",
       "      <td>COOPERMETAL - COOPERATIVA METALURGICA DE RONDONIA</td>\n",
       "      <td>09259736000153</td>\n",
       "      <td>RO</td>\n",
       "      <td>ARIQUEMES</td>\n",
       "      <td>-09°45'57.100''</td>\n",
       "      <td>-63°34'06.900''</td>\n",
       "      <td>Sul do Equador</td>\n",
       "      <td>Alta</td>\n",
       "      <td>Média</td>\n",
       "      <td>Não</td>\n",
       "      <td>Sim</td>\n",
       "      <td>Emergência Nivel 1</td>\n",
       "      <td>1º Campanha 2024 - Atestado</td>\n",
       "      <td>1º Campanha 2023 - Indefinido</td>\n",
       "      <td>Barragem/Barramento/Dique</td>\n",
       "      <td>Não</td>\n",
       "      <td>0.0</td>\n",
       "      <td>0.0</td>\n",
       "      <td>0</td>\n",
       "    </tr>\n",
       "    <tr>\n",
       "      <th>3</th>\n",
       "      <td>Belíssima</td>\n",
       "      <td>COOPERATIVA DOS GARIMPEIROS DE SANTA CRUZ - CO...</td>\n",
       "      <td>34726547000190</td>\n",
       "      <td>RO</td>\n",
       "      <td>ARIQUEMES</td>\n",
       "      <td>-09°47'34.047''</td>\n",
       "      <td>-63°33'34.869''</td>\n",
       "      <td>Sul do Equador</td>\n",
       "      <td>Alta</td>\n",
       "      <td>Média</td>\n",
       "      <td>Não</td>\n",
       "      <td>Sim</td>\n",
       "      <td>Emergência Nivel 1</td>\n",
       "      <td>1º Campanha 2024 - Atestado</td>\n",
       "      <td>1º Campanha 2023 - Indefinido</td>\n",
       "      <td>Cava com Barramento Construído</td>\n",
       "      <td>Não</td>\n",
       "      <td>0.0</td>\n",
       "      <td>0.0</td>\n",
       "      <td>1</td>\n",
       "    </tr>\n",
       "    <tr>\n",
       "      <th>4</th>\n",
       "      <td>Jacaré Inferior</td>\n",
       "      <td>COOPERATIVA DOS GARIMPEIROS DE SANTA CRUZ - CO...</td>\n",
       "      <td>34726547000190</td>\n",
       "      <td>RO</td>\n",
       "      <td>ARIQUEMES</td>\n",
       "      <td>-09°47'16.100''</td>\n",
       "      <td>-63°34'30.600''</td>\n",
       "      <td>Sul do Equador</td>\n",
       "      <td>Alta</td>\n",
       "      <td>Alta</td>\n",
       "      <td>Sim</td>\n",
       "      <td>Sim</td>\n",
       "      <td>Emergência Nivel 1</td>\n",
       "      <td>1º Campanha 2024 - Atestado</td>\n",
       "      <td>1º Campanha 2023 - Indefinido</td>\n",
       "      <td>Barragem/Barramento/Dique</td>\n",
       "      <td>Não</td>\n",
       "      <td>0.0</td>\n",
       "      <td>0.0</td>\n",
       "      <td>0</td>\n",
       "    </tr>\n",
       "  </tbody>\n",
       "</table>\n",
       "</div>"
      ],
      "text/plain": [
       "              Nome                                       Empreendedor  \\\n",
       "0    MASSANGANA 01  COOPERATIVA DE PRODUTORES DE ESTANHO DO BRASIL...   \n",
       "1    Igarapé Mutum  COOPERMETAL - COOPERATIVA METALURGICA DE RONDONIA   \n",
       "2   Rio Santa Cruz  COOPERMETAL - COOPERATIVA METALURGICA DE RONDONIA   \n",
       "3        Belíssima  COOPERATIVA DOS GARIMPEIROS DE SANTA CRUZ - CO...   \n",
       "4  Jacaré Inferior  COOPERATIVA DOS GARIMPEIROS DE SANTA CRUZ - CO...   \n",
       "\n",
       "         CPF_CNPJ  UF  Município         Latitude        Longitude  \\\n",
       "0  26021163000144  RO  ARIQUEMES  -09°56'46.053''  -63°19'48.767''   \n",
       "1  09259736000153  RO  ARIQUEMES  -09°45'55.465''  -63°31'12.111''   \n",
       "2  09259736000153  RO  ARIQUEMES  -09°45'57.100''  -63°34'06.900''   \n",
       "3  34726547000190  RO  ARIQUEMES  -09°47'34.047''  -63°33'34.869''   \n",
       "4  34726547000190  RO  ARIQUEMES  -09°47'16.100''  -63°34'30.600''   \n",
       "\n",
       "   Posicionamento Categoria de Risco - CRI Dano Potencial Associado - DPA  \\\n",
       "0  Sul do Equador                    Média                          Baixa   \n",
       "1  Sul do Equador                    Média                           Alta   \n",
       "2  Sul do Equador                     Alta                          Média   \n",
       "3  Sul do Equador                     Alta                          Média   \n",
       "4  Sul do Equador                     Alta                           Alta   \n",
       "\n",
       "  Necessita de PAEBM Inserido na PNSB Nível de Emergência  \\\n",
       "0                Não              Não      Sem emergência   \n",
       "1                Sim              Sim      Sem emergência   \n",
       "2                Não              Sim  Emergência Nivel 1   \n",
       "3                Não              Sim  Emergência Nivel 1   \n",
       "4                Sim              Sim  Emergência Nivel 1   \n",
       "\n",
       "           Status da DCE Atual            Status da DCO Atual  \\\n",
       "0                            -                              -   \n",
       "1  1º Campanha 2024 - Atestado  1º Campanha 2023 - Indefinido   \n",
       "2  1º Campanha 2024 - Atestado  1º Campanha 2023 - Indefinido   \n",
       "3  1º Campanha 2024 - Atestado  1º Campanha 2023 - Indefinido   \n",
       "4  1º Campanha 2024 - Atestado  1º Campanha 2023 - Indefinido   \n",
       "\n",
       "    Tipo de Barragem de Mineração  \\\n",
       "0       Barragem/Barramento/Dique   \n",
       "1       Barragem/Barramento/Dique   \n",
       "2       Barragem/Barramento/Dique   \n",
       "3  Cava com Barramento Construído   \n",
       "4       Barragem/Barramento/Dique   \n",
       "\n",
       "  A Barragem de Mineração possui outra estrutura de mineração interna selante de reservatório  \\\n",
       "0                                                Não                                            \n",
       "1                                                Não                                            \n",
       "2                                                Não                                            \n",
       "3                                                Não                                            \n",
       "4                                                Não                                            \n",
       "\n",
       "   Quantidade Diques Internos  Quantidade Diques Selantes  Cluster  \n",
       "0                         0.0                         0.0        3  \n",
       "1                         0.0                         0.0        0  \n",
       "2                         0.0                         0.0        0  \n",
       "3                         0.0                         0.0        1  \n",
       "4                         0.0                         0.0        0  "
      ]
     },
     "execution_count": 4,
     "metadata": {},
     "output_type": "execute_result"
    }
   ],
   "source": [
    "barragem = pd.read_csv('Barragem_junção.csv')\n",
    "barragem.drop(['Unnamed: 0','ID'],axis=1,inplace=True)\n",
    "barragem.head()"
   ]
  },
  {
   "cell_type": "code",
   "execution_count": 23,
   "metadata": {},
   "outputs": [
    {
     "data": {
      "text/html": [
       "<div>\n",
       "<style scoped>\n",
       "    .dataframe tbody tr th:only-of-type {\n",
       "        vertical-align: middle;\n",
       "    }\n",
       "\n",
       "    .dataframe tbody tr th {\n",
       "        vertical-align: top;\n",
       "    }\n",
       "\n",
       "    .dataframe thead th {\n",
       "        text-align: right;\n",
       "    }\n",
       "</style>\n",
       "<table border=\"1\" class=\"dataframe\">\n",
       "  <thead>\n",
       "    <tr style=\"text-align: right;\">\n",
       "      <th></th>\n",
       "      <th>Unnamed: 0</th>\n",
       "      <th>Categoria de Risco - CRI</th>\n",
       "      <th>Dano Potencial Associado - DPA</th>\n",
       "      <th>Necessita de PAEBM</th>\n",
       "      <th>Inserido na PNSB</th>\n",
       "      <th>Nível de Emergência</th>\n",
       "      <th>Situação operacional da Back Up Dam</th>\n",
       "      <th>Vida útil prevista da Back Up Dam (Anos)</th>\n",
       "      <th>Posicionamento (Back Up Dam)</th>\n",
       "      <th>Altura Máxima do projeto da Back Up Dam (m)</th>\n",
       "      <th>Teor (%) do minério principal inserido no rejeito</th>\n",
       "      <th>Tipo de Barragem de Mineração_Barragem/Barramento/Dique</th>\n",
       "      <th>Tipo de Barragem de Mineração_Cava com Barramento Construído</th>\n",
       "      <th>Tipo de Barragem de Mineração_Empilhamento drenado construído hidraulicamente e suscetível à liquefação</th>\n",
       "      <th>Cluster</th>\n",
       "    </tr>\n",
       "  </thead>\n",
       "  <tbody>\n",
       "    <tr>\n",
       "      <th>0</th>\n",
       "      <td>0</td>\n",
       "      <td>3</td>\n",
       "      <td>3</td>\n",
       "      <td>1</td>\n",
       "      <td>1</td>\n",
       "      <td>1</td>\n",
       "      <td>0</td>\n",
       "      <td>0.0</td>\n",
       "      <td>1</td>\n",
       "      <td>0.0</td>\n",
       "      <td>0.05</td>\n",
       "      <td>1</td>\n",
       "      <td>0</td>\n",
       "      <td>0</td>\n",
       "      <td>2</td>\n",
       "    </tr>\n",
       "    <tr>\n",
       "      <th>1</th>\n",
       "      <td>1</td>\n",
       "      <td>2</td>\n",
       "      <td>1</td>\n",
       "      <td>0</td>\n",
       "      <td>0</td>\n",
       "      <td>0</td>\n",
       "      <td>0</td>\n",
       "      <td>0.0</td>\n",
       "      <td>1</td>\n",
       "      <td>0.0</td>\n",
       "      <td>0.04</td>\n",
       "      <td>1</td>\n",
       "      <td>0</td>\n",
       "      <td>0</td>\n",
       "      <td>0</td>\n",
       "    </tr>\n",
       "    <tr>\n",
       "      <th>2</th>\n",
       "      <td>2</td>\n",
       "      <td>3</td>\n",
       "      <td>2</td>\n",
       "      <td>0</td>\n",
       "      <td>1</td>\n",
       "      <td>1</td>\n",
       "      <td>0</td>\n",
       "      <td>0.0</td>\n",
       "      <td>1</td>\n",
       "      <td>0.0</td>\n",
       "      <td>0.05</td>\n",
       "      <td>1</td>\n",
       "      <td>0</td>\n",
       "      <td>0</td>\n",
       "      <td>0</td>\n",
       "    </tr>\n",
       "    <tr>\n",
       "      <th>3</th>\n",
       "      <td>3</td>\n",
       "      <td>3</td>\n",
       "      <td>3</td>\n",
       "      <td>1</td>\n",
       "      <td>1</td>\n",
       "      <td>1</td>\n",
       "      <td>0</td>\n",
       "      <td>0.0</td>\n",
       "      <td>1</td>\n",
       "      <td>0.0</td>\n",
       "      <td>0.04</td>\n",
       "      <td>1</td>\n",
       "      <td>0</td>\n",
       "      <td>0</td>\n",
       "      <td>2</td>\n",
       "    </tr>\n",
       "    <tr>\n",
       "      <th>4</th>\n",
       "      <td>4</td>\n",
       "      <td>3</td>\n",
       "      <td>3</td>\n",
       "      <td>1</td>\n",
       "      <td>1</td>\n",
       "      <td>1</td>\n",
       "      <td>0</td>\n",
       "      <td>0.0</td>\n",
       "      <td>1</td>\n",
       "      <td>0.0</td>\n",
       "      <td>0.05</td>\n",
       "      <td>1</td>\n",
       "      <td>0</td>\n",
       "      <td>0</td>\n",
       "      <td>2</td>\n",
       "    </tr>\n",
       "  </tbody>\n",
       "</table>\n",
       "</div>"
      ],
      "text/plain": [
       "   Unnamed: 0  Categoria de Risco - CRI  Dano Potencial Associado - DPA  \\\n",
       "0           0                         3                               3   \n",
       "1           1                         2                               1   \n",
       "2           2                         3                               2   \n",
       "3           3                         3                               3   \n",
       "4           4                         3                               3   \n",
       "\n",
       "   Necessita de PAEBM  Inserido na PNSB  Nível de Emergência  \\\n",
       "0                   1                 1                    1   \n",
       "1                   0                 0                    0   \n",
       "2                   0                 1                    1   \n",
       "3                   1                 1                    1   \n",
       "4                   1                 1                    1   \n",
       "\n",
       "   Situação operacional da Back Up Dam  \\\n",
       "0                                    0   \n",
       "1                                    0   \n",
       "2                                    0   \n",
       "3                                    0   \n",
       "4                                    0   \n",
       "\n",
       "   Vida útil prevista da Back Up Dam (Anos)  Posicionamento (Back Up Dam)  \\\n",
       "0                                       0.0                             1   \n",
       "1                                       0.0                             1   \n",
       "2                                       0.0                             1   \n",
       "3                                       0.0                             1   \n",
       "4                                       0.0                             1   \n",
       "\n",
       "   Altura Máxima do projeto da Back Up Dam (m)  \\\n",
       "0                                          0.0   \n",
       "1                                          0.0   \n",
       "2                                          0.0   \n",
       "3                                          0.0   \n",
       "4                                          0.0   \n",
       "\n",
       "   Teor (%) do minério principal inserido no rejeito  \\\n",
       "0                                               0.05   \n",
       "1                                               0.04   \n",
       "2                                               0.05   \n",
       "3                                               0.04   \n",
       "4                                               0.05   \n",
       "\n",
       "   Tipo de Barragem de Mineração_Barragem/Barramento/Dique  \\\n",
       "0                                                  1         \n",
       "1                                                  1         \n",
       "2                                                  1         \n",
       "3                                                  1         \n",
       "4                                                  1         \n",
       "\n",
       "   Tipo de Barragem de Mineração_Cava com Barramento Construído  \\\n",
       "0                                                  0              \n",
       "1                                                  0              \n",
       "2                                                  0              \n",
       "3                                                  0              \n",
       "4                                                  0              \n",
       "\n",
       "   Tipo de Barragem de Mineração_Empilhamento drenado construído hidraulicamente e suscetível à liquefação  \\\n",
       "0                                                  0                                                         \n",
       "1                                                  0                                                         \n",
       "2                                                  0                                                         \n",
       "3                                                  0                                                         \n",
       "4                                                  0                                                         \n",
       "\n",
       "   Cluster  \n",
       "0        2  \n",
       "1        0  \n",
       "2        0  \n",
       "3        2  \n",
       "4        2  "
      ]
     },
     "execution_count": 23,
     "metadata": {},
     "output_type": "execute_result"
    }
   ],
   "source": [
    "barragem_com = pd.read_csv('barragem com cluster.csv')\n",
    "barragem_com.head()"
   ]
  },
  {
   "cell_type": "code",
   "execution_count": 24,
   "metadata": {},
   "outputs": [
    {
     "data": {
      "text/html": [
       "<div>\n",
       "<style scoped>\n",
       "    .dataframe tbody tr th:only-of-type {\n",
       "        vertical-align: middle;\n",
       "    }\n",
       "\n",
       "    .dataframe tbody tr th {\n",
       "        vertical-align: top;\n",
       "    }\n",
       "\n",
       "    .dataframe thead th {\n",
       "        text-align: right;\n",
       "    }\n",
       "</style>\n",
       "<table border=\"1\" class=\"dataframe\">\n",
       "  <thead>\n",
       "    <tr style=\"text-align: right;\">\n",
       "      <th></th>\n",
       "      <th>Altura Máxima do projeto da Back Up Dam (m)</th>\n",
       "      <th>Vida útil prevista da Back Up Dam (Anos)</th>\n",
       "      <th>Situação operacional da Back Up Dam</th>\n",
       "      <th>Teor (%) do minério principal inserido no rejeito</th>\n",
       "    </tr>\n",
       "  </thead>\n",
       "  <tbody>\n",
       "    <tr>\n",
       "      <th>0</th>\n",
       "      <td>0.0</td>\n",
       "      <td>0.0</td>\n",
       "      <td>0</td>\n",
       "      <td>0.05</td>\n",
       "    </tr>\n",
       "    <tr>\n",
       "      <th>1</th>\n",
       "      <td>0.0</td>\n",
       "      <td>0.0</td>\n",
       "      <td>0</td>\n",
       "      <td>0.04</td>\n",
       "    </tr>\n",
       "    <tr>\n",
       "      <th>2</th>\n",
       "      <td>0.0</td>\n",
       "      <td>0.0</td>\n",
       "      <td>0</td>\n",
       "      <td>0.05</td>\n",
       "    </tr>\n",
       "    <tr>\n",
       "      <th>3</th>\n",
       "      <td>0.0</td>\n",
       "      <td>0.0</td>\n",
       "      <td>0</td>\n",
       "      <td>0.04</td>\n",
       "    </tr>\n",
       "    <tr>\n",
       "      <th>4</th>\n",
       "      <td>0.0</td>\n",
       "      <td>0.0</td>\n",
       "      <td>0</td>\n",
       "      <td>0.05</td>\n",
       "    </tr>\n",
       "  </tbody>\n",
       "</table>\n",
       "</div>"
      ],
      "text/plain": [
       "   Altura Máxima do projeto da Back Up Dam (m)  \\\n",
       "0                                          0.0   \n",
       "1                                          0.0   \n",
       "2                                          0.0   \n",
       "3                                          0.0   \n",
       "4                                          0.0   \n",
       "\n",
       "   Vida útil prevista da Back Up Dam (Anos)  \\\n",
       "0                                       0.0   \n",
       "1                                       0.0   \n",
       "2                                       0.0   \n",
       "3                                       0.0   \n",
       "4                                       0.0   \n",
       "\n",
       "   Situação operacional da Back Up Dam  \\\n",
       "0                                    0   \n",
       "1                                    0   \n",
       "2                                    0   \n",
       "3                                    0   \n",
       "4                                    0   \n",
       "\n",
       "   Teor (%) do minério principal inserido no rejeito  \n",
       "0                                               0.05  \n",
       "1                                               0.04  \n",
       "2                                               0.05  \n",
       "3                                               0.04  \n",
       "4                                               0.05  "
      ]
     },
     "execution_count": 24,
     "metadata": {},
     "output_type": "execute_result"
    }
   ],
   "source": [
    "barragem_com = barragem_com[['Altura Máxima do projeto da Back Up Dam (m)','Vida útil prevista da Back Up Dam (Anos)',\n",
    "              'Situação operacional da Back Up Dam','Teor (%) do minério principal inserido no rejeito']]\n",
    "barragem_com.head()"
   ]
  },
  {
   "cell_type": "code",
   "execution_count": 26,
   "metadata": {},
   "outputs": [],
   "source": [
    "barragem = pd.concat([barragem,barragem_com],axis=1)"
   ]
  },
  {
   "cell_type": "code",
   "execution_count": 42,
   "metadata": {},
   "outputs": [],
   "source": [
    "def latitude_para_decimal(lat):\n",
    "    partes = lat.split('°')\n",
    "    graus = float(partes[0])\n",
    "    \n",
    "    partes_minutos = partes[1].split(\"'\")\n",
    "    minutos = float(partes_minutos[0])\n",
    "\n",
    "    partes_segundos = partes_minutos[1].split('\"')\n",
    "    segundos = float(partes_segundos[0])\n",
    "    \n",
    "    if graus < 0:\n",
    "        graus = -1*graus\n",
    "        \n",
    "    # Calculando a latitude decimal\n",
    "    decimal = graus + (minutos / 60) + (segundos / 3600)\n",
    "    return -1*decimal"
   ]
  },
  {
   "cell_type": "code",
   "execution_count": 43,
   "metadata": {},
   "outputs": [],
   "source": [
    "barragem['Latitude'] = barragem['Latitude'].apply(latitude_para_decimal)\n",
    "barragem['Longitude'] = barragem['Longitude'].apply(latitude_para_decimal)"
   ]
  },
  {
   "cell_type": "code",
   "execution_count": 27,
   "metadata": {},
   "outputs": [
    {
     "name": "stdout",
     "output_type": "stream",
     "text": [
      "<class 'pandas.core.frame.DataFrame'>\n",
      "RangeIndex: 908 entries, 0 to 907\n",
      "Data columns (total 24 columns):\n",
      " #   Column                                                                                       Non-Null Count  Dtype  \n",
      "---  ------                                                                                       --------------  -----  \n",
      " 0   Nome                                                                                         908 non-null    object \n",
      " 1   Empreendedor                                                                                 908 non-null    object \n",
      " 2   CPF_CNPJ                                                                                     908 non-null    object \n",
      " 3   UF                                                                                           908 non-null    object \n",
      " 4   Município                                                                                    908 non-null    object \n",
      " 5   Latitude                                                                                     908 non-null    object \n",
      " 6   Longitude                                                                                    908 non-null    object \n",
      " 7   Posicionamento                                                                               908 non-null    object \n",
      " 8   Categoria de Risco - CRI                                                                     908 non-null    object \n",
      " 9   Dano Potencial Associado - DPA                                                               908 non-null    object \n",
      " 10  Necessita de PAEBM                                                                           908 non-null    object \n",
      " 11  Inserido na PNSB                                                                             908 non-null    object \n",
      " 12  Nível de Emergência                                                                          908 non-null    object \n",
      " 13  Status da DCE Atual                                                                          908 non-null    object \n",
      " 14  Status da DCO Atual                                                                          908 non-null    object \n",
      " 15  Tipo de Barragem de Mineração                                                                908 non-null    object \n",
      " 16  A Barragem de Mineração possui outra estrutura de mineração interna selante de reservatório  908 non-null    object \n",
      " 17  Quantidade Diques Internos                                                                   908 non-null    float64\n",
      " 18  Quantidade Diques Selantes                                                                   908 non-null    float64\n",
      " 19  Cluster                                                                                      908 non-null    int64  \n",
      " 20  Altura Máxima do projeto da Back Up Dam (m)                                                  908 non-null    float64\n",
      " 21  Vida útil prevista da Back Up Dam (Anos)                                                     908 non-null    float64\n",
      " 22  Situação operacional da Back Up Dam                                                          908 non-null    int64  \n",
      " 23  Teor (%) do minério principal inserido no rejeito                                            908 non-null    float64\n",
      "dtypes: float64(5), int64(2), object(17)\n",
      "memory usage: 170.4+ KB\n"
     ]
    }
   ],
   "source": [
    "barragem.info()"
   ]
  },
  {
   "cell_type": "code",
   "execution_count": 10,
   "metadata": {},
   "outputs": [
    {
     "data": {
      "text/plain": [
       "Text(0, 0.5, 'Quantidade (%)')"
      ]
     },
     "execution_count": 10,
     "metadata": {},
     "output_type": "execute_result"
    },
    {
     "data": {
      "image/png": "[encoded data removed]",
      "text/plain": [
       "<Figure size 640x480 with 1 Axes>"
      ]
     },
     "metadata": {},
     "output_type": "display_data"
    }
   ],
   "source": [
    "plt.title('Quantidade de barragens por cluster',fontsize=14)\n",
    "sns.histplot(x='Cluster',data=barragem,discrete=True,\n",
    "             stat='percent',shrink=.8)\n",
    "plt.xlabel('Cluster')\n",
    "plt.ylabel('Quantidade (%)')"
   ]
  },
  {
   "cell_type": "code",
   "execution_count": 12,
   "metadata": {},
   "outputs": [
    {
     "data": {
      "text/plain": [
       "<Axes: xlabel='Cluster', ylabel='Percent'>"
      ]
     },
     "execution_count": 12,
     "metadata": {},
     "output_type": "execute_result"
    },
    {
     "data": {
      "image/png": "[encoded data removed]",
      "text/plain": [
       "<Figure size 640x480 with 1 Axes>"
      ]
     },
     "metadata": {},
     "output_type": "display_data"
    }
   ],
   "source": [
    "sns.histplot(x='Cluster',data=barragem,discrete=True,\n",
    "             stat='percent',hue='Categoria de Risco - CRI',multiple=\"dodge\",\n",
    "             shrink=.8)"
   ]
  },
  {
   "cell_type": "markdown",
   "metadata": {},
   "source": [
    "Da pra ver qu o cluster 0 tem a maioria de risco baixo, o cluster 3 a maioria só tem baixa e média e o 4 só tem média e baixa"
   ]
  },
  {
   "cell_type": "code",
   "execution_count": 13,
   "metadata": {},
   "outputs": [
    {
     "data": {
      "text/plain": [
       "<Axes: xlabel='Cluster', ylabel='Percent'>"
      ]
     },
     "execution_count": 13,
     "metadata": {},
     "output_type": "execute_result"
    },
    {
     "data": {
      "image/png": "[encoded data removed]",
      "text/plain": [
       "<Figure size 640x480 with 1 Axes>"
      ]
     },
     "metadata": {},
     "output_type": "display_data"
    }
   ],
   "source": [
    "sns.histplot(x='Cluster',data=barragem,discrete=True,\n",
    "             stat='percent',hue='Dano Potencial Associado - DPA',multiple=\"dodge\",\n",
    "             shrink=.8)"
   ]
  },
  {
   "cell_type": "markdown",
   "metadata": {},
   "source": [
    "Quanto ao dano associado\n",
    "- cluster 3: maioria baixo\n",
    "- cluster 0: maioria méida ou alta\n",
    "- cluster 4: maioria baixa"
   ]
  },
  {
   "cell_type": "code",
   "execution_count": 15,
   "metadata": {},
   "outputs": [
    {
     "data": {
      "text/plain": [
       "<Axes: xlabel='Cluster', ylabel='Percent'>"
      ]
     },
     "execution_count": 15,
     "metadata": {},
     "output_type": "execute_result"
    },
    {
     "data": {
      "image/png": "[encoded data removed]",
      "text/plain": [
       "<Figure size 640x480 with 1 Axes>"
      ]
     },
     "metadata": {},
     "output_type": "display_data"
    }
   ],
   "source": [
    "sns.histplot(x='Cluster',data=barragem,discrete=True,\n",
    "             stat='percent',hue='Necessita de PAEBM',multiple=\"dodge\",\n",
    "             shrink=.8)"
   ]
  },
  {
   "cell_type": "markdown",
   "metadata": {},
   "source": [
    "Cluster 2 necessita e o cluster 3 não necessita"
   ]
  },
  {
   "cell_type": "code",
   "execution_count": 16,
   "metadata": {},
   "outputs": [
    {
     "data": {
      "text/plain": [
       "<Axes: xlabel='Cluster', ylabel='Percent'>"
      ]
     },
     "execution_count": 16,
     "metadata": {},
     "output_type": "execute_result"
    },
    {
     "data": {
      "image/png": "[encoded data removed]",
      "text/plain": [
       "<Figure size 640x480 with 1 Axes>"
      ]
     },
     "metadata": {},
     "output_type": "display_data"
    }
   ],
   "source": [
    "sns.histplot(x='Cluster',data=barragem,discrete=True,\n",
    "             stat='percent',hue='Inserido na PNSB',multiple=\"dodge\",\n",
    "             shrink=.8)"
   ]
  },
  {
   "cell_type": "code",
   "execution_count": 17,
   "metadata": {},
   "outputs": [
    {
     "data": {
      "text/plain": [
       "<Axes: xlabel='Cluster', ylabel='Percent'>"
      ]
     },
     "execution_count": 17,
     "metadata": {},
     "output_type": "execute_result"
    },
    {
     "data": {
      "image/png": "[encoded data removed]",
      "text/plain": [
       "<Figure size 640x480 with 1 Axes>"
      ]
     },
     "metadata": {},
     "output_type": "display_data"
    }
   ],
   "source": [
    "sns.histplot(x='Cluster',data=barragem,discrete=True,\n",
    "             stat='percent',hue='Nível de Emergência',multiple=\"dodge\",\n",
    "             shrink=.8)"
   ]
  },
  {
   "cell_type": "code",
   "execution_count": 18,
   "metadata": {},
   "outputs": [
    {
     "data": {
      "text/plain": [
       "<Axes: xlabel='Cluster', ylabel='Percent'>"
      ]
     },
     "execution_count": 18,
     "metadata": {},
     "output_type": "execute_result"
    },
    {
     "data": {
      "image/png": "[encoded data removed]",
      "text/plain": [
       "<Figure size 640x480 with 1 Axes>"
      ]
     },
     "metadata": {},
     "output_type": "display_data"
    }
   ],
   "source": [
    "sns.histplot(x='Cluster',data=barragem,discrete=True,\n",
    "             stat='percent',hue='Tipo de Barragem de Mineração',multiple=\"dodge\",\n",
    "             shrink=.8)"
   ]
  },
  {
   "cell_type": "markdown",
   "metadata": {},
   "source": [
    "Uma cava com barramento construído é um tipo de estrutura escavada no solo que utiliza um barramento de contenção para estabilizar as paredes da escavação. Essa técnica é comumente utilizada em projetos de construção civil que exigem a escavação de grandes volumes de solo, como fundações profundas, túneis e estações de metrô\n",
    "\n",
    "Empilhamento drenado construído hidraulicamente e suscetível à liquefação é uma técnica de construção de barragens de mineração que utiliza o empilhamento de rejeitos minerais em um dique construído com materiais drenantes, como areia e cascalho. Esse método permite que a água contida nos rejeitos seja drenada gradativamente, consolidando o material e aumentando a estabilidade da barragem."
   ]
  },
  {
   "cell_type": "code",
   "execution_count": 30,
   "metadata": {},
   "outputs": [
    {
     "data": {
      "text/plain": [
       "<Axes: xlabel='Cluster', ylabel='Altura Máxima do projeto da Back Up Dam (m)'>"
      ]
     },
     "execution_count": 30,
     "metadata": {},
     "output_type": "execute_result"
    },
    {
     "data": {
      "image/png": "[encoded data removed]",
      "text/plain": [
       "<Figure size 640x480 with 1 Axes>"
      ]
     },
     "metadata": {},
     "output_type": "display_data"
    }
   ],
   "source": [
    "sns.boxplot(x='Cluster',data=barragem,y='Altura Máxima do projeto da Back Up Dam (m)')"
   ]
  },
  {
   "cell_type": "code",
   "execution_count": 31,
   "metadata": {},
   "outputs": [
    {
     "data": {
      "text/plain": [
       "<Axes: xlabel='Cluster', ylabel='Vida útil prevista da Back Up Dam (Anos)'>"
      ]
     },
     "execution_count": 31,
     "metadata": {},
     "output_type": "execute_result"
    },
    {
     "data": {
      "image/png": "[encoded data removed]",
      "text/plain": [
       "<Figure size 640x480 with 1 Axes>"
      ]
     },
     "metadata": {},
     "output_type": "display_data"
    }
   ],
   "source": [
    "sns.boxplot(x='Cluster',data=barragem,y='Vida útil prevista da Back Up Dam (Anos)')"
   ]
  },
  {
   "cell_type": "code",
   "execution_count": 35,
   "metadata": {},
   "outputs": [
    {
     "data": {
      "text/plain": [
       "Text(0, 0.5, 'Porcentagem')"
      ]
     },
     "execution_count": 35,
     "metadata": {},
     "output_type": "execute_result"
    },
    {
     "data": {
      "image/png": "[encoded data removed]",
      "text/plain": [
       "<Figure size 640x480 with 1 Axes>"
      ]
     },
     "metadata": {},
     "output_type": "display_data"
    }
   ],
   "source": [
    "plt.title('Teor (%) do minério principal inserido no rejeito',\n",
    "          fontsize=14)\n",
    "sns.boxplot(x='Cluster',data=barragem,y='Teor (%) do minério principal inserido no rejeito')\n",
    "plt.ylabel('Porcentagem')"
   ]
  },
  {
   "cell_type": "markdown",
   "metadata": {},
   "source": [
    "por fim os cluster podem ser definidos da seguinte forma:\n",
    "\n",
    "1. Clsuter 0:\n",
    "\n",
    "- A maioria está inserido na categoria de risco baixo\n",
    "- Dano ptencial na maioria como alto ou médio\n",
    "- *Estão todos inserido no PNSB*\n",
    "- São todos do tipo barramento/barragem/dique\n",
    "- O teor percentual de minério principal do rejeito é ente 0 25% aproximadamente em sua maioria\n",
    "\n",
    "2. Cluster 1\n",
    "\n",
    "- A maioria  da categoria de risco baixo ou médio\n",
    "- A maiorio tem potencial de dano baix\n",
    "- A maioria não necessita de PAEDM\n",
    "- *Todos são construido com cava de barramento*\n",
    "- Teor do minerio principal está entre 0 e 20% aprox. em sua maioria\n",
    "\n",
    "3. Cluster 2\n",
    "\n",
    "- Todos tem dano de potencial alto\n",
    "- Não necessitam de PAEBM\n",
    "- Estão inserindo do PNSB\n",
    "- Barra/barragem/dique\n",
    "- Altura Máxima do projeto da Back Up Dam (m) até 40 m em sua maioria (os mais altos)\n",
    "- Vida útil prevista da Back Up Dam em até 10 anos em sua maioria (o maiores se comparado com os outros)\n",
    "- Apresentar um dos maiores teores de minerio principal inserido nos rejeitos\n",
    "\n",
    "4. Cluster 3\n",
    "\n",
    "- Maioria da categoria de risco é médio ou baixo\n",
    "- Dano potencial baixo em sua maioria\n",
    "- Não necessita de PAEBM\n",
    "- Maioria não está inserido na PNSB\n",
    "- Barragem/Dique\n",
    "- Teor de minério até 15% aproximadamente em sua maioria\n",
    "\n",
    "5. Cluster 4\n",
    "\n",
    "- Categoria de risco baixo em sua maioria\n",
    "- Dano potencial baixo em sua maioria\n",
    "- *Empilhamento drenado construído hidraulicamente e sucetivel a liquefação*\n",
    "- *Teor de minerio principal são os menores (próximo a zero)*\n",
    "\n",
    "\n"
   ]
  },
  {
   "cell_type": "code",
   "execution_count": 41,
   "metadata": {},
   "outputs": [
    {
     "data": {
      "application/vnd.plotly.v1+json": {
       "config": {
        "plotlyServerURL": "https://plot.ly"
       },
       "data": [
        {
         "alignmentgroup": "True",
         "bingroup": "x",
         "hovertemplate": "Cluster=3<br>UF=%{x}<br>count=%{y}<extra></extra>",
         "legendgroup": "3",
         "marker": {
          "color": "#636efa",
          "pattern": {
           "shape": ""
          }
         },
         "name": "3",
         "offsetgroup": "3",
         "orientation": "v",
         "showlegend": true,
         "type": "histogram",
         "x": [
          "RO",
          "RO",
          "RO",
          "RO",
          "RO",
          "RO",
          "RO",
          "RO",
          "RO",
          "RO",
          "RO",
          "RO",
          "RO",
          "RO",
          "RO",
          "RO",
          "RO",
          "RO",
          "RO",
          "RO",
          "RO",
          "AM",
          "AM",
          "AM",
          "AM",
          "AM",
          "AM",
          "AM",
          "PA",
          "PA",
          "PA",
          "PA",
          "PA",
          "PA",
          "PA",
          "PA",
          "PA",
          "PA",
          "PA",
          "PA",
          "PA",
          "PA",
          "PA",
          "PA",
          "PA",
          "PA",
          "PA",
          "PA",
          "PA",
          "PA",
          "PA",
          "PA",
          "PA",
          "PA",
          "PA",
          "PA",
          "PA",
          "PA",
          "PA",
          "PA",
          "PA",
          "PA",
          "PA",
          "PA",
          "PA",
          "PA",
          "PA",
          "PA",
          "PA",
          "PA",
          "PA",
          "PA",
          "PA",
          "AP",
          "AP",
          "AP",
          "AP",
          "AP",
          "AP",
          "AP",
          "AP",
          "AP",
          "AP",
          "AP",
          "AP",
          "TO",
          "TO",
          "TO",
          "TO",
          "TO",
          "TO",
          "TO",
          "MA",
          "PI",
          "PI",
          "PB",
          "SE",
          "BA",
          "BA",
          "BA",
          "BA",
          "BA",
          "BA",
          "BA",
          "BA",
          "BA",
          "BA",
          "BA",
          "BA",
          "BA",
          "BA",
          "BA",
          "BA",
          "BA",
          "BA",
          "BA",
          "BA",
          "BA",
          "BA",
          "BA",
          "MG",
          "MG",
          "MG",
          "MG",
          "MG",
          "MG",
          "MG",
          "MG",
          "MG",
          "MG",
          "MG",
          "MG",
          "MG",
          "MG",
          "MG",
          "MG",
          "MG",
          "MG",
          "MG",
          "MG",
          "MG",
          "MG",
          "MG",
          "MG",
          "MG",
          "MG",
          "MG",
          "MG",
          "MG",
          "MG",
          "MG",
          "MG",
          "MG",
          "MG",
          "MG",
          "MG",
          "MG",
          "MG",
          "MG",
          "MG",
          "MG",
          "MG",
          "MG",
          "MG",
          "MG",
          "MG",
          "MG",
          "MG",
          "MG",
          "MG",
          "MG",
          "MG",
          "MG",
          "MG",
          "MG",
          "MG",
          "MG",
          "MG",
          "MG",
          "MG",
          "MG",
          "MG",
          "MG",
          "MG",
          "MG",
          "MG",
          "MG",
          "MG",
          "MG",
          "MG",
          "MG",
          "MG",
          "MG",
          "MG",
          "MG",
          "MG",
          "MG",
          "MG",
          "MG",
          "MG",
          "MG",
          "MG",
          "MG",
          "MG",
          "MG",
          "MG",
          "MG",
          "MG",
          "MG",
          "MG",
          "MG",
          "MG",
          "MG",
          "MG",
          "MG",
          "MG",
          "MG",
          "MG",
          "MG",
          "MG",
          "MG",
          "MG",
          "MG",
          "MG",
          "MG",
          "MG",
          "MG",
          "MG",
          "MG",
          "MG",
          "MG",
          "MG",
          "MG",
          "MG",
          "MG",
          "MG",
          "MG",
          "MG",
          "MG",
          "MG",
          "MG",
          "MG",
          "MG",
          "MG",
          "MG",
          "MG",
          "MG",
          "MG",
          "MG",
          "MG",
          "MG",
          "MG",
          "MG",
          "MG",
          "MG",
          "MG",
          "MG",
          "MG",
          "MG",
          "MG",
          "MG",
          "MG",
          "MG",
          "MG",
          "MG",
          "RJ",
          "SP",
          "SP",
          "SP",
          "SP",
          "SP",
          "SP",
          "SP",
          "SP",
          "SP",
          "SP",
          "SP",
          "SP",
          "SP",
          "SP",
          "SP",
          "SP",
          "SP",
          "SP",
          "SP",
          "SP",
          "SP",
          "SC",
          "SC",
          "MS",
          "MS",
          "MS",
          "MS",
          "MS",
          "MS",
          "MS",
          "MS",
          "MS",
          "MS",
          "MS",
          "MT",
          "MT",
          "MT",
          "MT",
          "MT",
          "MT",
          "MT",
          "MT",
          "MT",
          "MT",
          "MT",
          "MT",
          "MT",
          "MT",
          "MT",
          "MT",
          "MT",
          "MT",
          "MT",
          "MT",
          "MT",
          "MT",
          "MT",
          "MT",
          "MT",
          "MT",
          "MT",
          "MT",
          "MT",
          "MT",
          "MT",
          "MT",
          "MT",
          "MT",
          "MT",
          "MT",
          "MT",
          "MT",
          "MT",
          "MT",
          "MT",
          "MT",
          "MT",
          "MT",
          "MT",
          "MT",
          "MT",
          "MT",
          "MT",
          "MT",
          "MT",
          "MT",
          "MT",
          "MT",
          "MT",
          "MT",
          "MT",
          "MT",
          "MT",
          "MT",
          "MT",
          "MT",
          "MT",
          "MT",
          "MT",
          "MT",
          "MT",
          "MT",
          "MT",
          "MT",
          "MT",
          "MT",
          "MT",
          "MT",
          "MT",
          "MT",
          "MT",
          "MT",
          "MT",
          "MT",
          "MT",
          "MT",
          "MT",
          "MT",
          "MT",
          "MT",
          "MT",
          "MT",
          "MT",
          "MT",
          "MT",
          "MT",
          "MT",
          "MT",
          "MT",
          "GO",
          "GO",
          "GO",
          "GO",
          "GO",
          "GO",
          "GO",
          "GO",
          "GO",
          "GO",
          "GO",
          "GO"
         ],
         "xaxis": "x",
         "yaxis": "y"
        },
        {
         "alignmentgroup": "True",
         "bingroup": "x",
         "hovertemplate": "Cluster=0<br>UF=%{x}<br>count=%{y}<extra></extra>",
         "legendgroup": "0",
         "marker": {
          "color": "#EF553B",
          "pattern": {
           "shape": ""
          }
         },
         "name": "0",
         "offsetgroup": "0",
         "orientation": "v",
         "showlegend": true,
         "type": "histogram",
         "x": [
          "RO",
          "RO",
          "RO",
          "RO",
          "RO",
          "RO",
          "RO",
          "RO",
          "RO",
          "AM",
          "AM",
          "AM",
          "AM",
          "AM",
          "AM",
          "AM",
          "AM",
          "PA",
          "PA",
          "PA",
          "PA",
          "PA",
          "PA",
          "PA",
          "PA",
          "PA",
          "PA",
          "PA",
          "PA",
          "PA",
          "PA",
          "PA",
          "PA",
          "PA",
          "PA",
          "PA",
          "PA",
          "PA",
          "PA",
          "PA",
          "PA",
          "PA",
          "PA",
          "PA",
          "PA",
          "PA",
          "PA",
          "PA",
          "PA",
          "PA",
          "PA",
          "PA",
          "PA",
          "PA",
          "PA",
          "PA",
          "PA",
          "PA",
          "PA",
          "PA",
          "PA",
          "PA",
          "PA",
          "PA",
          "PA",
          "PA",
          "PA",
          "PA",
          "PA",
          "PA",
          "PA",
          "PA",
          "PA",
          "PA",
          "PA",
          "PA",
          "PA",
          "PA",
          "PA",
          "PA",
          "PA",
          "PA",
          "AP",
          "AP",
          "AP",
          "AP",
          "AP",
          "AP",
          "TO",
          "MA",
          "AL",
          "SE",
          "SE",
          "BA",
          "BA",
          "BA",
          "BA",
          "BA",
          "BA",
          "BA",
          "BA",
          "BA",
          "BA",
          "BA",
          "BA",
          "BA",
          "BA",
          "BA",
          "BA",
          "BA",
          "BA",
          "BA",
          "MG",
          "MG",
          "MG",
          "MG",
          "MG",
          "MG",
          "MG",
          "MG",
          "MG",
          "MG",
          "MG",
          "MG",
          "MG",
          "MG",
          "MG",
          "MG",
          "MG",
          "MG",
          "MG",
          "MG",
          "MG",
          "MG",
          "MG",
          "MG",
          "MG",
          "MG",
          "MG",
          "MG",
          "MG",
          "MG",
          "MG",
          "MG",
          "MG",
          "MG",
          "MG",
          "MG",
          "MG",
          "MG",
          "MG",
          "MG",
          "MG",
          "MG",
          "MG",
          "MG",
          "MG",
          "MG",
          "MG",
          "MG",
          "MG",
          "MG",
          "MG",
          "MG",
          "MG",
          "MG",
          "MG",
          "MG",
          "MG",
          "MG",
          "MG",
          "MG",
          "MG",
          "MG",
          "MG",
          "MG",
          "MG",
          "MG",
          "MG",
          "MG",
          "MG",
          "MG",
          "MG",
          "MG",
          "MG",
          "MG",
          "MG",
          "MG",
          "MG",
          "MG",
          "MG",
          "MG",
          "MG",
          "MG",
          "MG",
          "MG",
          "MG",
          "MG",
          "MG",
          "MG",
          "MG",
          "MG",
          "MG",
          "MG",
          "MG",
          "MG",
          "MG",
          "MG",
          "MG",
          "MG",
          "MG",
          "MG",
          "MG",
          "MG",
          "MG",
          "MG",
          "MG",
          "MG",
          "MG",
          "MG",
          "MG",
          "MG",
          "MG",
          "MG",
          "MG",
          "MG",
          "MG",
          "MG",
          "MG",
          "MG",
          "MG",
          "MG",
          "MG",
          "MG",
          "MG",
          "MG",
          "MG",
          "MG",
          "MG",
          "MG",
          "MG",
          "MG",
          "MG",
          "MG",
          "MG",
          "MG",
          "MG",
          "MG",
          "MG",
          "MG",
          "MG",
          "MG",
          "MG",
          "MG",
          "MG",
          "MG",
          "MG",
          "MG",
          "MG",
          "MG",
          "MG",
          "MG",
          "MG",
          "MG",
          "MG",
          "MG",
          "MG",
          "MG",
          "MG",
          "MG",
          "MG",
          "MG",
          "MG",
          "MG",
          "MG",
          "MG",
          "MG",
          "MG",
          "MG",
          "MG",
          "RJ",
          "SP",
          "SP",
          "SP",
          "SP",
          "SP",
          "SP",
          "SP",
          "SP",
          "SP",
          "SP",
          "SP",
          "PR",
          "PR",
          "PR",
          "SC",
          "SC",
          "SC",
          "SC",
          "SC",
          "SC",
          "SC",
          "SC",
          "RS",
          "RS",
          "RS",
          "MS",
          "MS",
          "MS",
          "MS",
          "MT",
          "MT",
          "MT",
          "MT",
          "MT",
          "MT",
          "MT",
          "MT",
          "MT",
          "MT",
          "MT",
          "MT",
          "MT",
          "MT",
          "MT",
          "MT",
          "MT",
          "MT",
          "MT",
          "MT",
          "MT",
          "MT",
          "MT",
          "MT",
          "MT",
          "MT",
          "MT",
          "MT",
          "MT",
          "MT",
          "MT",
          "MT",
          "MT",
          "MT",
          "MT",
          "MT",
          "MT",
          "MT",
          "MT",
          "MT",
          "MT",
          "MT",
          "MT",
          "MT",
          "MT",
          "MT",
          "MT",
          "GO",
          "GO",
          "GO",
          "GO",
          "GO",
          "GO",
          "GO",
          "GO",
          "GO",
          "GO"
         ],
         "xaxis": "x",
         "yaxis": "y"
        },
        {
         "alignmentgroup": "True",
         "bingroup": "x",
         "hovertemplate": "Cluster=1<br>UF=%{x}<br>count=%{y}<extra></extra>",
         "legendgroup": "1",
         "marker": {
          "color": "#00cc96",
          "pattern": {
           "shape": ""
          }
         },
         "name": "1",
         "offsetgroup": "1",
         "orientation": "v",
         "showlegend": true,
         "type": "histogram",
         "x": [
          "RO",
          "RO",
          "RO",
          "RO",
          "RO",
          "PA",
          "PA",
          "PA",
          "PA",
          "PA",
          "PA",
          "BA",
          "BA",
          "MG",
          "MG",
          "MG",
          "MG",
          "MG",
          "MG",
          "SP",
          "SP",
          "SP",
          "SP",
          "SP",
          "SP",
          "SP",
          "SP",
          "SP",
          "SP",
          "SP",
          "SP",
          "SP",
          "SP",
          "SP",
          "SP",
          "SP",
          "SP",
          "SP",
          "SP",
          "SP",
          "SP",
          "SP",
          "SP",
          "SP",
          "SP",
          "SP",
          "SP",
          "SP",
          "SP",
          "SP",
          "SP",
          "SP",
          "SP",
          "SP",
          "SC",
          "SC",
          "SC",
          "SC",
          "RS",
          "MT",
          "MT",
          "MT",
          "MT",
          "MT",
          "MT",
          "MT",
          "MT",
          "MT",
          "MT",
          "MT",
          "MT",
          "MT",
          "GO",
          "GO",
          "GO",
          "GO",
          "GO"
         ],
         "xaxis": "x",
         "yaxis": "y"
        },
        {
         "alignmentgroup": "True",
         "bingroup": "x",
         "hovertemplate": "Cluster=4<br>UF=%{x}<br>count=%{y}<extra></extra>",
         "legendgroup": "4",
         "marker": {
          "color": "#ab63fa",
          "pattern": {
           "shape": ""
          }
         },
         "name": "4",
         "offsetgroup": "4",
         "orientation": "v",
         "showlegend": true,
         "type": "histogram",
         "x": [
          "BA",
          "BA",
          "BA",
          "BA",
          "BA",
          "BA",
          "BA",
          "BA",
          "BA",
          "BA",
          "BA",
          "BA",
          "BA",
          "BA",
          "BA",
          "BA",
          "BA",
          "BA",
          "BA",
          "BA",
          "BA",
          "BA",
          "BA",
          "BA",
          "BA",
          "BA",
          "BA",
          "BA",
          "BA",
          "BA",
          "BA",
          "BA",
          "BA",
          "BA",
          "BA",
          "BA",
          "BA",
          "BA",
          "BA",
          "BA",
          "BA",
          "BA",
          "MG",
          "MG",
          "MG",
          "SP"
         ],
         "xaxis": "x",
         "yaxis": "y"
        },
        {
         "alignmentgroup": "True",
         "bingroup": "x",
         "hovertemplate": "Cluster=2<br>UF=%{x}<br>count=%{y}<extra></extra>",
         "legendgroup": "2",
         "marker": {
          "color": "#FFA15A",
          "pattern": {
           "shape": ""
          }
         },
         "name": "2",
         "offsetgroup": "2",
         "orientation": "v",
         "showlegend": true,
         "type": "histogram",
         "x": [
          "MG",
          "MG",
          "MG",
          "MG",
          "MG",
          "MG",
          "MG",
          "MG",
          "MG",
          "MG",
          "RS"
         ],
         "xaxis": "x",
         "yaxis": "y"
        }
       ],
       "layout": {
        "barmode": "relative",
        "legend": {
         "title": {
          "text": "Cluster"
         },
         "tracegroupgap": 0
        },
        "margin": {
         "t": 60
        },
        "template": {
         "data": {
          "bar": [
           {
            "error_x": {
             "color": "#2a3f5f"
            },
            "error_y": {
             "color": "#2a3f5f"
            },
            "marker": {
             "line": {
              "color": "#E5ECF6",
              "width": 0.5
             },
             "pattern": {
              "fillmode": "overlay",
              "size": 10,
              "solidity": 0.2
             }
            },
            "type": "bar"
           }
          ],
          "barpolar": [
           {
            "marker": {
             "line": {
              "color": "#E5ECF6",
              "width": 0.5
             },
             "pattern": {
              "fillmode": "overlay",
              "size": 10,
              "solidity": 0.2
             }
            },
            "type": "barpolar"
           }
          ],
          "carpet": [
           {
            "aaxis": {
             "endlinecolor": "#2a3f5f",
             "gridcolor": "white",
             "linecolor": "white",
             "minorgridcolor": "white",
             "startlinecolor": "#2a3f5f"
            },
            "baxis": {
             "endlinecolor": "#2a3f5f",
             "gridcolor": "white",
             "linecolor": "white",
             "minorgridcolor": "white",
             "startlinecolor": "#2a3f5f"
            },
            "type": "carpet"
           }
          ],
          "choropleth": [
           {
            "colorbar": {
             "outlinewidth": 0,
             "ticks": ""
            },
            "type": "choropleth"
           }
          ],
          "contour": [
           {
            "colorbar": {
             "outlinewidth": 0,
             "ticks": ""
            },
            "colorscale": [
             [
              0,
              "#0d0887"
             ],
             [
              0.1111111111111111,
              "#46039f"
             ],
             [
              0.2222222222222222,
              "#7201a8"
             ],
             [
              0.3333333333333333,
              "#9c179e"
             ],
             [
              0.4444444444444444,
              "#bd3786"
             ],
             [
              0.5555555555555556,
              "#d8576b"
             ],
             [
              0.6666666666666666,
              "#ed7953"
             ],
             [
              0.7777777777777778,
              "#fb9f3a"
             ],
             [
              0.8888888888888888,
              "#fdca26"
             ],
             [
              1,
              "#f0f921"
             ]
            ],
            "type": "contour"
           }
          ],
          "contourcarpet": [
           {
            "colorbar": {
             "outlinewidth": 0,
             "ticks": ""
            },
            "type": "contourcarpet"
           }
          ],
          "heatmap": [
           {
            "colorbar": {
             "outlinewidth": 0,
             "ticks": ""
            },
            "colorscale": [
             [
              0,
              "#0d0887"
             ],
             [
              0.1111111111111111,
              "#46039f"
             ],
             [
              0.2222222222222222,
              "#7201a8"
             ],
             [
              0.3333333333333333,
              "#9c179e"
             ],
             [
              0.4444444444444444,
              "#bd3786"
             ],
             [
              0.5555555555555556,
              "#d8576b"
             ],
             [
              0.6666666666666666,
              "#ed7953"
             ],
             [
              0.7777777777777778,
              "#fb9f3a"
             ],
             [
              0.8888888888888888,
              "#fdca26"
             ],
             [
              1,
              "#f0f921"
             ]
            ],
            "type": "heatmap"
           }
          ],
          "heatmapgl": [
           {
            "colorbar": {
             "outlinewidth": 0,
             "ticks": ""
            },
            "colorscale": [
             [
              0,
              "#0d0887"
             ],
             [
              0.1111111111111111,
              "#46039f"
             ],
             [
              0.2222222222222222,
              "#7201a8"
             ],
             [
              0.3333333333333333,
              "#9c179e"
             ],
             [
              0.4444444444444444,
              "#bd3786"
             ],
             [
              0.5555555555555556,
              "#d8576b"
             ],
             [
              0.6666666666666666,
              "#ed7953"
             ],
             [
              0.7777777777777778,
              "#fb9f3a"
             ],
             [
              0.8888888888888888,
              "#fdca26"
             ],
             [
              1,
              "#f0f921"
             ]
            ],
            "type": "heatmapgl"
           }
          ],
          "histogram": [
           {
            "marker": {
             "pattern": {
              "fillmode": "overlay",
              "size": 10,
              "solidity": 0.2
             }
            },
            "type": "histogram"
           }
          ],
          "histogram2d": [
           {
            "colorbar": {
             "outlinewidth": 0,
             "ticks": ""
            },
            "colorscale": [
             [
              0,
              "#0d0887"
             ],
             [
              0.1111111111111111,
              "#46039f"
             ],
             [
              0.2222222222222222,
              "#7201a8"
             ],
             [
              0.3333333333333333,
              "#9c179e"
             ],
             [
              0.4444444444444444,
              "#bd3786"
             ],
             [
              0.5555555555555556,
              "#d8576b"
             ],
             [
              0.6666666666666666,
              "#ed7953"
             ],
             [
              0.7777777777777778,
              "#fb9f3a"
             ],
             [
              0.8888888888888888,
              "#fdca26"
             ],
             [
              1,
              "#f0f921"
             ]
            ],
            "type": "histogram2d"
           }
          ],
          "histogram2dcontour": [
           {
            "colorbar": {
             "outlinewidth": 0,
             "ticks": ""
            },
            "colorscale": [
             [
              0,
              "#0d0887"
             ],
             [
              0.1111111111111111,
              "#46039f"
             ],
             [
              0.2222222222222222,
              "#7201a8"
             ],
             [
              0.3333333333333333,
              "#9c179e"
             ],
             [
              0.4444444444444444,
              "#bd3786"
             ],
             [
              0.5555555555555556,
              "#d8576b"
             ],
             [
              0.6666666666666666,
              "#ed7953"
             ],
             [
              0.7777777777777778,
              "#fb9f3a"
             ],
             [
              0.8888888888888888,
              "#fdca26"
             ],
             [
              1,
              "#f0f921"
             ]
            ],
            "type": "histogram2dcontour"
           }
          ],
          "mesh3d": [
           {
            "colorbar": {
             "outlinewidth": 0,
             "ticks": ""
            },
            "type": "mesh3d"
           }
          ],
          "parcoords": [
           {
            "line": {
             "colorbar": {
              "outlinewidth": 0,
              "ticks": ""
             }
            },
            "type": "parcoords"
           }
          ],
          "pie": [
           {
            "automargin": true,
            "type": "pie"
           }
          ],
          "scatter": [
           {
            "fillpattern": {
             "fillmode": "overlay",
             "size": 10,
             "solidity": 0.2
            },
            "type": "scatter"
           }
          ],
          "scatter3d": [
           {
            "line": {
             "colorbar": {
              "outlinewidth": 0,
              "ticks": ""
             }
            },
            "marker": {
             "colorbar": {
              "outlinewidth": 0,
              "ticks": ""
             }
            },
            "type": "scatter3d"
           }
          ],
          "scattercarpet": [
           {
            "marker": {
             "colorbar": {
              "outlinewidth": 0,
              "ticks": ""
             }
            },
            "type": "scattercarpet"
           }
          ],
          "scattergeo": [
           {
            "marker": {
             "colorbar": {
              "outlinewidth": 0,
              "ticks": ""
             }
            },
            "type": "scattergeo"
           }
          ],
          "scattergl": [
           {
            "marker": {
             "colorbar": {
              "outlinewidth": 0,
              "ticks": ""
             }
            },
            "type": "scattergl"
           }
          ],
          "scattermapbox": [
           {
            "marker": {
             "colorbar": {
              "outlinewidth": 0,
              "ticks": ""
             }
            },
            "type": "scattermapbox"
           }
          ],
          "scatterpolar": [
           {
            "marker": {
             "colorbar": {
              "outlinewidth": 0,
              "ticks": ""
             }
            },
            "type": "scatterpolar"
           }
          ],
          "scatterpolargl": [
           {
            "marker": {
             "colorbar": {
              "outlinewidth": 0,
              "ticks": ""
             }
            },
            "type": "scatterpolargl"
           }
          ],
          "scatterternary": [
           {
            "marker": {
             "colorbar": {
              "outlinewidth": 0,
              "ticks": ""
             }
            },
            "type": "scatterternary"
           }
          ],
          "surface": [
           {
            "colorbar": {
             "outlinewidth": 0,
             "ticks": ""
            },
            "colorscale": [
             [
              0,
              "#0d0887"
             ],
             [
              0.1111111111111111,
              "#46039f"
             ],
             [
              0.2222222222222222,
              "#7201a8"
             ],
             [
              0.3333333333333333,
              "#9c179e"
             ],
             [
              0.4444444444444444,
              "#bd3786"
             ],
             [
              0.5555555555555556,
              "#d8576b"
             ],
             [
              0.6666666666666666,
              "#ed7953"
             ],
             [
              0.7777777777777778,
              "#fb9f3a"
             ],
             [
              0.8888888888888888,
              "#fdca26"
             ],
             [
              1,
              "#f0f921"
             ]
            ],
            "type": "surface"
           }
          ],
          "table": [
           {
            "cells": {
             "fill": {
              "color": "#EBF0F8"
             },
             "line": {
              "color": "white"
             }
            },
            "header": {
             "fill": {
              "color": "#C8D4E3"
             },
             "line": {
              "color": "white"
             }
            },
            "type": "table"
           }
          ]
         },
         "layout": {
          "annotationdefaults": {
           "arrowcolor": "#2a3f5f",
           "arrowhead": 0,
           "arrowwidth": 1
          },
          "autotypenumbers": "strict",
          "coloraxis": {
           "colorbar": {
            "outlinewidth": 0,
            "ticks": ""
           }
          },
          "colorscale": {
           "diverging": [
            [
             0,
             "#8e0152"
            ],
            [
             0.1,
             "#c51b7d"
            ],
            [
             0.2,
             "#de77ae"
            ],
            [
             0.3,
             "#f1b6da"
            ],
            [
             0.4,
             "#fde0ef"
            ],
            [
             0.5,
             "#f7f7f7"
            ],
            [
             0.6,
             "#e6f5d0"
            ],
            [
             0.7,
             "#b8e186"
            ],
            [
             0.8,
             "#7fbc41"
            ],
            [
             0.9,
             "#4d9221"
            ],
            [
             1,
             "#276419"
            ]
           ],
           "sequential": [
            [
             0,
             "#0d0887"
            ],
            [
             0.1111111111111111,
             "#46039f"
            ],
            [
             0.2222222222222222,
             "#7201a8"
            ],
            [
             0.3333333333333333,
             "#9c179e"
            ],
            [
             0.4444444444444444,
             "#bd3786"
            ],
            [
             0.5555555555555556,
             "#d8576b"
            ],
            [
             0.6666666666666666,
             "#ed7953"
            ],
            [
             0.7777777777777778,
             "#fb9f3a"
            ],
            [
             0.8888888888888888,
             "#fdca26"
            ],
            [
             1,
             "#f0f921"
            ]
           ],
           "sequentialminus": [
            [
             0,
             "#0d0887"
            ],
            [
             0.1111111111111111,
             "#46039f"
            ],
            [
             0.2222222222222222,
             "#7201a8"
            ],
            [
             0.3333333333333333,
             "#9c179e"
            ],
            [
             0.4444444444444444,
             "#bd3786"
            ],
            [
             0.5555555555555556,
             "#d8576b"
            ],
            [
             0.6666666666666666,
             "#ed7953"
            ],
            [
             0.7777777777777778,
             "#fb9f3a"
            ],
            [
             0.8888888888888888,
             "#fdca26"
            ],
            [
             1,
             "#f0f921"
            ]
           ]
          },
          "colorway": [
           "#636efa",
           "#EF553B",
           "#00cc96",
           "#ab63fa",
           "#FFA15A",
           "#19d3f3",
           "#FF6692",
           "#B6E880",
           "#FF97FF",
           "#FECB52"
          ],
          "font": {
           "color": "#2a3f5f"
          },
          "geo": {
           "bgcolor": "white",
           "lakecolor": "white",
           "landcolor": "#E5ECF6",
           "showlakes": true,
           "showland": true,
           "subunitcolor": "white"
          },
          "hoverlabel": {
           "align": "left"
          },
          "hovermode": "closest",
          "mapbox": {
           "style": "light"
          },
          "paper_bgcolor": "white",
          "plot_bgcolor": "#E5ECF6",
          "polar": {
           "angularaxis": {
            "gridcolor": "white",
            "linecolor": "white",
            "ticks": ""
           },
           "bgcolor": "#E5ECF6",
           "radialaxis": {
            "gridcolor": "white",
            "linecolor": "white",
            "ticks": ""
           }
          },
          "scene": {
           "xaxis": {
            "backgroundcolor": "#E5ECF6",
            "gridcolor": "white",
            "gridwidth": 2,
            "linecolor": "white",
            "showbackground": true,
            "ticks": "",
            "zerolinecolor": "white"
           },
           "yaxis": {
            "backgroundcolor": "#E5ECF6",
            "gridcolor": "white",
            "gridwidth": 2,
            "linecolor": "white",
            "showbackground": true,
            "ticks": "",
            "zerolinecolor": "white"
           },
           "zaxis": {
            "backgroundcolor": "#E5ECF6",
            "gridcolor": "white",
            "gridwidth": 2,
            "linecolor": "white",
            "showbackground": true,
            "ticks": "",
            "zerolinecolor": "white"
           }
          },
          "shapedefaults": {
           "line": {
            "color": "#2a3f5f"
           }
          },
          "ternary": {
           "aaxis": {
            "gridcolor": "white",
            "linecolor": "white",
            "ticks": ""
           },
           "baxis": {
            "gridcolor": "white",
            "linecolor": "white",
            "ticks": ""
           },
           "bgcolor": "#E5ECF6",
           "caxis": {
            "gridcolor": "white",
            "linecolor": "white",
            "ticks": ""
           }
          },
          "title": {
           "x": 0.05
          },
          "xaxis": {
           "automargin": true,
           "gridcolor": "white",
           "linecolor": "white",
           "ticks": "",
           "title": {
            "standoff": 15
           },
           "zerolinecolor": "white",
           "zerolinewidth": 2
          },
          "yaxis": {
           "automargin": true,
           "gridcolor": "white",
           "linecolor": "white",
           "ticks": "",
           "title": {
            "standoff": 15
           },
           "zerolinecolor": "white",
           "zerolinewidth": 2
          }
         }
        },
        "xaxis": {
         "anchor": "y",
         "domain": [
          0,
          1
         ],
         "title": {
          "text": "UF"
         }
        },
        "yaxis": {
         "anchor": "x",
         "domain": [
          0,
          1
         ],
         "title": {
          "text": "count"
         }
        }
       }
      }
     },
     "metadata": {},
     "output_type": "display_data"
    }
   ],
   "source": [
    "px.histogram(barragem,x='UF',color='Cluster')"
   ]
  },
  {
   "cell_type": "code",
   "execution_count": 46,
   "metadata": {},
   "outputs": [
    {
     "data": {
      "application/vnd.plotly.v1+json": {
       "config": {
        "plotlyServerURL": "https://plot.ly"
       },
       "data": [
        {
         "customdata": [
          [
           "Média",
           "Baixa"
          ],
          [
           "Média",
           "Baixa"
          ],
          [
           "Média",
           "Baixa"
          ],
          [
           "Média",
           "Baixa"
          ],
          [
           "Média",
           "Baixa"
          ],
          [
           "Média",
           "Baixa"
          ],
          [
           "Média",
           "Baixa"
          ],
          [
           "Média",
           "Baixa"
          ],
          [
           "Média",
           "Baixa"
          ],
          [
           "Média",
           "Baixa"
          ],
          [
           "Média",
           "Baixa"
          ],
          [
           "Média",
           "Baixa"
          ],
          [
           "Média",
           "Baixa"
          ],
          [
           "Média",
           "Baixa"
          ],
          [
           "Média",
           "Baixa"
          ],
          [
           "Baixa",
           "Baixa"
          ],
          [
           "Baixa",
           "Baixa"
          ],
          [
           "Baixa",
           "Baixa"
          ],
          [
           "Média",
           "Baixa"
          ],
          [
           "Média",
           "Baixa"
          ],
          [
           "Média",
           "Baixa"
          ],
          [
           "Média",
           "Baixa"
          ],
          [
           "Média",
           "Baixa"
          ],
          [
           "Média",
           "Baixa"
          ],
          [
           "Média",
           "Baixa"
          ],
          [
           "Média",
           "Baixa"
          ],
          [
           "Média",
           "Baixa"
          ],
          [
           "Média",
           "Baixa"
          ],
          [
           "Baixa",
           "Baixa"
          ],
          [
           "Média",
           "Baixa"
          ],
          [
           "Baixa",
           "Baixa"
          ],
          [
           "Média",
           "Baixa"
          ],
          [
           "Média",
           "Baixa"
          ],
          [
           "Média",
           "Baixa"
          ],
          [
           "Baixa",
           "Baixa"
          ],
          [
           "Baixa",
           "Baixa"
          ],
          [
           "Baixa",
           "Baixa"
          ],
          [
           "Baixa",
           "Baixa"
          ],
          [
           "Baixa",
           "Baixa"
          ],
          [
           "Baixa",
           "Baixa"
          ],
          [
           "Baixa",
           "Baixa"
          ],
          [
           "Não se aplica",
           "Não se aplica"
          ],
          [
           "Baixa",
           "Baixa"
          ],
          [
           "Baixa",
           "Baixa"
          ],
          [
           "Média",
           "Baixa"
          ],
          [
           "Baixa",
           "Baixa"
          ],
          [
           "Média",
           "Baixa"
          ],
          [
           "Média",
           "Baixa"
          ],
          [
           "Baixa",
           "Baixa"
          ],
          [
           "Não se aplica",
           "Não se aplica"
          ],
          [
           "Não se aplica",
           "Não se aplica"
          ],
          [
           "Baixa",
           "Baixa"
          ],
          [
           "Baixa",
           "Baixa"
          ],
          [
           "Alta",
           "Baixa"
          ],
          [
           "Não se aplica",
           "Não se aplica"
          ],
          [
           "Não se aplica",
           "Não se aplica"
          ],
          [
           "Não se aplica",
           "Não se aplica"
          ],
          [
           "Não se aplica",
           "Não se aplica"
          ],
          [
           "Baixa",
           "Baixa"
          ],
          [
           "Baixa",
           "Baixa"
          ],
          [
           "Não se aplica",
           "Não se aplica"
          ],
          [
           "Baixa",
           "Baixa"
          ],
          [
           "Baixa",
           "Baixa"
          ],
          [
           "Baixa",
           "Baixa"
          ],
          [
           "Baixa",
           "Baixa"
          ],
          [
           "Média",
           "Baixa"
          ],
          [
           "Baixa",
           "Baixa"
          ],
          [
           "Baixa",
           "Baixa"
          ],
          [
           "Baixa",
           "Baixa"
          ],
          [
           "Baixa",
           "Baixa"
          ],
          [
           "Média",
           "Baixa"
          ],
          [
           "Média",
           "Baixa"
          ],
          [
           "Baixa",
           "Baixa"
          ],
          [
           "Média",
           "Baixa"
          ],
          [
           "Média",
           "Baixa"
          ],
          [
           "Média",
           "Baixa"
          ],
          [
           "Média",
           "Baixa"
          ],
          [
           "Média",
           "Baixa"
          ],
          [
           "Média",
           "Baixa"
          ],
          [
           "Baixa",
           "Baixa"
          ],
          [
           "Média",
           "Baixa"
          ],
          [
           "Média",
           "Baixa"
          ],
          [
           "Média",
           "Baixa"
          ],
          [
           "Média",
           "Baixa"
          ],
          [
           "Média",
           "Baixa"
          ],
          [
           "Baixa",
           "Baixa"
          ],
          [
           "Baixa",
           "Baixa"
          ],
          [
           "Média",
           "Baixa"
          ],
          [
           "Baixa",
           "Baixa"
          ],
          [
           "Baixa",
           "Baixa"
          ],
          [
           "Baixa",
           "Baixa"
          ],
          [
           "Média",
           "Baixa"
          ],
          [
           "Média",
           "Baixa"
          ],
          [
           "Média",
           "Baixa"
          ],
          [
           "Média",
           "Baixa"
          ],
          [
           "Média",
           "Baixa"
          ],
          [
           "Baixa",
           "Baixa"
          ],
          [
           "Média",
           "Baixa"
          ],
          [
           "Média",
           "Baixa"
          ],
          [
           "Média",
           "Baixa"
          ],
          [
           "Média",
           "Baixa"
          ],
          [
           "Média",
           "Baixa"
          ],
          [
           "Média",
           "Baixa"
          ],
          [
           "Alta",
           "Baixa"
          ],
          [
           "Média",
           "Baixa"
          ],
          [
           "Média",
           "Baixa"
          ],
          [
           "Média",
           "Baixa"
          ],
          [
           "Baixa",
           "Baixa"
          ],
          [
           "Baixa",
           "Baixa"
          ],
          [
           "Baixa",
           "Baixa"
          ],
          [
           "Baixa",
           "Baixa"
          ],
          [
           "Baixa",
           "Baixa"
          ],
          [
           "Baixa",
           "Baixa"
          ],
          [
           "Não se aplica",
           "Não se aplica"
          ],
          [
           "Não se aplica",
           "Não se aplica"
          ],
          [
           "Média",
           "Baixa"
          ],
          [
           "Média",
           "Baixa"
          ],
          [
           "Média",
           "Baixa"
          ],
          [
           "Média",
           "Baixa"
          ],
          [
           "Média",
           "Baixa"
          ],
          [
           "Média",
           "Baixa"
          ],
          [
           "Média",
           "Baixa"
          ],
          [
           "Média",
           "Baixa"
          ],
          [
           "Baixa",
           "Baixa"
          ],
          [
           "Baixa",
           "Baixa"
          ],
          [
           "Baixa",
           "Baixa"
          ],
          [
           "Baixa",
           "Baixa"
          ],
          [
           "Baixa",
           "Baixa"
          ],
          [
           "Baixa",
           "Baixa"
          ],
          [
           "Média",
           "Baixa"
          ],
          [
           "Média",
           "Baixa"
          ],
          [
           "Média",
           "Baixa"
          ],
          [
           "Baixa",
           "Baixa"
          ],
          [
           "Média",
           "Baixa"
          ],
          [
           "Média",
           "Baixa"
          ],
          [
           "Média",
           "Baixa"
          ],
          [
           "Média",
           "Baixa"
          ],
          [
           "Média",
           "Baixa"
          ],
          [
           "Média",
           "Baixa"
          ],
          [
           "Baixa",
           "Baixa"
          ],
          [
           "Baixa",
           "Baixa"
          ],
          [
           "Baixa",
           "Baixa"
          ],
          [
           "Média",
           "Baixa"
          ],
          [
           "Média",
           "Baixa"
          ],
          [
           "Média",
           "Baixa"
          ],
          [
           "Baixa",
           "Baixa"
          ],
          [
           "Média",
           "Baixa"
          ],
          [
           "Média",
           "Baixa"
          ],
          [
           "Baixa",
           "Baixa"
          ],
          [
           "Média",
           "Baixa"
          ],
          [
           "Baixa",
           "Baixa"
          ],
          [
           "Baixa",
           "Baixa"
          ],
          [
           "Média",
           "Baixa"
          ],
          [
           "Média",
           "Baixa"
          ],
          [
           "Média",
           "Baixa"
          ],
          [
           "Média",
           "Baixa"
          ],
          [
           "Média",
           "Baixa"
          ],
          [
           "Média",
           "Baixa"
          ],
          [
           "Média",
           "Baixa"
          ],
          [
           "Média",
           "Baixa"
          ],
          [
           "Média",
           "Baixa"
          ],
          [
           "Não se aplica",
           "Não se aplica"
          ],
          [
           "Média",
           "Baixa"
          ],
          [
           "Média",
           "Baixa"
          ],
          [
           "Média",
           "Baixa"
          ],
          [
           "Média",
           "Baixa"
          ],
          [
           "Baixa",
           "Baixa"
          ],
          [
           "Baixa",
           "Baixa"
          ],
          [
           "Baixa",
           "Baixa"
          ],
          [
           "Média",
           "Baixa"
          ],
          [
           "Média",
           "Baixa"
          ],
          [
           "Média",
           "Baixa"
          ],
          [
           "Baixa",
           "Baixa"
          ],
          [
           "Média",
           "Baixa"
          ],
          [
           "Baixa",
           "Baixa"
          ],
          [
           "Baixa",
           "Baixa"
          ],
          [
           "Baixa",
           "Baixa"
          ],
          [
           "Média",
           "Baixa"
          ],
          [
           "Média",
           "Baixa"
          ],
          [
           "Média",
           "Baixa"
          ],
          [
           "Média",
           "Baixa"
          ],
          [
           "Média",
           "Baixa"
          ],
          [
           "Baixa",
           "Baixa"
          ],
          [
           "Média",
           "Baixa"
          ],
          [
           "Média",
           "Baixa"
          ],
          [
           "Média",
           "Baixa"
          ],
          [
           "Baixa",
           "Baixa"
          ],
          [
           "Média",
           "Baixa"
          ],
          [
           "Baixa",
           "Baixa"
          ],
          [
           "Baixa",
           "Baixa"
          ],
          [
           "Média",
           "Baixa"
          ],
          [
           "Média",
           "Baixa"
          ],
          [
           "Média",
           "Baixa"
          ],
          [
           "Baixa",
           "Baixa"
          ],
          [
           "Baixa",
           "Baixa"
          ],
          [
           "Baixa",
           "Baixa"
          ],
          [
           "Média",
           "Baixa"
          ],
          [
           "Média",
           "Baixa"
          ],
          [
           "Baixa",
           "Baixa"
          ],
          [
           "Média",
           "Baixa"
          ],
          [
           "Baixa",
           "Baixa"
          ],
          [
           "Média",
           "Baixa"
          ],
          [
           "Média",
           "Baixa"
          ],
          [
           "Média",
           "Baixa"
          ],
          [
           "Média",
           "Baixa"
          ],
          [
           "Média",
           "Baixa"
          ],
          [
           "Baixa",
           "Baixa"
          ],
          [
           "Baixa",
           "Baixa"
          ],
          [
           "Média",
           "Baixa"
          ],
          [
           "Média",
           "Baixa"
          ],
          [
           "Baixa",
           "Baixa"
          ],
          [
           "Baixa",
           "Baixa"
          ],
          [
           "Baixa",
           "Baixa"
          ],
          [
           "Baixa",
           "Baixa"
          ],
          [
           "Média",
           "Baixa"
          ],
          [
           "Média",
           "Baixa"
          ],
          [
           "Baixa",
           "Baixa"
          ],
          [
           "Média",
           "Baixa"
          ],
          [
           "Média",
           "Baixa"
          ],
          [
           "Média",
           "Baixa"
          ],
          [
           "Média",
           "Baixa"
          ],
          [
           "Média",
           "Baixa"
          ],
          [
           "Média",
           "Baixa"
          ],
          [
           "Média",
           "Baixa"
          ],
          [
           "Média",
           "Baixa"
          ],
          [
           "Média",
           "Baixa"
          ],
          [
           "Média",
           "Baixa"
          ],
          [
           "Média",
           "Baixa"
          ],
          [
           "Baixa",
           "Baixa"
          ],
          [
           "Baixa",
           "Baixa"
          ],
          [
           "Média",
           "Baixa"
          ],
          [
           "Média",
           "Baixa"
          ],
          [
           "Média",
           "Baixa"
          ],
          [
           "Média",
           "Baixa"
          ],
          [
           "Baixa",
           "Baixa"
          ],
          [
           "Média",
           "Baixa"
          ],
          [
           "Baixa",
           "Baixa"
          ],
          [
           "Baixa",
           "Baixa"
          ],
          [
           "Média",
           "Baixa"
          ],
          [
           "Média",
           "Baixa"
          ],
          [
           "Média",
           "Baixa"
          ],
          [
           "Média",
           "Baixa"
          ],
          [
           "Baixa",
           "Baixa"
          ],
          [
           "Média",
           "Baixa"
          ],
          [
           "Baixa",
           "Baixa"
          ],
          [
           "Baixa",
           "Baixa"
          ],
          [
           "Baixa",
           "Baixa"
          ],
          [
           "Baixa",
           "Baixa"
          ],
          [
           "Média",
           "Baixa"
          ],
          [
           "Baixa",
           "Baixa"
          ],
          [
           "Baixa",
           "Baixa"
          ],
          [
           "Baixa",
           "Baixa"
          ],
          [
           "Baixa",
           "Baixa"
          ],
          [
           "Média",
           "Baixa"
          ],
          [
           "Média",
           "Baixa"
          ],
          [
           "Média",
           "Baixa"
          ],
          [
           "Média",
           "Baixa"
          ],
          [
           "Média",
           "Baixa"
          ],
          [
           "Média",
           "Baixa"
          ],
          [
           "Média",
           "Baixa"
          ],
          [
           "Baixa",
           "Baixa"
          ],
          [
           "Baixa",
           "Baixa"
          ],
          [
           "Baixa",
           "Baixa"
          ],
          [
           "Baixa",
           "Baixa"
          ],
          [
           "Baixa",
           "Baixa"
          ],
          [
           "Média",
           "Baixa"
          ],
          [
           "Média",
           "Baixa"
          ],
          [
           "Média",
           "Baixa"
          ],
          [
           "Média",
           "Baixa"
          ],
          [
           "Média",
           "Baixa"
          ],
          [
           "Média",
           "Baixa"
          ],
          [
           "Média",
           "Baixa"
          ],
          [
           "Média",
           "Baixa"
          ],
          [
           "Média",
           "Baixa"
          ],
          [
           "Média",
           "Baixa"
          ],
          [
           "Média",
           "Baixa"
          ],
          [
           "Baixa",
           "Baixa"
          ],
          [
           "Baixa",
           "Baixa"
          ],
          [
           "Média",
           "Baixa"
          ],
          [
           "Média",
           "Baixa"
          ],
          [
           "Baixa",
           "Baixa"
          ],
          [
           "Média",
           "Baixa"
          ],
          [
           "Média",
           "Baixa"
          ],
          [
           "Média",
           "Baixa"
          ],
          [
           "Média",
           "Baixa"
          ],
          [
           "Média",
           "Baixa"
          ],
          [
           "Média",
           "Baixa"
          ],
          [
           "Média",
           "Baixa"
          ],
          [
           "Média",
           "Baixa"
          ],
          [
           "Média",
           "Baixa"
          ],
          [
           "Média",
           "Baixa"
          ],
          [
           "Média",
           "Baixa"
          ],
          [
           "Média",
           "Baixa"
          ],
          [
           "Média",
           "Baixa"
          ],
          [
           "Média",
           "Baixa"
          ],
          [
           "Média",
           "Baixa"
          ],
          [
           "Média",
           "Baixa"
          ],
          [
           "Média",
           "Baixa"
          ],
          [
           "Média",
           "Baixa"
          ],
          [
           "Média",
           "Baixa"
          ],
          [
           "Não se aplica",
           "Não se aplica"
          ],
          [
           "Média",
           "Baixa"
          ],
          [
           "Média",
           "Baixa"
          ],
          [
           "Não se aplica",
           "Não se aplica"
          ],
          [
           "Baixa",
           "Baixa"
          ],
          [
           "Não se aplica",
           "Não se aplica"
          ],
          [
           "Não se aplica",
           "Não se aplica"
          ],
          [
           "Média",
           "Baixa"
          ],
          [
           "Não se aplica",
           "Não se aplica"
          ],
          [
           "Média",
           "Baixa"
          ],
          [
           "Média",
           "Baixa"
          ],
          [
           "Média",
           "Baixa"
          ],
          [
           "Não se aplica",
           "Não se aplica"
          ],
          [
           "Média",
           "Baixa"
          ],
          [
           "Baixa",
           "Baixa"
          ],
          [
           "Não se aplica",
           "Não se aplica"
          ],
          [
           "Média",
           "Baixa"
          ],
          [
           "Média",
           "Baixa"
          ],
          [
           "Alta",
           "Baixa"
          ],
          [
           "Baixa",
           "Baixa"
          ],
          [
           "Baixa",
           "Baixa"
          ],
          [
           "Não se aplica",
           "Não se aplica"
          ],
          [
           "Média",
           "Baixa"
          ],
          [
           "Baixa",
           "Baixa"
          ],
          [
           "Não se aplica",
           "Não se aplica"
          ],
          [
           "Não se aplica",
           "Não se aplica"
          ],
          [
           "Não se aplica",
           "Não se aplica"
          ],
          [
           "Não se aplica",
           "Não se aplica"
          ],
          [
           "Não se aplica",
           "Não se aplica"
          ],
          [
           "Baixa",
           "Baixa"
          ],
          [
           "Média",
           "Baixa"
          ],
          [
           "Não se aplica",
           "Não se aplica"
          ],
          [
           "Não se aplica",
           "Não se aplica"
          ],
          [
           "Não se aplica",
           "Não se aplica"
          ],
          [
           "Não se aplica",
           "Não se aplica"
          ],
          [
           "Não se aplica",
           "Não se aplica"
          ],
          [
           "Média",
           "Baixa"
          ],
          [
           "Média",
           "Baixa"
          ],
          [
           "Baixa",
           "Baixa"
          ],
          [
           "Não se aplica",
           "Não se aplica"
          ],
          [
           "Não se aplica",
           "Não se aplica"
          ],
          [
           "Não se aplica",
           "Não se aplica"
          ],
          [
           "Média",
           "Baixa"
          ],
          [
           "Não se aplica",
           "Não se aplica"
          ],
          [
           "Baixa",
           "Baixa"
          ],
          [
           "Baixa",
           "Baixa"
          ],
          [
           "Média",
           "Baixa"
          ],
          [
           "Média",
           "Baixa"
          ],
          [
           "Média",
           "Baixa"
          ],
          [
           "Não se aplica",
           "Não se aplica"
          ],
          [
           "Alta",
           "Baixa"
          ],
          [
           "Média",
           "Baixa"
          ],
          [
           "Média",
           "Baixa"
          ],
          [
           "Não se aplica",
           "Não se aplica"
          ],
          [
           "Não se aplica",
           "Não se aplica"
          ],
          [
           "Não se aplica",
           "Não se aplica"
          ],
          [
           "Baixa",
           "Baixa"
          ],
          [
           "Baixa",
           "Baixa"
          ],
          [
           "Baixa",
           "Baixa"
          ],
          [
           "Baixa",
           "Baixa"
          ],
          [
           "Baixa",
           "Baixa"
          ],
          [
           "Baixa",
           "Baixa"
          ],
          [
           "Média",
           "Baixa"
          ],
          [
           "Baixa",
           "Baixa"
          ],
          [
           "Baixa",
           "Baixa"
          ],
          [
           "Baixa",
           "Baixa"
          ],
          [
           "Média",
           "Baixa"
          ],
          [
           "Baixa",
           "Baixa"
          ],
          [
           "Média",
           "Baixa"
          ],
          [
           "Média",
           "Baixa"
          ],
          [
           "Não se aplica",
           "Não se aplica"
          ],
          [
           "Baixa",
           "Baixa"
          ],
          [
           "Alta",
           "Baixa"
          ],
          [
           "Não se aplica",
           "Não se aplica"
          ],
          [
           "Baixa",
           "Baixa"
          ],
          [
           "Não se aplica",
           "Não se aplica"
          ],
          [
           "Não se aplica",
           "Não se aplica"
          ],
          [
           "Média",
           "Baixa"
          ],
          [
           "Baixa",
           "Baixa"
          ],
          [
           "Baixa",
           "Baixa"
          ],
          [
           "Baixa",
           "Baixa"
          ],
          [
           "Baixa",
           "Baixa"
          ],
          [
           "Não se aplica",
           "Não se aplica"
          ],
          [
           "Média",
           "Baixa"
          ],
          [
           "Média",
           "Baixa"
          ],
          [
           "Média",
           "Baixa"
          ],
          [
           "Média",
           "Baixa"
          ],
          [
           "Baixa",
           "Baixa"
          ],
          [
           "Baixa",
           "Baixa"
          ],
          [
           "Média",
           "Baixa"
          ],
          [
           "Média",
           "Baixa"
          ],
          [
           "Não se aplica",
           "Não se aplica"
          ],
          [
           "Não se aplica",
           "Não se aplica"
          ],
          [
           "Baixa",
           "Baixa"
          ],
          [
           "Média",
           "Baixa"
          ],
          [
           "Média",
           "Baixa"
          ],
          [
           "Média",
           "Baixa"
          ],
          [
           "Média",
           "Baixa"
          ],
          [
           "Média",
           "Baixa"
          ],
          [
           "Média",
           "Baixa"
          ],
          [
           "Média",
           "Baixa"
          ],
          [
           "Média",
           "Baixa"
          ],
          [
           "Alta",
           "Baixa"
          ],
          [
           "Baixa",
           "Baixa"
          ],
          [
           "Baixa",
           "Baixa"
          ],
          [
           "Baixa",
           "Baixa"
          ],
          [
           "Não se aplica",
           "Não se aplica"
          ]
         ],
         "hovertemplate": "<b>%{hovertext}</b><br><br>color=3<br>Latitude=%{lat}<br>Longitude=%{lon}<br>Categoria de Risco - CRI=%{customdata[0]}<br>Dano Potencial Associado - DPA=%{customdata[1]}<extra></extra>",
         "hovertext": [
          "ARIQUEMES",
          "JARU",
          "RIO CRESPO",
          "RIO CRESPO",
          "VILHENA",
          "VILHENA",
          "VILHENA",
          "VILHENA",
          "VILHENA",
          "CAMPO NOVO DE RONDÔNIA",
          "CAMPO NOVO DE RONDÔNIA",
          "CUJUBIM",
          "ITAPUÃ DO OESTE",
          "ITAPUÃ DO OESTE",
          "ITAPUÃ DO OESTE",
          "ITAPUÃ DO OESTE",
          "ITAPUÃ DO OESTE",
          "ITAPUÃ DO OESTE",
          "MINISTRO ANDREAZZA",
          "MINISTRO ANDREAZZA",
          "URUPÁ",
          "PRESIDENTE FIGUEIREDO",
          "PRESIDENTE FIGUEIREDO",
          "PRESIDENTE FIGUEIREDO",
          "PRESIDENTE FIGUEIREDO",
          "PRESIDENTE FIGUEIREDO",
          "PRESIDENTE FIGUEIREDO",
          "PRESIDENTE FIGUEIREDO",
          "ALMEIRIM",
          "ALMEIRIM",
          "CANAÃ DOS CARAJÁS",
          "CANAÃ DOS CARAJÁS",
          "CANAÃ DOS CARAJÁS",
          "CANAÃ DOS CARAJÁS",
          "CANAÃ DOS CARAJÁS",
          "CANAÃ DOS CARAJÁS",
          "CANAÃ DOS CARAJÁS",
          "CANAÃ DOS CARAJÁS",
          "CANAÃ DOS CARAJÁS",
          "CANAÃ DOS CARAJÁS",
          "CANAÃ DOS CARAJÁS",
          "CURIONÓPOLIS",
          "CURIONÓPOLIS",
          "CURIONÓPOLIS",
          "CURIONÓPOLIS",
          "CURIONÓPOLIS",
          "ITAITUBA",
          "ITAITUBA",
          "ITAITUBA",
          "ITAITUBA",
          "ITAITUBA",
          "ITAITUBA",
          "ITAITUBA",
          "ITAITUBA",
          "JACAREACANGA",
          "ORIXIMINÁ",
          "ORIXIMINÁ",
          "ORIXIMINÁ",
          "OURILÂNDIA DO NORTE",
          "PARAGOMINAS",
          "PARAUAPEBAS",
          "PARAUAPEBAS",
          "PARAUAPEBAS",
          "PARAUAPEBAS",
          "PARAUAPEBAS",
          "SÃO FÉLIX DO XINGU",
          "SÃO FÉLIX DO XINGU",
          "SÃO FÉLIX DO XINGU",
          "SÃO FÉLIX DO XINGU",
          "SÃO FÉLIX DO XINGU",
          "SÃO FÉLIX DO XINGU",
          "SÃO FÉLIX DO XINGU",
          "SÃO FÉLIX DO XINGU",
          "CALÇOENE",
          "CALÇOENE",
          "CALÇOENE",
          "FERREIRA GOMES",
          "MAZAGÃO",
          "MAZAGÃO",
          "MAZAGÃO",
          "PORTO GRANDE",
          "PORTO GRANDE",
          "PORTO GRANDE",
          "PORTO GRANDE",
          "VITÓRIA DO JARI",
          "ALMAS",
          "ALMAS",
          "MONTE DO CARMO",
          "NATIVIDADE",
          "NATIVIDADE",
          "NATIVIDADE",
          "NATIVIDADE",
          "CODÓ",
          "CASTELO DO PIAUÍ",
          "SÃO LOURENÇO DO PIAUÍ",
          "VÁRZEA",
          "ROSÁRIO DO CATETE",
          "ANDORINHA",
          "ANDORINHA",
          "ANDORINHA",
          "BRUMADO",
          "BRUMADO",
          "CAETITÉ",
          "CAETITÉ",
          "IRECÊ",
          "ITAGIBÁ",
          "JAGUARARI",
          "JAGUARARI",
          "JAGUARARI",
          "JAGUARARI",
          "JAGUARARI",
          "JAGUARARI",
          "JAGUARARI",
          "MAIQUINIQUE",
          "MARACÁS",
          "SANTALUZ",
          "SANTALUZ",
          "SANTALUZ",
          "SIMÕES FILHO",
          "VITÓRIA DA CONQUISTA",
          "ANTÔNIO DIAS",
          "ANTÔNIO DIAS",
          "ANTÔNIO DIAS",
          "ARAXÁ",
          "ARAXÁ",
          "ARAXÁ",
          "ARAXÁ",
          "ARAXÁ",
          "BARÃO DE COCAIS",
          "BARÃO DE COCAIS",
          "BARÃO DE COCAIS",
          "BARÃO DE COCAIS",
          "BELA VISTA DE MINAS",
          "BELA VISTA DE MINAS",
          "BELA VISTA DE MINAS",
          "BELA VISTA DE MINAS",
          "BELA VISTA DE MINAS",
          "BELA VISTA DE MINAS",
          "BELA VISTA DE MINAS",
          "BELO HORIZONTE",
          "BETIM",
          "BETIM",
          "BRUMADINHO",
          "BRUMADINHO",
          "BRUMADINHO",
          "BRUMADINHO",
          "BRUMADINHO",
          "BRUMADINHO",
          "BRUMADINHO",
          "BRUMADINHO",
          "BRUMADINHO",
          "BRUMADINHO",
          "BRUMADINHO",
          "CARANAÍBA",
          "CATAS ALTAS",
          "CATAS ALTAS",
          "CATAS ALTAS",
          "CATAS ALTAS",
          "CONGONHAS",
          "CONGONHAS",
          "CONGONHAS",
          "CONGONHAS",
          "DESCOBERTO",
          "DIAMANTINA",
          "ESMERALDAS",
          "ITABIRA",
          "ITABIRA",
          "ITABIRITO",
          "ITABIRITO",
          "ITABIRITO",
          "ITABIRITO",
          "ITABIRITO",
          "ITABIRITO",
          "ITABIRITO",
          "ITABIRITO",
          "ITABIRITO",
          "ITABIRITO",
          "ITABIRITO",
          "ITABIRITO",
          "ITABIRITO",
          "ITABIRITO",
          "ITABIRITO",
          "ITABIRITO",
          "ITATIAIUÇU",
          "ITATIAIUÇU",
          "ITATIAIUÇU",
          "ITATIAIUÇU",
          "ITATIAIUÇU",
          "ITATIAIUÇU",
          "ITATIAIUÇU",
          "ITATIAIUÇU",
          "ITATIAIUÇU",
          "ITATIAIUÇU",
          "ITATIAIUÇU",
          "ITATIAIUÇU",
          "ITATIAIUÇU",
          "ITATIAIUÇU",
          "ITATIAIUÇU",
          "ITATIAIUÇU",
          "ITATIAIUÇU",
          "ITAÚNA",
          "ITAÚNA",
          "ITAÚNA",
          "ITUTINGA",
          "ITUTINGA",
          "ITUTINGA",
          "LAGAMAR",
          "MARIANA",
          "MARIANA",
          "MARIANA",
          "MARIANA",
          "MARIANA",
          "MARIANA",
          "MÁRIO CAMPOS",
          "MATEUS LEME",
          "MATEUS LEME",
          "MATEUS LEME",
          "MATEUS LEME",
          "MATEUS LEME",
          "MATEUS LEME",
          "MATEUS LEME",
          "MATEUS LEME",
          "MATEUS LEME",
          "MATEUS LEME",
          "MATEUS LEME",
          "MATEUS LEME",
          "MATEUS LEME",
          "MATEUS LEME",
          "MERCÊS",
          "NAZARENO",
          "NOVA LIMA",
          "NOVA LIMA",
          "NOVA LIMA",
          "NOVA LIMA",
          "OURO PRETO",
          "OURO PRETO",
          "PARACATU",
          "PATROCÍNIO",
          "PRADOS",
          "SABARÁ",
          "SABARÁ",
          "SABARÁ",
          "SANTA BÁRBARA",
          "SANTA BÁRBARA",
          "SANTA BÁRBARA",
          "SÃO GONÇALO DO RIO ABAIXO",
          "SÃO GONÇALO DO RIO ABAIXO",
          "SARZEDO",
          "SARZEDO",
          "SENADOR MODESTINO GONÇALVES",
          "SENADOR MODESTINO GONÇALVES",
          "SENADOR MODESTINO GONÇALVES",
          "TAPIRA",
          "TAPIRA",
          "UBERABA",
          "UBERABA",
          "UBERABA",
          "UBERABA",
          "UBERABA",
          "UBERABA",
          "UBERABA",
          "UBERABA",
          "UBERABA",
          "UBERABA",
          "VAZANTE",
          "SÃO JOÃO DA BARRA",
          "AGUAÍ",
          "ALAMBARI",
          "BOFETE",
          "BOFETE",
          "CAIEIRAS",
          "GUARAREMA",
          "MOGI DAS CRUZES",
          "MOGI DAS CRUZES",
          "MOGI DAS CRUZES",
          "MOGI DAS CRUZES",
          "MOGI DAS CRUZES",
          "MOGI DAS CRUZES",
          "MONTE MOR",
          "RIBEIRÃO BRANCO",
          "SANTA ISABEL",
          "SANTA ISABEL",
          "SANTA ISABEL",
          "SANTOS",
          "SOROCABA",
          "TATUÍ",
          "TATUÍ",
          "FORQUILHINHA",
          "IÇARA",
          "CORUMBÁ",
          "CORUMBÁ",
          "CORUMBÁ",
          "CORUMBÁ",
          "CORUMBÁ",
          "CORUMBÁ",
          "CORUMBÁ",
          "CORUMBÁ",
          "CORUMBÁ",
          "CORUMBÁ",
          "CORUMBÁ",
          "ARIPUANÃ",
          "CARLINDA",
          "CUIABÁ",
          "CUIABÁ",
          "CUIABÁ",
          "CUIABÁ",
          "CUIABÁ",
          "CUIABÁ",
          "CUIABÁ",
          "JUÍNA",
          "JUÍNA",
          "JUÍNA",
          "VILA BELA DA SANTÍSSIMA TRINDADE",
          "NOSSA SENHORA DO LIVRAMENTO",
          "NOSSA SENHORA DO LIVRAMENTO",
          "NOSSA SENHORA DO LIVRAMENTO",
          "NOSSA SENHORA DO LIVRAMENTO",
          "NOSSA SENHORA DO LIVRAMENTO",
          "NOSSA SENHORA DO LIVRAMENTO",
          "NOSSA SENHORA DO LIVRAMENTO",
          "NOSSA SENHORA DO LIVRAMENTO",
          "NOSSA SENHORA DO LIVRAMENTO",
          "NOSSA SENHORA DO LIVRAMENTO",
          "NOSSA SENHORA DO LIVRAMENTO",
          "NOSSA SENHORA DO LIVRAMENTO",
          "NOSSA SENHORA DO LIVRAMENTO",
          "NOSSA SENHORA DO LIVRAMENTO",
          "NOSSA SENHORA DO LIVRAMENTO",
          "NOSSA SENHORA DO LIVRAMENTO",
          "NOSSA SENHORA DO LIVRAMENTO",
          "NOSSA SENHORA DO LIVRAMENTO",
          "NOSSA SENHORA DO LIVRAMENTO",
          "NOSSA SENHORA DO LIVRAMENTO",
          "NOSSA SENHORA DO LIVRAMENTO",
          "NOSSA SENHORA DO LIVRAMENTO",
          "NOSSA SENHORA DO LIVRAMENTO",
          "NOSSA SENHORA DO LIVRAMENTO",
          "NOSSA SENHORA DO LIVRAMENTO",
          "NOSSA SENHORA DO LIVRAMENTO",
          "NOSSA SENHORA DO LIVRAMENTO",
          "NOSSA SENHORA DO LIVRAMENTO",
          "NOSSA SENHORA DO LIVRAMENTO",
          "NOSSA SENHORA DO LIVRAMENTO",
          "NOSSA SENHORA DO LIVRAMENTO",
          "NOSSA SENHORA DO LIVRAMENTO",
          "NOSSA SENHORA DO LIVRAMENTO",
          "NOSSA SENHORA DO LIVRAMENTO",
          "NOSSA SENHORA DO LIVRAMENTO",
          "NOSSA SENHORA DO LIVRAMENTO",
          "NOVA BANDEIRANTES",
          "NOVA LACERDA",
          "NOVA SANTA HELENA",
          "NOVA SANTA HELENA",
          "NOVA SANTA HELENA",
          "NOVA SANTA HELENA",
          "PARANAÍTA",
          "PARANAÍTA",
          "POCONÉ",
          "POCONÉ",
          "POCONÉ",
          "POCONÉ",
          "POCONÉ",
          "POCONÉ",
          "POCONÉ",
          "POCONÉ",
          "POCONÉ",
          "POCONÉ",
          "POCONÉ",
          "POCONÉ",
          "POCONÉ",
          "POCONÉ",
          "POCONÉ",
          "POCONÉ",
          "POCONÉ",
          "POCONÉ",
          "POCONÉ",
          "POCONÉ",
          "POCONÉ",
          "POCONÉ",
          "POCONÉ",
          "POCONÉ",
          "POCONÉ",
          "POCONÉ",
          "POCONÉ",
          "POCONÉ",
          "POCONÉ",
          "POCONÉ",
          "POCONÉ",
          "POCONÉ",
          "PONTES E LACERDA",
          "PONTES E LACERDA",
          "SÃO JOSÉ DOS QUATRO MARCOS",
          "ROSÁRIO OESTE",
          "SANTO ANTÔNIO DE LEVERGER",
          "VÁRZEA GRANDE",
          "ALTO HORIZONTE",
          "ALTO HORIZONTE",
          "ALTO HORIZONTE",
          "ALTO HORIZONTE",
          "ALTO HORIZONTE",
          "ALTO HORIZONTE",
          "CORUMBÁ DE GOIÁS",
          "CRIXÁS",
          "OUVIDOR",
          "OUVIDOR",
          "OUVIDOR",
          "OUVIDOR"
         ],
         "lat": [
          -9.946125833333333,
          -10.822,
          -9.770694444444445,
          -9.622277777777779,
          -12.932583333333334,
          -12.95253611111111,
          -12.95975,
          -12.804852777777779,
          -12.897444444444444,
          -10.505,
          -11.16175,
          -9.523333333333333,
          -9.42386111111111,
          -9.431805555555554,
          -9.43163888888889,
          -9.458055555555555,
          -9.437208333333334,
          -9.464166666666666,
          -11.158402777777779,
          -11.161902777777778,
          -11.135416666666666,
          -0.7235277777777778,
          -0.7404166666666666,
          -0.7431944444444444,
          -0.7615555555555555,
          -0.707111111111111,
          -0.7386388888888888,
          -0.7895555555555556,
          -0.9145697222222222,
          -0.9111158333333333,
          -6.39938888888889,
          -6.454916666666667,
          -6.394416666666667,
          -6.4782222222222225,
          -6.408027777777778,
          -6.405722222222223,
          -6.402594722222222,
          -6.411516944444445,
          -6.405993888888889,
          -6.421384722222222,
          -6.433861111111112,
          -5.933916666666667,
          -6.2479941666666665,
          -6.244965277777778,
          -6.086646944444444,
          -6.086658333333333,
          -6.788890555555556,
          -6.363833333333333,
          -6.4155500000000005,
          -6.067933333333333,
          -6.03965,
          -6.325094444444444,
          -6.325083333333333,
          -6.368191666666666,
          -9.346195555555557,
          -1.6695788888888887,
          -1.6689947222222221,
          -1.6734469444444442,
          -6.580472222222222,
          -3.275,
          -6.107236111111111,
          -6.48525,
          -6.479033888888889,
          -6.445389722222222,
          -6.056853611111111,
          -6.831527777777778,
          -6.561861111111111,
          -6.560388888888888,
          -6.558737777777778,
          -6.5559569444444445,
          -6.110194444444444,
          -6.075777777777778,
          -6.58036111111111,
          -2.285833333333333,
          -2.321194444444444,
          -2.278611111111111,
          -1.0019722222222223,
          -0.37949999999999995,
          -0.3516111111111111,
          -0.4016738888888889,
          -0.41214194444444446,
          -0.4098638888888889,
          -0.4079111111111111,
          -0.4070944444444445,
          -0.882888888888889,
          -11.4464,
          -11.718616944444445,
          -10.760492777777777,
          -11.647416666666667,
          -11.649327777777778,
          -11.650002777777779,
          -11.588944444444445,
          -4.523583333333333,
          -5.208916666666667,
          -9.236055555555554,
          -6.807472222222222,
          -10.653444444444444,
          -10.314166666666667,
          -10.314916666666667,
          -10.315555555555557,
          -14.233777777777776,
          -14.097930555555557,
          -13.828388888888888,
          -13.829672222222221,
          -11.311944444444444,
          -14.196540833333334,
          -9.831472222222223,
          -9.872836944444446,
          -9.87293888888889,
          -9.851265,
          -9.877543888888889,
          -9.876943888888889,
          -9.852129999999999,
          -15.788333333333334,
          -14.161150555555556,
          -11.260280555555555,
          -11.260519444444444,
          -11.26008888888889,
          -12.856777777777777,
          -14.811214722222223,
          -19.545458333333336,
          -19.549972222222223,
          -19.547583333333336,
          -19.65972222222222,
          -19.67342777777778,
          -19.653326944444444,
          -19.641352777777776,
          -19.657,
          -19.973500277777777,
          -19.948728055555556,
          -19.938450833333334,
          -19.9717275,
          -19.784722222222225,
          -19.78311111111111,
          -19.784972222222223,
          -19.777177777777776,
          -19.77631472222222,
          -19.78609777777778,
          -19.783826944444446,
          -20.025280555555554,
          -19.864936111111113,
          -19.875955555555556,
          -20.064777777777778,
          -20.067444444444444,
          -20.11202777777778,
          -20.115694444444447,
          -20.110916666666668,
          -20.1216,
          -20.11963888888889,
          -20.126694444444446,
          -20.129869444444445,
          -20.123088055555556,
          -20.1159,
          -20.903388888888887,
          -20.027475,
          -20.090833333333332,
          -20.091666666666665,
          -20.098055555555554,
          -20.451651944444443,
          -20.436508333333332,
          -20.431333333333335,
          -20.44013888888889,
          -21.46719444444444,
          -18.009055555555555,
          -19.74476527777778,
          -19.69236111111111,
          -19.570480555555555,
          -20.249922222222224,
          -20.251191666666667,
          -20.377275,
          -20.37808888888889,
          -20.377702777777777,
          -20.278388888888887,
          -20.282999999999998,
          -20.379469444444446,
          -20.378852777777777,
          -20.28597388888889,
          -20.379427777777778,
          -20.380666666666666,
          -20.38071111111111,
          -20.3795,
          -20.37718611111111,
          -20.292908333333337,
          -20.16925,
          -20.161916666666666,
          -20.16247222222222,
          -20.15588888888889,
          -20.136333333333333,
          -20.145916666666665,
          -20.148377777777778,
          -20.131516666666666,
          -20.13359722222222,
          -20.13189722222222,
          -20.158188888888887,
          -20.15983333333333,
          -20.14038888888889,
          -20.15036111111111,
          -20.156055555555554,
          -20.138711944444445,
          -20.138583333333333,
          -20.14667222222222,
          -20.146855555555554,
          -20.14776138888889,
          -21.30823888888889,
          -21.30823611111111,
          -21.308733333333333,
          -18.282231944444444,
          -20.338055555555556,
          -20.17090388888889,
          -20.16991,
          -20.348972222222223,
          -20.17795611111111,
          -20.159307499999997,
          -20.095525,
          -20.129083333333334,
          -20.130277777777778,
          -20.130736111111112,
          -20.12441388888889,
          -20.125333333333334,
          -20.12625,
          -20.119794444444445,
          -20.12368888888889,
          -20.12138888888889,
          -20.12022222222222,
          -20.116083333333336,
          -19.934444444444445,
          -19.934166666666666,
          -19.933888888888887,
          -21.13257527777778,
          -21.087777777777777,
          -20.110225,
          -20.110016666666667,
          -20.116111111111113,
          -20.147178888888888,
          -20.41172222222222,
          -20.401805555555555,
          -17.15729083333333,
          -18.98670888888889,
          -21.191055555555558,
          -19.821413888888888,
          -19.815466666666666,
          -19.818805555555556,
          -20.185083333333335,
          -19.966949999999997,
          -20.006616666666666,
          -19.891527777777778,
          -19.89211111111111,
          -20.08026111111111,
          -20.090052777777778,
          -17.96846111111111,
          -17.968313888888886,
          -17.96865833333333,
          -19.823305555555557,
          -19.873994444444445,
          -19.410908055555556,
          -19.41135361111111,
          -19.410823055555554,
          -19.41016111111111,
          -19.411454166666665,
          -19.40947222222222,
          -19.409470277777775,
          -19.40967472222222,
          -19.40951944444444,
          -19.410207777777778,
          -17.965,
          -21.83111111111111,
          -21.996222222222222,
          -23.579560833333332,
          -23.1885,
          -23.192944444444446,
          -23.393072222222223,
          -23.392305555555556,
          -23.621083333333335,
          -23.562805555555556,
          -23.56563888888889,
          -23.394,
          -23.401277777777775,
          -23.397333333333332,
          -22.93841666666667,
          -24.25375,
          -23.357750000000003,
          -23.356805555555557,
          -23.356055555555557,
          -23.881666666666668,
          -23.508972222222223,
          -23.354805555555558,
          -23.35363611111111,
          -28.738500000000002,
          -28.729166666666664,
          -19.261555555555557,
          -19.261555555555557,
          -19.262416666666667,
          -19.262083333333333,
          -19.262333333333334,
          -19.2625,
          -19.264666666666667,
          -19.26097222222222,
          -19.20035083333333,
          -19.19184027777778,
          -19.190809444444444,
          -10.123502777777778,
          -9.79448611111111,
          -15.558333333333334,
          -15.510619444444444,
          -15.556175000000001,
          -15.919627777777777,
          -15.492038333333333,
          -15.504008333333333,
          -15.557166666666667,
          -11.313396944444445,
          -11.463339166666666,
          -11.463339166666666,
          -14.694328888888888,
          -15.696527777777778,
          -15.81140277777778,
          -15.664294444444446,
          -15.923845833333333,
          -15.948016666666668,
          -15.774750000000001,
          -15.689327777777779,
          -15.692141666666666,
          -15.935405555555556,
          -15.771905555555556,
          -15.796725,
          -15.669688888888889,
          -15.844419444444444,
          -15.809580555555556,
          -15.793255555555556,
          -15.694680555555555,
          -15.676077777777778,
          -15.902691666666668,
          -15.977733333333333,
          -15.846633333333333,
          -15.968433333333333,
          -15.925567222222222,
          -15.919330555555556,
          -15.683756944444445,
          -16.005525,
          -15.63903611111111,
          -15.948472222222222,
          -15.465573611111111,
          -15.969600833333333,
          -15.766986111111112,
          -15.796544444444445,
          -15.762616666666666,
          -15.905418888888889,
          -15.863437777777778,
          -15.756005555555555,
          -15.75995,
          -9.215338888888889,
          -14.479905555555556,
          -10.687972222222223,
          -10.686777777777777,
          -10.802486111111111,
          -10.802486111111111,
          -9.379680555555556,
          -9.523130555555557,
          -16.119944444444446,
          -16.24136388888889,
          -16.29485277777778,
          -16.098363888888887,
          -16.234883333333336,
          -16.17586111111111,
          -16.06292777777778,
          -16.05025277777778,
          -16.037916666666668,
          -16.027080555555553,
          -16.110855555555556,
          -16.29515277777778,
          -16.190517777777778,
          -16.24745,
          -16.265494444444446,
          -16.260277777777777,
          -16.08727222222222,
          -16.25861111111111,
          -16.009066666666666,
          -16.219001666666664,
          -16.305533333333333,
          -16.25613611111111,
          -16.21913888888889,
          -16.297844444444447,
          -16.034502777777778,
          -16.30282777777778,
          -16.273075,
          -16.18325,
          -16.215833333333332,
          -16.214416666666665,
          -16.247797222222225,
          -16.239061111111113,
          -15.304491666666667,
          -15.130688888888889,
          -15.652405555555555,
          -14.879138888888889,
          -15.726747222222222,
          -15.621726944444445,
          -14.244210833333332,
          -14.253591666666667,
          -14.245883333333332,
          -14.252707777777777,
          -14.256361111111111,
          -14.240483333333332,
          -15.772222222222224,
          -14.586013888888889,
          -18.150840833333334,
          -18.151942499999997,
          -18.138795277777778,
          -18.150563888888886
         ],
         "legendgroup": "3",
         "lon": [
          -63.33021305555556,
          -62.83394444444445,
          -62.74063888888889,
          -63.06086111111111,
          -60.34952777777778,
          -60.408249999999995,
          -60.287638888888885,
          -60.364444444444445,
          -60.42258333333333,
          -63.620583333333336,
          -62.41741666666666,
          -62.90588888888889,
          -63.047888888888885,
          -63.055527777777776,
          -63.055527777777776,
          -63.051944444444445,
          -63.05777777777777,
          -63.074444444444445,
          -61.611675,
          -61.614111111111114,
          -62.437527777777774,
          -60.19672222222222,
          -60.20141666666667,
          -60.20141666666667,
          -60.20597222222222,
          -60.19252777777778,
          -60.16738888888889,
          -60.01302777777778,
          -52.42868583333333,
          -52.43246277777777,
          -50.340138888888895,
          -50.228750000000005,
          -50.31980555555556,
          -50.321361111111116,
          -50.04416666666666,
          -50.057111111111105,
          -50.075408888888894,
          -50.033252777777776,
          -50.084200833333334,
          -50.03609083333333,
          -50.048361111111106,
          -49.673138888888886,
          -49.74656638888889,
          -49.74466388888889,
          -49.65229083333333,
          -49.652375,
          -56.608110833333335,
          -56.26923611111111,
          -55.97078888888889,
          -56.28649722222222,
          -56.29055555555556,
          -55.78635555555555,
          -55.7845,
          -56.268391666666666,
          -56.55292583333333,
          -56.49726638888889,
          -56.502364166666666,
          -56.50005222222222,
          -51.077083333333334,
          -47.736333333333334,
          -50.31803583333334,
          -51.07752777777778,
          -51.06147583333333,
          -51.07649388888889,
          -50.14378,
          -51.991,
          -51.17113888888888,
          -51.16672222222222,
          -51.17782888888889,
          -51.17348277777778,
          -52.275277777777774,
          -52.25519444444444,
          -51.174166666666665,
          -51.63333333333333,
          -51.69058333333333,
          -51.65066111111111,
          -51.12888888888889,
          -51.72277777777778,
          -51.83786111111112,
          -51.75780888888889,
          -51.72891666666667,
          -51.72924166666667,
          -51.73000555555556,
          -51.73753333333333,
          -52.38111111111111,
          -47.19303333333333,
          -47.18900194444444,
          -48.08072555555556,
          -47.67673333333333,
          -47.676177777777774,
          -47.67500277777778,
          -47.88317222222222,
          -44.01602777777778,
          -41.70766666666667,
          -42.57811111111111,
          -37.008,
          -37.03058333333333,
          -39.76722222222222,
          -39.76583333333333,
          -39.76583333333333,
          -41.71969444444445,
          -41.68920555555555,
          -42.287791666666664,
          -42.287369444444444,
          -41.839444444444446,
          -39.691649722222216,
          -39.82491666666667,
          -39.871659722222226,
          -39.871030833333336,
          -39.86499777777778,
          -39.867874444444446,
          -39.870152777777776,
          -39.86334388888889,
          -40.323055555555555,
          -41.159390555555554,
          -39.35756111111111,
          -39.35755555555556,
          -39.35758333333334,
          -38.40441666666666,
          -41.004976944444444,
          -43.03093611111111,
          -43.02225,
          -43.02152777777778,
          -46.926944444444445,
          -46.97199888888889,
          -46.95619777777778,
          -46.973849722222226,
          -46.94018055555555,
          -43.6037275,
          -43.58669972222223,
          -43.58381027777778,
          -43.60806222222222,
          -43.192027777777774,
          -43.18311111111111,
          -43.180166666666665,
          -43.189425,
          -43.191047777777776,
          -43.17279694444444,
          -43.165212777777775,
          -44.013527777777774,
          -44.09308444444445,
          -44.10049166666667,
          -44.02886111111111,
          -44.02302777777778,
          -44.220194444444445,
          -44.218361111111115,
          -44.22408333333333,
          -44.31937222222223,
          -44.13922222222222,
          -44.31613888888889,
          -44.10256388888889,
          -44.10646972222222,
          -44.29810277777778,
          -43.803888888888885,
          -43.42413888888888,
          -43.41583333333333,
          -43.41611111111111,
          -43.41416666666667,
          -43.90656583333333,
          -43.87179166666667,
          -43.88286111111111,
          -43.905138888888885,
          -42.88597222222222,
          -43.76891666666666,
          -44.37487194444444,
          -43.112861111111116,
          -43.23155666666667,
          -43.93545833333333,
          -43.93723333333333,
          -43.91469722222222,
          -43.91542777777778,
          -43.91509444444444,
          -43.930861111111106,
          -43.927277777777775,
          -43.91678333333333,
          -43.91670277777777,
          -43.898487777777774,
          -43.91690277777778,
          -43.91750833333333,
          -43.91925833333333,
          -43.916916666666665,
          -43.91268888888889,
          -43.938627777777775,
          -44.45088055555556,
          -44.456250000000004,
          -44.44738888888889,
          -44.44708333333333,
          -44.405249999999995,
          -44.40547222222222,
          -44.45998388888889,
          -44.375011111111114,
          -44.37956944444444,
          -44.37663888888889,
          -44.426449999999996,
          -44.44994444444444,
          -44.42247222222222,
          -44.43583333333333,
          -44.44138888888889,
          -44.40083083333333,
          -44.400749999999995,
          -44.45438611111111,
          -44.45146388888889,
          -44.46010305555556,
          -44.66088333333333,
          -44.661830555555554,
          -44.66203888888889,
          -46.86132583333333,
          -43.42461111111111,
          -43.49808888888889,
          -43.49610583333333,
          -43.41308333333333,
          -43.49758305555556,
          -43.46931083333334,
          -44.16237777777778,
          -44.42019444444444,
          -44.4225,
          -44.42670277777778,
          -44.40018333333333,
          -44.41047222222222,
          -44.4135,
          -44.38552222222222,
          -44.37551666666667,
          -44.37122222222222,
          -44.37177777777778,
          -44.37125,
          -44.47083333333334,
          -44.47138888888889,
          -44.471944444444446,
          -43.350344722222225,
          -44.589666666666666,
          -43.9088,
          -43.90324722222222,
          -43.87372222222222,
          -43.885752777777775,
          -43.86527777777778,
          -43.534166666666664,
          -46.757905,
          -46.79969972222222,
          -43.99125,
          -43.71707777777778,
          -43.71013611111111,
          -43.71078888888889,
          -43.60575,
          -43.47503888888889,
          -43.506766666666664,
          -43.28552777777777,
          -43.28472222222222,
          -44.11294166666667,
          -44.11182222222222,
          -43.169777777777774,
          -43.169013888888884,
          -43.16974444444444,
          -46.86830555555556,
          -46.80303055555555,
          -47.957124444444446,
          -47.957726944444445,
          -47.95583777777778,
          -47.95496305555556,
          -47.956608611111115,
          -47.95568333333333,
          -47.953901111111115,
          -47.954255833333335,
          -47.95547944444445,
          -47.95630055555556,
          -46.844166666666666,
          -41.02055555555555,
          -47.16858333333333,
          -47.82935472222223,
          -48.351333333333336,
          -48.362500000000004,
          -46.77502777777778,
          -46.136361111111114,
          -46.24758333333333,
          -46.267916666666665,
          -46.27336111111111,
          -46.20975,
          -46.20541666666667,
          -46.19488888888888,
          -47.24025,
          -48.91597222222222,
          -46.285888888888884,
          -46.275333333333336,
          -46.27469444444444,
          -46.31433333333333,
          -47.39088888888889,
          -47.730250000000005,
          -47.734375,
          -49.425888888888885,
          -49.248333333333335,
          -57.528555555555556,
          -57.528555555555556,
          -57.528416666666665,
          -57.52791666666666,
          -57.52777777777778,
          -57.52761111111111,
          -57.527055555555556,
          -57.528777777777776,
          -57.63943888888889,
          -57.61378138888889,
          -57.6166975,
          -59.474722222222226,
          -55.798375,
          -55.802905555555554,
          -56.04776944444444,
          -55.84623888888889,
          -56.44723527777777,
          -55.939119999999996,
          -56.020675,
          -55.81506666666667,
          -59.086264722222225,
          -58.938520277777776,
          -58.938520277777776,
          -59.72912027777778,
          -56.33391666666667,
          -56.39019166666667,
          -56.35454722222222,
          -56.16356472222222,
          -56.276919722222225,
          -56.28572222222222,
          -56.35328055555556,
          -56.36056666666667,
          -56.467913888888894,
          -56.37585277777778,
          -56.27104444444444,
          -56.35072777777778,
          -56.31103333333333,
          -56.16383888888889,
          -56.18175833333333,
          -56.368611111111115,
          -56.36579444444445,
          -56.20735277777778,
          -56.490275000000004,
          -56.15958888888889,
          -56.49926666666667,
          -56.356392222222226,
          -56.490883333333336,
          -56.30414888888889,
          -56.22818055555556,
          -56.340294444444446,
          -56.18971666666666,
          -56.45760666666667,
          -56.2865375,
          -56.23110555555556,
          -56.273669444444444,
          -56.26496111111111,
          -56.20308194444445,
          -56.224936944444444,
          -56.166263888888885,
          -56.16990833333333,
          -58.29170833333333,
          -59.8378,
          -54.82791666666667,
          -54.82930555555556,
          -55.18615555555555,
          -55.18615555555555,
          -56.56444444444444,
          -56.48665416666667,
          -56.587722222222226,
          -56.604866666666666,
          -56.65153333333333,
          -56.56857777777778,
          -56.65240277777777,
          -56.59447222222222,
          -56.561927777777775,
          -56.548275,
          -56.537638888888885,
          -56.5248,
          -56.57396666666667,
          -56.72561666666667,
          -56.41310222222222,
          -56.65826111111111,
          -56.589869444444446,
          -56.595555555555556,
          -56.55987222222222,
          -56.59638888888889,
          -56.622348055555555,
          -56.61202361111111,
          -56.732486111111115,
          -56.656413888888885,
          -56.652563888888885,
          -56.71169722222223,
          -56.53353055555555,
          -56.6281975,
          -56.696216666666665,
          -56.41858333333333,
          -56.604305555555555,
          -56.60594444444445,
          -56.595800000000004,
          -56.65260277777778,
          -59.42344166666666,
          -59.379419444444444,
          -58.542855555555555,
          -56.57302777777778,
          -55.88217777777778,
          -56.275935833333335,
          -49.36754194444445,
          -49.42599444444444,
          -49.38073611111111,
          -49.38899583333333,
          -49.42452222222222,
          -49.365011111111116,
          -48.63805555555555,
          -49.94083611111111,
          -47.781976666666665,
          -47.783003888888885,
          -47.78213638888889,
          -47.77273388888889
         ],
         "marker": {
          "color": "#636efa"
         },
         "mode": "markers",
         "name": "3",
         "showlegend": true,
         "subplot": "mapbox",
         "type": "scattermapbox"
        },
        {
         "customdata": [
          [
           "Média",
           "Alta"
          ],
          [
           "Alta",
           "Média"
          ],
          [
           "Alta",
           "Alta"
          ],
          [
           "Alta",
           "Alta"
          ],
          [
           "Alta",
           "Alta"
          ],
          [
           "Média",
           "Média"
          ],
          [
           "Baixa",
           "Média"
          ],
          [
           "Média",
           "Média"
          ],
          [
           "Média",
           "Média"
          ],
          [
           "Baixa",
           "Alta"
          ],
          [
           "Baixa",
           "Alta"
          ],
          [
           "Baixa",
           "Alta"
          ],
          [
           "Baixa",
           "Alta"
          ],
          [
           "Alta",
           "Média"
          ],
          [
           "Alta",
           "Alta"
          ],
          [
           "Baixa",
           "Alta"
          ],
          [
           "Média",
           "Alta"
          ],
          [
           "Baixa",
           "Alta"
          ],
          [
           "Baixa",
           "Alta"
          ],
          [
           "Baixa",
           "Alta"
          ],
          [
           "Baixa",
           "Alta"
          ],
          [
           "Baixa",
           "Alta"
          ],
          [
           "Baixa",
           "Alta"
          ],
          [
           "Baixa",
           "Alta"
          ],
          [
           "Baixa",
           "Alta"
          ],
          [
           "Baixa",
           "Alta"
          ],
          [
           "Baixa",
           "Alta"
          ],
          [
           "Baixa",
           "Alta"
          ],
          [
           "Baixa",
           "Alta"
          ],
          [
           "Baixa",
           "Média"
          ],
          [
           "Média",
           "Média"
          ],
          [
           "Alta",
           "Média"
          ],
          [
           "Alta",
           "Média"
          ],
          [
           "Baixa",
           "Média"
          ],
          [
           "Baixa",
           "Média"
          ],
          [
           "Baixa",
           "Média"
          ],
          [
           "Alta",
           "Alta"
          ],
          [
           "Baixa",
           "Alta"
          ],
          [
           "Baixa",
           "Alta"
          ],
          [
           "Baixa",
           "Alta"
          ],
          [
           "Alta",
           "Média"
          ],
          [
           "Baixa",
           "Alta"
          ],
          [
           "Baixa",
           "Alta"
          ],
          [
           "Baixa",
           "Média"
          ],
          [
           "Baixa",
           "Média"
          ],
          [
           "Baixa",
           "Média"
          ],
          [
           "Baixa",
           "Média"
          ],
          [
           "Média",
           "Alta"
          ],
          [
           "Média",
           "Média"
          ],
          [
           "Baixa",
           "Média"
          ],
          [
           "Baixa",
           "Média"
          ],
          [
           "Baixa",
           "Média"
          ],
          [
           "Média",
           "Alta"
          ],
          [
           "Média",
           "Média"
          ],
          [
           "Média",
           "Média"
          ],
          [
           "Baixa",
           "Média"
          ],
          [
           "Baixa",
           "Média"
          ],
          [
           "Baixa",
           "Média"
          ],
          [
           "Baixa",
           "Média"
          ],
          [
           "Baixa",
           "Média"
          ],
          [
           "Baixa",
           "Média"
          ],
          [
           "Baixa",
           "Média"
          ],
          [
           "Baixa",
           "Média"
          ],
          [
           "Baixa",
           "Média"
          ],
          [
           "Baixa",
           "Média"
          ],
          [
           "Baixa",
           "Média"
          ],
          [
           "Baixa",
           "Média"
          ],
          [
           "Baixa",
           "Média"
          ],
          [
           "Baixa",
           "Média"
          ],
          [
           "Baixa",
           "Média"
          ],
          [
           "Baixa",
           "Média"
          ],
          [
           "Baixa",
           "Média"
          ],
          [
           "Baixa",
           "Média"
          ],
          [
           "Baixa",
           "Alta"
          ],
          [
           "Baixa",
           "Média"
          ],
          [
           "Baixa",
           "Alta"
          ],
          [
           "Baixa",
           "Alta"
          ],
          [
           "Baixa",
           "Alta"
          ],
          [
           "Baixa",
           "Média"
          ],
          [
           "Baixa",
           "Média"
          ],
          [
           "Baixa",
           "Alta"
          ],
          [
           "Baixa",
           "Alta"
          ],
          [
           "Média",
           "Média"
          ],
          [
           "Baixa",
           "Alta"
          ],
          [
           "Baixa",
           "Alta"
          ],
          [
           "Baixa",
           "Alta"
          ],
          [
           "Alta",
           "Média"
          ],
          [
           "Média",
           "Média"
          ],
          [
           "Baixa",
           "Alta"
          ],
          [
           "Baixa",
           "Alta"
          ],
          [
           "Baixa",
           "Alta"
          ],
          [
           "Baixa",
           "Média"
          ],
          [
           "Baixa",
           "Média"
          ],
          [
           "Baixa",
           "Alta"
          ],
          [
           "Baixa",
           "Alta"
          ],
          [
           "Baixa",
           "Alta"
          ],
          [
           "Média",
           "Média"
          ],
          [
           "Média",
           "Média"
          ],
          [
           "Média",
           "Média"
          ],
          [
           "Média",
           "Média"
          ],
          [
           "Baixa",
           "Alta"
          ],
          [
           "Média",
           "Alta"
          ],
          [
           "Baixa",
           "Alta"
          ],
          [
           "Baixa",
           "Média"
          ],
          [
           "Alta",
           "Média"
          ],
          [
           "Alta",
           "Média"
          ],
          [
           "Média",
           "Média"
          ],
          [
           "Baixa",
           "Média"
          ],
          [
           "Baixa",
           "Média"
          ],
          [
           "Baixa",
           "Média"
          ],
          [
           "Baixa",
           "Alta"
          ],
          [
           "Baixa",
           "Alta"
          ],
          [
           "Baixa",
           "Alta"
          ],
          [
           "Baixa",
           "Alta"
          ],
          [
           "Baixa",
           "Alta"
          ],
          [
           "Baixa",
           "Alta"
          ],
          [
           "Baixa",
           "Alta"
          ],
          [
           "Baixa",
           "Alta"
          ],
          [
           "Baixa",
           "Alta"
          ],
          [
           "Baixa",
           "Alta"
          ],
          [
           "Baixa",
           "Alta"
          ],
          [
           "Alta",
           "Alta"
          ],
          [
           "Baixa",
           "Alta"
          ],
          [
           "Baixa",
           "Alta"
          ],
          [
           "Baixa",
           "Alta"
          ],
          [
           "Baixa",
           "Alta"
          ],
          [
           "Alta",
           "Média"
          ],
          [
           "Baixa",
           "Média"
          ],
          [
           "Baixa",
           "Alta"
          ],
          [
           "Média",
           "Alta"
          ],
          [
           "Baixa",
           "Alta"
          ],
          [
           "Baixa",
           "Alta"
          ],
          [
           "Baixa",
           "Média"
          ],
          [
           "Baixa",
           "Baixa"
          ],
          [
           "Baixa",
           "Baixa"
          ],
          [
           "Baixa",
           "Alta"
          ],
          [
           "Alta",
           "Alta"
          ],
          [
           "Alta",
           "Alta"
          ],
          [
           "Média",
           "Alta"
          ],
          [
           "Média",
           "Média"
          ],
          [
           "Alta",
           "Alta"
          ],
          [
           "Alta",
           "Alta"
          ],
          [
           "Baixa",
           "Alta"
          ],
          [
           "Baixa",
           "Alta"
          ],
          [
           "Baixa",
           "Alta"
          ],
          [
           "Baixa",
           "Alta"
          ],
          [
           "Baixa",
           "Média"
          ],
          [
           "Baixa",
           "Média"
          ],
          [
           "Baixa",
           "Alta"
          ],
          [
           "Baixa",
           "Alta"
          ],
          [
           "Baixa",
           "Alta"
          ],
          [
           "Baixa",
           "Alta"
          ],
          [
           "Baixa",
           "Alta"
          ],
          [
           "Baixa",
           "Média"
          ],
          [
           "Baixa",
           "Média"
          ],
          [
           "Baixa",
           "Alta"
          ],
          [
           "Alta",
           "Baixa"
          ],
          [
           "Alta",
           "Alta"
          ],
          [
           "Média",
           "Alta"
          ],
          [
           "Baixa",
           "Alta"
          ],
          [
           "Baixa",
           "Alta"
          ],
          [
           "Baixa",
           "Alta"
          ],
          [
           "Baixa",
           "Alta"
          ],
          [
           "Baixa",
           "Alta"
          ],
          [
           "Baixa",
           "Alta"
          ],
          [
           "Média",
           "Alta"
          ],
          [
           "Baixa",
           "Alta"
          ],
          [
           "Baixa",
           "Alta"
          ],
          [
           "Baixa",
           "Alta"
          ],
          [
           "Baixa",
           "Alta"
          ],
          [
           "Baixa",
           "Alta"
          ],
          [
           "Baixa",
           "Alta"
          ],
          [
           "Baixa",
           "Alta"
          ],
          [
           "Média",
           "Alta"
          ],
          [
           "Baixa",
           "Alta"
          ],
          [
           "Baixa",
           "Média"
          ],
          [
           "Baixa",
           "Média"
          ],
          [
           "Baixa",
           "Média"
          ],
          [
           "Baixa",
           "Alta"
          ],
          [
           "Baixa",
           "Média"
          ],
          [
           "Baixa",
           "Média"
          ],
          [
           "Baixa",
           "Média"
          ],
          [
           "Baixa",
           "Alta"
          ],
          [
           "Média",
           "Média"
          ],
          [
           "Alta",
           "Alta"
          ],
          [
           "Baixa",
           "Alta"
          ],
          [
           "Baixa",
           "Média"
          ],
          [
           "Baixa",
           "Alta"
          ],
          [
           "Baixa",
           "Alta"
          ],
          [
           "Alta",
           "Alta"
          ],
          [
           "Baixa",
           "Alta"
          ],
          [
           "Baixa",
           "Alta"
          ],
          [
           "Baixa",
           "Alta"
          ],
          [
           "Baixa",
           "Média"
          ],
          [
           "Baixa",
           "Alta"
          ],
          [
           "Baixa",
           "Alta"
          ],
          [
           "Alta",
           "Alta"
          ],
          [
           "Alta",
           "Alta"
          ],
          [
           "Baixa",
           "Alta"
          ],
          [
           "Baixa",
           "Média"
          ],
          [
           "Baixa",
           "Alta"
          ],
          [
           "Baixa",
           "Alta"
          ],
          [
           "Baixa",
           "Alta"
          ],
          [
           "Baixa",
           "Alta"
          ],
          [
           "Baixa",
           "Alta"
          ],
          [
           "Baixa",
           "Alta"
          ],
          [
           "Baixa",
           "Alta"
          ],
          [
           "Baixa",
           "Alta"
          ],
          [
           "Média",
           "Média"
          ],
          [
           "Baixa",
           "Alta"
          ],
          [
           "Baixa",
           "Alta"
          ],
          [
           "Alta",
           "Alta"
          ],
          [
           "Baixa",
           "Alta"
          ],
          [
           "Alta",
           "Alta"
          ],
          [
           "Baixa",
           "Alta"
          ],
          [
           "Baixa",
           "Alta"
          ],
          [
           "Baixa",
           "Alta"
          ],
          [
           "Baixa",
           "Alta"
          ],
          [
           "Baixa",
           "Média"
          ],
          [
           "Baixa",
           "Média"
          ],
          [
           "Baixa",
           "Alta"
          ],
          [
           "Baixa",
           "Alta"
          ],
          [
           "Média",
           "Alta"
          ],
          [
           "Alta",
           "Alta"
          ],
          [
           "Alta",
           "Alta"
          ],
          [
           "Média",
           "Alta"
          ],
          [
           "Alta",
           "Alta"
          ],
          [
           "Baixa",
           "Média"
          ],
          [
           "Baixa",
           "Média"
          ],
          [
           "Alta",
           "Alta"
          ],
          [
           "Baixa",
           "Alta"
          ],
          [
           "Baixa",
           "Alta"
          ],
          [
           "Alta",
           "Alta"
          ],
          [
           "Baixa",
           "Alta"
          ],
          [
           "Alta",
           "Média"
          ],
          [
           "Baixa",
           "Alta"
          ],
          [
           "Baixa",
           "Alta"
          ],
          [
           "Baixa",
           "Alta"
          ],
          [
           "Baixa",
           "Alta"
          ],
          [
           "Baixa",
           "Alta"
          ],
          [
           "Baixa",
           "Média"
          ],
          [
           "Baixa",
           "Média"
          ],
          [
           "Baixa",
           "Média"
          ],
          [
           "Baixa",
           "Alta"
          ],
          [
           "Baixa",
           "Alta"
          ],
          [
           "Baixa",
           "Alta"
          ],
          [
           "Alta",
           "Alta"
          ],
          [
           "Baixa",
           "Média"
          ],
          [
           "Baixa",
           "Alta"
          ],
          [
           "Baixa",
           "Alta"
          ],
          [
           "Alta",
           "Alta"
          ],
          [
           "Alta",
           "Alta"
          ],
          [
           "Baixa",
           "Alta"
          ],
          [
           "Alta",
           "Alta"
          ],
          [
           "Baixa",
           "Média"
          ],
          [
           "Baixa",
           "Alta"
          ],
          [
           "Baixa",
           "Média"
          ],
          [
           "Baixa",
           "Alta"
          ],
          [
           "Baixa",
           "Alta"
          ],
          [
           "Baixa",
           "Alta"
          ],
          [
           "Baixa",
           "Alta"
          ],
          [
           "Baixa",
           "Alta"
          ],
          [
           "Baixa",
           "Alta"
          ],
          [
           "Baixa",
           "Alta"
          ],
          [
           "Baixa",
           "Alta"
          ],
          [
           "Baixa",
           "Alta"
          ],
          [
           "Baixa",
           "Alta"
          ],
          [
           "Baixa",
           "Média"
          ],
          [
           "Baixa",
           "Alta"
          ],
          [
           "Baixa",
           "Média"
          ],
          [
           "Baixa",
           "Média"
          ],
          [
           "Baixa",
           "Alta"
          ],
          [
           "Baixa",
           "Alta"
          ],
          [
           "Baixa",
           "Alta"
          ],
          [
           "Baixa",
           "Alta"
          ],
          [
           "Baixa",
           "Alta"
          ],
          [
           "Baixa",
           "Alta"
          ],
          [
           "Baixa",
           "Alta"
          ],
          [
           "Baixa",
           "Alta"
          ],
          [
           "Baixa",
           "Média"
          ],
          [
           "Baixa",
           "Média"
          ],
          [
           "Baixa",
           "Alta"
          ],
          [
           "Baixa",
           "Alta"
          ],
          [
           "Baixa",
           "Alta"
          ],
          [
           "Baixa",
           "Alta"
          ],
          [
           "Baixa",
           "Alta"
          ],
          [
           "Baixa",
           "Alta"
          ],
          [
           "Baixa",
           "Média"
          ],
          [
           "Baixa",
           "Média"
          ],
          [
           "Baixa",
           "Alta"
          ],
          [
           "Baixa",
           "Alta"
          ],
          [
           "Média",
           "Média"
          ],
          [
           "Baixa",
           "Média"
          ],
          [
           "Média",
           "Média"
          ],
          [
           "Média",
           "Média"
          ],
          [
           "Baixa",
           "Alta"
          ],
          [
           "Baixa",
           "Alta"
          ],
          [
           "Baixa",
           "Alta"
          ],
          [
           "Baixa",
           "Alta"
          ],
          [
           "Baixa",
           "Alta"
          ],
          [
           "Baixa",
           "Alta"
          ],
          [
           "Baixa",
           "Alta"
          ],
          [
           "Baixa",
           "Alta"
          ],
          [
           "Média",
           "Média"
          ],
          [
           "Média",
           "Média"
          ],
          [
           "Alta",
           "Média"
          ],
          [
           "Baixa",
           "Média"
          ],
          [
           "Baixa",
           "Alta"
          ],
          [
           "Baixa",
           "Alta"
          ],
          [
           "Média",
           "Média"
          ],
          [
           "Média",
           "Alta"
          ],
          [
           "Média",
           "Média"
          ],
          [
           "Média",
           "Alta"
          ],
          [
           "Baixa",
           "Alta"
          ],
          [
           "Baixa",
           "Média"
          ],
          [
           "Baixa",
           "Média"
          ],
          [
           "Baixa",
           "Média"
          ],
          [
           "Alta",
           "Alta"
          ],
          [
           "Alta",
           "Alta"
          ],
          [
           "Média",
           "Média"
          ],
          [
           "Alta",
           "Média"
          ],
          [
           "Média",
           "Baixa"
          ],
          [
           "Baixa",
           "Média"
          ],
          [
           "Média",
           "Alta"
          ],
          [
           "Média",
           "Média"
          ],
          [
           "Média",
           "Média"
          ],
          [
           "Média",
           "Alta"
          ],
          [
           "Baixa",
           "Média"
          ],
          [
           "Média",
           "Média"
          ],
          [
           "Média",
           "Média"
          ],
          [
           "Média",
           "Média"
          ],
          [
           "Alta",
           "Média"
          ],
          [
           "Média",
           "Média"
          ],
          [
           "Média",
           "Alta"
          ],
          [
           "Alta",
           "Média"
          ],
          [
           "Alta",
           "Média"
          ],
          [
           "Média",
           "Média"
          ],
          [
           "Média",
           "Média"
          ],
          [
           "Baixa",
           "Média"
          ],
          [
           "Baixa",
           "Média"
          ],
          [
           "Baixa",
           "Alta"
          ],
          [
           "Baixa",
           "Média"
          ],
          [
           "Média",
           "Média"
          ],
          [
           "Média",
           "Média"
          ],
          [
           "Baixa",
           "Média"
          ],
          [
           "Média",
           "Média"
          ],
          [
           "Média",
           "Média"
          ],
          [
           "Alta",
           "Alta"
          ],
          [
           "Média",
           "Média"
          ],
          [
           "Alta",
           "Alta"
          ],
          [
           "Baixa",
           "Alta"
          ],
          [
           "Média",
           "Média"
          ],
          [
           "Baixa",
           "Média"
          ],
          [
           "Média",
           "Média"
          ],
          [
           "Alta",
           "Baixa"
          ],
          [
           "Média",
           "Média"
          ],
          [
           "Média",
           "Alta"
          ],
          [
           "Baixa",
           "Alta"
          ],
          [
           "Baixa",
           "Alta"
          ],
          [
           "Baixa",
           "Alta"
          ],
          [
           "Alta",
           "Alta"
          ],
          [
           "Baixa",
           "Alta"
          ],
          [
           "Baixa",
           "Alta"
          ],
          [
           "Baixa",
           "Alta"
          ],
          [
           "Baixa",
           "Alta"
          ],
          [
           "Baixa",
           "Alta"
          ],
          [
           "Baixa",
           "Alta"
          ]
         ],
         "hovertemplate": "<b>%{hovertext}</b><br><br>color=0<br>Latitude=%{lat}<br>Longitude=%{lon}<br>Categoria de Risco - CRI=%{customdata[0]}<br>Dano Potencial Associado - DPA=%{customdata[1]}<extra></extra>",
         "hovertext": [
          "ARIQUEMES",
          "ARIQUEMES",
          "ARIQUEMES",
          "ARIQUEMES",
          "ARIQUEMES",
          "ITAPUÃ DO OESTE",
          "ITAPUÃ DO OESTE",
          "ITAPUÃ DO OESTE",
          "ITAPUÃ DO OESTE",
          "PRESIDENTE FIGUEIREDO",
          "PRESIDENTE FIGUEIREDO",
          "PRESIDENTE FIGUEIREDO",
          "PRESIDENTE FIGUEIREDO",
          "PRESIDENTE FIGUEIREDO",
          "PRESIDENTE FIGUEIREDO",
          "PRESIDENTE FIGUEIREDO",
          "PRESIDENTE FIGUEIREDO",
          "ALMEIRIM",
          "BARCARENA",
          "BARCARENA",
          "BARCARENA",
          "BARCARENA",
          "BARCARENA",
          "BARCARENA",
          "BARCARENA",
          "BARCARENA",
          "BARCARENA",
          "BARCARENA",
          "CANAÃ DOS CARAJÁS",
          "CURIONÓPOLIS",
          "ITAITUBA",
          "ITAITUBA",
          "ITAITUBA",
          "JURUTI",
          "JURUTI",
          "JURUTI",
          "MARABÁ",
          "MARABÁ",
          "MARABÁ",
          "MARABÁ",
          "MARABÁ",
          "MARABÁ",
          "MARABÁ",
          "MARABÁ",
          "ORIXIMINÁ",
          "ORIXIMINÁ",
          "ORIXIMINÁ",
          "ORIXIMINÁ",
          "ORIXIMINÁ",
          "ORIXIMINÁ",
          "ORIXIMINÁ",
          "ORIXIMINÁ",
          "ORIXIMINÁ",
          "ORIXIMINÁ",
          "ORIXIMINÁ",
          "ORIXIMINÁ",
          "ORIXIMINÁ",
          "ORIXIMINÁ",
          "ORIXIMINÁ",
          "ORIXIMINÁ",
          "ORIXIMINÁ",
          "ORIXIMINÁ",
          "ORIXIMINÁ",
          "ORIXIMINÁ",
          "ORIXIMINÁ",
          "ORIXIMINÁ",
          "ORIXIMINÁ",
          "ORIXIMINÁ",
          "ORIXIMINÁ",
          "ORIXIMINÁ",
          "ORIXIMINÁ",
          "ORIXIMINÁ",
          "ORIXIMINÁ",
          "PARAGOMINAS",
          "PARAGOMINAS",
          "PARAGOMINAS",
          "PARAUAPEBAS",
          "PARAUAPEBAS",
          "PARAUAPEBAS",
          "PARAUAPEBAS",
          "PARAUAPEBAS",
          "PARAUAPEBAS",
          "PEDRA BRANCA DO AMAPARI",
          "PEDRA BRANCA DO AMAPARI",
          "PEDRA BRANCA DO AMAPARI",
          "PEDRA BRANCA DO AMAPARI",
          "VITÓRIA DO JARI",
          "VITÓRIA DO JARI",
          "ARRAIAS",
          "GODOFREDO VIANA",
          "CRAÍBAS",
          "ROSÁRIO DO CATETE",
          "ROSÁRIO DO CATETE",
          "BARROCAS",
          "BARROCAS",
          "BARROCAS",
          "CAETITÉ",
          "CAETITÉ",
          "CAETITÉ",
          "CAETITÉ",
          "ITAGIBÁ",
          "JACOBINA",
          "JACOBINA",
          "JAGUARARI",
          "MAIQUINIQUE",
          "MAIQUINIQUE",
          "MAIQUINIQUE",
          "MARACÁS",
          "MARACÁS",
          "MARACÁS",
          "SANTALUZ",
          "SANTALUZ",
          "ARAXÁ",
          "ARAXÁ",
          "ARAXÁ",
          "ARAXÁ",
          "ARAXÁ",
          "ARAXÁ",
          "ARAXÁ",
          "ARCOS",
          "ARCOS",
          "BARÃO DE COCAIS",
          "BARÃO DE COCAIS",
          "BELO VALE",
          "BELO VALE",
          "BETIM",
          "BRUMADINHO",
          "BRUMADINHO",
          "BRUMADINHO",
          "BRUMADINHO",
          "BRUMADINHO",
          "BRUMADINHO",
          "BRUMADINHO",
          "BRUMADINHO",
          "BRUMADINHO",
          "BRUMADINHO",
          "BRUMADINHO",
          "BRUMADINHO",
          "BRUMADINHO",
          "CALDAS",
          "CALDAS",
          "CALDAS",
          "CATAS ALTAS",
          "CONCEIÇÃO DO MATO DENTRO",
          "CONCEIÇÃO DO MATO DENTRO",
          "CONCEIÇÃO DO MATO DENTRO",
          "CONCEIÇÃO DO MATO DENTRO",
          "CONCEIÇÃO DO MATO DENTRO",
          "CONCEIÇÃO DO PARÁ",
          "CONGONHAS",
          "CONGONHAS",
          "CONGONHAS",
          "CONGONHAS",
          "CONGONHAS",
          "CONGONHAS",
          "CONGONHAS",
          "ESMERALDAS",
          "FORTALEZA DE MINAS",
          "IGARAPÉ",
          "IGARAPÉ",
          "ITABIRA",
          "ITABIRA",
          "ITABIRA",
          "ITABIRA",
          "ITABIRA",
          "ITABIRA",
          "ITABIRA",
          "ITABIRA",
          "ITABIRA",
          "ITABIRA",
          "ITABIRA",
          "ITABIRA",
          "ITABIRA",
          "ITABIRITO",
          "ITABIRITO",
          "ITABIRITO",
          "ITABIRITO",
          "ITABIRITO",
          "ITABIRITO",
          "ITABIRITO",
          "ITABIRITO",
          "ITABIRITO",
          "ITABIRITO",
          "ITABIRITO",
          "ITABIRITO",
          "ITAMARATI DE MINAS",
          "ITAPECERICA",
          "ITAPECERICA",
          "ITAPECERICA",
          "ITATIAIUÇU",
          "ITATIAIUÇU",
          "ITATIAIUÇU",
          "ITATIAIUÇU",
          "ITATIAIUÇU",
          "JECEABA",
          "MARIANA",
          "MARIANA",
          "MARIANA",
          "MARIANA",
          "MARIANA",
          "MARIANA",
          "MARIANA",
          "MARIANA",
          "MARIANA",
          "MARIANA",
          "MATIPÓ",
          "MIRAÍ",
          "MIRAÍ",
          "NOVA ERA",
          "NOVA LIMA",
          "NOVA LIMA",
          "NOVA LIMA",
          "NOVA LIMA",
          "NOVA LIMA",
          "NOVA LIMA",
          "NOVA LIMA",
          "NOVA LIMA",
          "NOVA LIMA",
          "NOVA LIMA",
          "NOVA LIMA",
          "NOVA LIMA",
          "NOVA LIMA",
          "NOVA LIMA",
          "NOVA LIMA",
          "NOVA LIMA",
          "NOVA LIMA",
          "NOVA LIMA",
          "OURO PRETO",
          "OURO PRETO",
          "OURO PRETO",
          "OURO PRETO",
          "OURO PRETO",
          "OURO PRETO",
          "OURO PRETO",
          "OURO PRETO",
          "PARACATU",
          "PARACATU",
          "PARACATU",
          "PARACATU",
          "PARACATU",
          "PARACATU",
          "PARACATU",
          "PARACATU",
          "PARACATU",
          "PATOS DE MINAS",
          "PATOS DE MINAS",
          "PATOS DE MINAS",
          "PEDRA AZUL",
          "PEDRA AZUL",
          "RIACHO DOS MACHADOS",
          "RIO ACIMA",
          "RIO ACIMA",
          "RIO ACIMA",
          "RIO ACIMA",
          "RIO ACIMA",
          "RIO PIRACICABA",
          "RIO PIRACICABA",
          "SABARÁ",
          "SABARÁ",
          "SALTO DA DIVISA",
          "SANTA BÁRBARA",
          "SANTA BÁRBARA",
          "SANTA BÁRBARA",
          "SANTA BÁRBARA",
          "SANTO ANTÔNIO DO GRAMA",
          "SÃO GONÇALO DO RIO ABAIXO",
          "SÃO GONÇALO DO RIO ABAIXO",
          "SÃO GONÇALO DO RIO ABAIXO",
          "SÃO GONÇALO DO RIO ABAIXO",
          "SÃO TIAGO",
          "SÃO TIAGO",
          "SARZEDO",
          "SERRA DO SALITRE",
          "TAPIRA",
          "TAPIRA",
          "TAPIRA",
          "TAPIRA",
          "TAPIRA",
          "VAZANTE",
          "VAZANTE",
          "QUATIS",
          "CAJATI",
          "CAJATI",
          "GUARAREMA",
          "LEME",
          "MOGI DAS CRUZES",
          "MOGI DAS CRUZES",
          "SANTA ISABEL",
          "SANTA ISABEL",
          "SÃO PAULO",
          "SÃO PAULO",
          "SÃO SIMÃO",
          "CAMPO LARGO",
          "CERRO AZUL",
          "CERRO AZUL",
          "SIDERÓPOLIS",
          "TREVISO",
          "TREVISO",
          "TREVISO",
          "TREVISO",
          "TREVISO",
          "TREVISO",
          "URUSSANGA",
          "CAÇAPAVA DO SUL",
          "CACHOEIRA DO SUL",
          "MINAS DO LEÃO",
          "CORUMBÁ",
          "CORUMBÁ",
          "CORUMBÁ",
          "CORUMBÁ",
          "CUIABÁ",
          "CUIABÁ",
          "CUIABÁ",
          "VILA BELA DA SANTÍSSIMA TRINDADE",
          "VILA BELA DA SANTÍSSIMA TRINDADE",
          "VILA BELA DA SANTÍSSIMA TRINDADE",
          "NOSSA SENHORA DO LIVRAMENTO",
          "NOSSA SENHORA DO LIVRAMENTO",
          "NOSSA SENHORA DO LIVRAMENTO",
          "NOSSA SENHORA DO LIVRAMENTO",
          "NOSSA SENHORA DO LIVRAMENTO",
          "NOSSA SENHORA DO LIVRAMENTO",
          "NOSSA SENHORA DO LIVRAMENTO",
          "NOSSA SENHORA DO LIVRAMENTO",
          "NOSSA SENHORA DO LIVRAMENTO",
          "NOSSA SENHORA DO LIVRAMENTO",
          "NOSSA SENHORA DO LIVRAMENTO",
          "NOSSA SENHORA DO LIVRAMENTO",
          "NOSSA SENHORA DO LIVRAMENTO",
          "NOSSA SENHORA DO LIVRAMENTO",
          "NOSSA SENHORA DO LIVRAMENTO",
          "NOSSA SENHORA DO LIVRAMENTO",
          "NOSSA SENHORA DO LIVRAMENTO",
          "POCONÉ",
          "POCONÉ",
          "POCONÉ",
          "POCONÉ",
          "POCONÉ",
          "POCONÉ",
          "POCONÉ",
          "POCONÉ",
          "POCONÉ",
          "POCONÉ",
          "POCONÉ",
          "POCONÉ",
          "POCONÉ",
          "POCONÉ",
          "POCONÉ",
          "POCONÉ",
          "PONTES E LACERDA",
          "PONTES E LACERDA",
          "PONTES E LACERDA",
          "PONTES E LACERDA",
          "PONTES E LACERDA",
          "PONTES E LACERDA",
          "PONTES E LACERDA",
          "RIO BRANCO",
          "ALTO HORIZONTE",
          "CATALÃO",
          "CATALÃO",
          "CRIXÁS",
          "OUVIDOR",
          "OUVIDOR",
          "OUVIDOR",
          "OUVIDOR",
          "OUVIDOR",
          "PILAR DE GOIÁS"
         ],
         "lat": [
          -9.765406944444445,
          -9.76586111111111,
          -9.787805555555556,
          -9.817,
          -9.7955,
          -9.198694444444445,
          -9.20436111111111,
          -9.205542777777778,
          -9.210861111111111,
          -0.7380277777777777,
          -0.7322869444444444,
          -0.7384238888888889,
          -0.7565758333333333,
          -0.7853611111111111,
          -0.733361111111111,
          -0.7857222222222222,
          -0.7896666666666666,
          -0.8976111111111111,
          -1.5734438888888889,
          -1.5741666666666667,
          -1.5730555555555557,
          -1.5706111111111112,
          -1.5809027777777778,
          -1.5813408333333334,
          -1.584,
          -1.5827777777777778,
          -1.5814269444444444,
          -1.5802777777777777,
          -6.429108888888889,
          -6.236122222222222,
          -6.366119444444444,
          -6.3608361111111105,
          -6.365602777777777,
          -2.505,
          -2.5006944444444446,
          -2.496611111111111,
          -5.5135861111111115,
          -5.823972222222222,
          -5.778,
          -5.5125,
          -5.509079722222222,
          -5.81726,
          -5.8326111111111105,
          -5.779638888888889,
          -1.6694027777777776,
          -1.6719944444444443,
          -1.673861111111111,
          -1.6764999999999999,
          -1.6696944444444444,
          -1.6749166666666666,
          -1.6685277777777776,
          -1.6877777777777778,
          -1.6817777777777776,
          -1.6848055555555557,
          -1.6715555555555555,
          -1.690611111111111,
          -1.6826944444444443,
          -1.6828333333333332,
          -1.6763333333333332,
          -1.669722222222222,
          -1.673472222222222,
          -1.6929444444444444,
          -1.69875,
          -1.699888888888889,
          -1.693888888888889,
          -1.6808733333333332,
          -1.6846944444444445,
          -1.4719166666666668,
          -1.4658055555555556,
          -1.6829166666666666,
          -1.6835,
          -1.6826388888888888,
          -1.6873055555555556,
          -3.265273888888889,
          -3.2648444444444444,
          -3.2594944444444445,
          -5.979277777777778,
          -5.994793333333333,
          -6.099444444444444,
          -6.108138888888888,
          -6.046821111111111,
          -6.078138888888889,
          -0.8008358333333334,
          -0.8531666666666667,
          -0.875675,
          -0.8722777777777777,
          -0.8940277777777778,
          -0.8976869444444444,
          -12.895818888888888,
          -1.3095933333333334,
          -9.67225,
          -10.657833333333334,
          -10.657333333333334,
          -11.449666666666667,
          -11.447133888888889,
          -11.448055555555555,
          -13.835227777777778,
          -13.834747222222223,
          -13.835941666666667,
          -13.836108333333334,
          -14.189108888888889,
          -11.243638888888889,
          -11.23511111111111,
          -9.851138888888888,
          -15.777333333333335,
          -15.778333333333334,
          -15.780347222222224,
          -13.686736388888889,
          -13.68725,
          -13.68993611111111,
          -11.003444444444444,
          -11.003638888888888,
          -19.649722222222223,
          -19.610835,
          -19.63361111111111,
          -19.611005833333333,
          -19.65020388888889,
          -19.654166666666665,
          -19.616944444444446,
          -20.31343888888889,
          -20.316561111111113,
          -19.84834222222222,
          -19.851347222222223,
          -20.42527777777778,
          -20.433944444444446,
          -19.985555555555557,
          -20.118047222222224,
          -20.108272777777778,
          -20.119805555555555,
          -20.117583333333332,
          -20.128083333333333,
          -20.119055555555555,
          -20.104277777777778,
          -20.064805555555555,
          -20.066305555555555,
          -20.16186111111111,
          -20.122972222222224,
          -20.126991944444445,
          -20.11936111111111,
          -21.94025388888889,
          -21.96611111111111,
          -21.97076111111111,
          -20.105474444444447,
          -18.865222222222222,
          -18.889722222222222,
          -18.92082888888889,
          -18.93166666666667,
          -18.935555555555556,
          -19.746055555555557,
          -20.425833333333333,
          -20.43402777777778,
          -20.485833333333336,
          -20.50583333333333,
          -20.485,
          -20.45647222222222,
          -20.485277777777778,
          -19.74500388888889,
          -20.89286111111111,
          -20.110430555555556,
          -20.103527777777778,
          -19.640643333333333,
          -19.645592222222223,
          -19.60931,
          -19.612504722222223,
          -19.575618055555555,
          -19.572700277777777,
          -19.555094166666667,
          -19.56347388888889,
          -19.607335833333334,
          -19.68536111111111,
          -19.674222222222223,
          -19.647583333333333,
          -19.57450888888889,
          -20.23311111111111,
          -20.22086,
          -20.26043888888889,
          -20.197243055555557,
          -20.21129138888889,
          -20.196583333333333,
          -20.272875833333334,
          -20.275777777777776,
          -20.301869444444446,
          -20.21045472222222,
          -20.224916666666665,
          -20.214416666666665,
          -21.455224722222223,
          -20.444222222222223,
          -20.440055555555556,
          -20.43786111111111,
          -20.137583333333332,
          -20.1387,
          -20.138424999999998,
          -20.172921666666667,
          -20.170972222222222,
          -20.56261111111111,
          -20.188345,
          -20.176068055555557,
          -20.139289722222223,
          -20.184531944444444,
          -20.207473055555553,
          -20.2165,
          -20.210477777777776,
          -20.235874722222224,
          -20.24127777777778,
          -20.23131944444444,
          -20.371955833333335,
          -21.211575277777776,
          -21.06215472222222,
          -19.60171388888889,
          -20.15272222222222,
          -20.14975,
          -20.18186111111111,
          -20.155694444444443,
          -20.12441666666667,
          -20.12988888888889,
          -19.96361111111111,
          -20.11061527777778,
          -20.068666666666665,
          -20.05825,
          -20.06113888888889,
          -20.039333333333335,
          -20.15288888888889,
          -19.977086666666665,
          -19.96,
          -19.965555555555554,
          -19.967364999999997,
          -20.02622583333333,
          -20.193141666666666,
          -20.454777777777778,
          -20.290448611111113,
          -20.270514444444444,
          -20.437981944444445,
          -20.447408333333332,
          -20.425600000000003,
          -20.402205555555554,
          -17.146166666666666,
          -17.496333333333336,
          -17.513333333333332,
          -17.510666666666665,
          -17.146333333333335,
          -17.174166666666668,
          -17.1755,
          -17.172333333333334,
          -17.182333333333336,
          -18.37902777777778,
          -18.379805555555556,
          -18.38088888888889,
          -15.888833333333332,
          -15.918861111111111,
          -16.0546,
          -20.062805555555556,
          -20.061694444444445,
          -20.161011944444443,
          -20.16338888888889,
          -20.158840833333333,
          -19.929942222222223,
          -19.932458611111112,
          -19.857194444444445,
          -19.865781944444446,
          -16.207638888888887,
          -20.1735,
          -20.019166666666667,
          -19.959216666666666,
          -19.963639722222222,
          -20.344805555555553,
          -19.87864972222222,
          -19.87477861111111,
          -19.864143611111114,
          -19.883975,
          -21.072666666666667,
          -21.08393611111111,
          -20.0899,
          -19.047833333333337,
          -19.82102777777778,
          -19.84247222222222,
          -19.788861111111114,
          -19.8385,
          -19.837249999999997,
          -17.972666666666665,
          -17.961335833333333,
          -22.455055555555553,
          -24.69986666666667,
          -24.718744444444443,
          -23.389027777777777,
          -22.18888888888889,
          -23.49663888888889,
          -23.49716666666667,
          -23.355833333333333,
          -23.35663888888889,
          -23.420555555555556,
          -23.409555555555553,
          -21.43033888888889,
          -25.370505833333333,
          -24.748508333333334,
          -24.747997222222224,
          -28.586851944444444,
          -28.473055555555554,
          -28.49211111111111,
          -28.49413888888889,
          -28.48306111111111,
          -28.482441666666666,
          -28.481502777777777,
          -28.453611111111112,
          -30.919777777777778,
          -30.386201944444444,
          -30.131027777777778,
          -19.26527777777778,
          -19.205527777777778,
          -19.224446666666665,
          -19.262694444444445,
          -15.560166666666667,
          -15.561816666666667,
          -15.534016666666666,
          -14.849338888888889,
          -14.835988055555557,
          -14.852415833333334,
          -15.960463888888889,
          -15.69313611111111,
          -15.647963888888889,
          -15.691361111111112,
          -16.058772222222224,
          -15.659277777777778,
          -15.466513888888889,
          -15.659775,
          -15.872527777777778,
          -15.954652777777778,
          -15.65463888888889,
          -15.98753611111111,
          -16.139333333333333,
          -15.95722222222222,
          -15.895583333333333,
          -15.937664722222223,
          -16.16332222222222,
          -16.246430555555555,
          -16.255249166666665,
          -16.257,
          -16.279689166666667,
          -16.2924,
          -16.245391666666666,
          -16.25285277777778,
          -16.24553611111111,
          -16.232602777777775,
          -16.31250277777778,
          -16.024538888888888,
          -16.06896111111111,
          -16.290750000000003,
          -16.307420833333335,
          -16.28215833333333,
          -16.30513611111111,
          -15.181433333333333,
          -15.347345833333334,
          -15.132683333333334,
          -15.129725,
          -15.135091666666666,
          -15.139533333333333,
          -15.13543611111111,
          -15.396194444444443,
          -14.205833333333333,
          -18.112583333333333,
          -18.10531388888889,
          -14.561166666666667,
          -18.152136944444443,
          -18.144444444444446,
          -18.141666666666666,
          -18.148055555555555,
          -18.162499999999998,
          -14.810166666666667
         ],
         "legendgroup": "0",
         "lon": [
          -63.52003083333333,
          -63.568583333333336,
          -63.57516666666667,
          -63.55319444444444,
          -63.56527777777777,
          -63.075138888888894,
          -63.08455555555556,
          -63.083620833333335,
          -63.08638888888889,
          -60.07891666666667,
          -60.06899888888889,
          -60.075865,
          -60.08802888888889,
          -60.19341111111111,
          -60.13838888888889,
          -60.14191666666667,
          -60.14427777777778,
          -52.441805555555554,
          -48.75288277777778,
          -48.7505,
          -48.75555555555555,
          -48.75702777777778,
          -48.74978388888889,
          -48.751307777777775,
          -48.748916666666666,
          -48.747055555555555,
          -48.745565,
          -48.74761111111111,
          -50.07015388888889,
          -49.76645277777778,
          -56.26777777777777,
          -56.26710833333333,
          -56.26658611111111,
          -56.175777777777775,
          -56.166805555555555,
          -56.17380555555555,
          -50.235533333333336,
          -50.491416666666666,
          -50.52291666666667,
          -50.222500000000004,
          -50.23345194444445,
          -50.567168888888894,
          -50.54111111111111,
          -50.53863888888889,
          -56.49225833333333,
          -56.48735,
          -56.49186944444445,
          -56.437999999999995,
          -56.44488888888888,
          -56.46091666666667,
          -56.462250000000004,
          -56.472500000000004,
          -56.41108333333333,
          -56.427055555555555,
          -56.434194444444444,
          -56.42697222222222,
          -56.43541666666666,
          -56.44455555555555,
          -56.424277777777775,
          -56.44008333333333,
          -56.45280555555556,
          -56.467305555555555,
          -56.47027777777778,
          -56.47541666666667,
          -56.476111111111116,
          -56.46892888888889,
          -56.40369444444444,
          -56.38575,
          -56.39066666666667,
          -56.418166666666664,
          -56.45266666666667,
          -56.46327777777778,
          -56.468250000000005,
          -47.753166666666665,
          -47.72116666666667,
          -47.75816666666667,
          -50.141416666666665,
          -50.10948166666667,
          -50.1625,
          -50.16905555555555,
          -50.142919166666665,
          -50.29147222222222,
          -51.87452583333334,
          -51.888194444444444,
          -51.887058333333336,
          -51.89593055555555,
          -52.364583333333336,
          -52.378970833333334,
          -46.81811777777778,
          -45.767765555555556,
          -36.77325,
          -37.02983333333333,
          -37.03133333333333,
          -39.089666666666666,
          -39.071195833333334,
          -39.09805555555556,
          -42.281702777777774,
          -42.281169444444444,
          -42.28261944444444,
          -42.284283333333335,
          -39.69714083333333,
          -40.52575,
          -40.52908333333333,
          -39.82658333333334,
          -40.32233333333334,
          -40.31783333333334,
          -40.31443055555555,
          -40.69166166666666,
          -40.689138888888884,
          -40.69147222222222,
          -39.28702777777777,
          -39.30083333333333,
          -46.94611111111111,
          -47.02936583333333,
          -46.99638888888889,
          -47.01284777777778,
          -46.95232194444445,
          -46.95305555555556,
          -47.02111111111111,
          -45.57745555555556,
          -45.58316111111112,
          -43.42172055555555,
          -43.41376944444444,
          -43.927861111111106,
          -43.931555555555555,
          -44.12147222222222,
          -44.319252777777784,
          -44.07366777777778,
          -44.307472222222216,
          -44.317194444444446,
          -44.13827777777778,
          -44.12441666666667,
          -44.11966666666667,
          -44.029222222222224,
          -44.02719444444444,
          -44.00622222222222,
          -44.31258333333333,
          -44.31611083333333,
          -44.31594444444444,
          -46.48911888888889,
          -46.51111111111111,
          -46.49391111111111,
          -43.40418222222222,
          -43.40811111111111,
          -43.405277777777776,
          -43.406573055555555,
          -43.401666666666664,
          -43.40119166666666,
          -44.87441666666667,
          -43.891777777777776,
          -43.882333333333335,
          -43.88583333333333,
          -43.88333333333333,
          -43.93333333333333,
          -43.89447222222222,
          -43.955000000000005,
          -44.37478055555555,
          -46.70527777777778,
          -44.28667222222222,
          -44.28819444444444,
          -43.24147777777778,
          -43.242225,
          -43.2633825,
          -43.26678,
          -43.20475694444445,
          -43.197536388888885,
          -43.1608625,
          -43.20628277777778,
          -43.257255,
          -43.28622222222222,
          -43.23641666666667,
          -43.274138888888885,
          -43.24628555555556,
          -43.85675,
          -43.90835611111111,
          -43.926775,
          -43.87911916666667,
          -43.88174638888889,
          -43.86708333333333,
          -43.89517083333333,
          -43.89822222222222,
          -43.923024999999996,
          -43.68577777777777,
          -43.873222222222225,
          -43.89169444444445,
          -42.87165888888889,
          -45.13352777777778,
          -45.132,
          -45.14841666666667,
          -44.396166666666666,
          -44.38018888888889,
          -44.38658611111111,
          -44.4485475,
          -44.45458333333334,
          -43.95086111111112,
          -43.497886944444446,
          -43.487316666666665,
          -43.41233305555556,
          -43.43761361111111,
          -43.45439972222223,
          -43.46794444444445,
          -43.46011388888889,
          -43.42299194444444,
          -43.41088694444444,
          -43.44181666666666,
          -42.35480777777778,
          -42.714930833333334,
          -42.563762777777775,
          -43.029916666666665,
          -43.96544444444445,
          -43.96458333333334,
          -43.867,
          -43.88711111111111,
          -43.92522222222222,
          -43.92569444444444,
          -43.83888888888889,
          -43.963614166666666,
          -43.93058333333333,
          -43.964083333333335,
          -43.961333333333336,
          -43.929138888888886,
          -43.888416666666664,
          -43.893002777777774,
          -43.882777777777775,
          -43.88527777777778,
          -43.882979166666665,
          -43.942562499999994,
          -43.5085,
          -43.776944444444446,
          -43.49052777777778,
          -43.49623527777778,
          -43.83400972222223,
          -43.64382222222222,
          -43.864691666666666,
          -43.85186388888889,
          -46.902166666666666,
          -46.81883333333334,
          -46.82833333333333,
          -46.82833333333333,
          -46.85633333333333,
          -46.87916666666667,
          -46.88783333333333,
          -46.88333333333333,
          -46.898833333333336,
          -46.92647222222222,
          -46.93283333333333,
          -46.92719444444444,
          -41.06022222222222,
          -41.03905555555556,
          -43.11406388888889,
          -43.79472222222222,
          -43.794694444444445,
          -43.84780583333333,
          -43.85100277777778,
          -43.84299583333333,
          -43.196193888888885,
          -43.20921333333334,
          -43.80452777777778,
          -43.727559722222225,
          -39.94694444444444,
          -43.61530555555556,
          -43.49283333333334,
          -43.23888888888889,
          -43.2378675,
          -42.56188888888889,
          -43.37824722222222,
          -43.37972833333333,
          -43.355869444444444,
          -43.38568,
          -44.588483333333336,
          -44.57685166666667,
          -44.10048888888889,
          -46.724000000000004,
          -46.84180555555556,
          -46.86425,
          -46.87888888888889,
          -46.83277777777778,
          -46.837361111111115,
          -46.814499999999995,
          -46.84977777777778,
          -44.28619444444444,
          -48.11296277777778,
          -48.095475,
          -46.135333333333335,
          -47.456944444444446,
          -46.24733333333334,
          -46.24388888888889,
          -46.283166666666666,
          -46.28494444444444,
          -46.73605555555556,
          -46.73122222222222,
          -47.613055555555555,
          -49.69086083333333,
          -49.187797222222216,
          -49.19470277777778,
          -49.443215277777774,
          -49.45805555555556,
          -49.46027777777778,
          -49.46002777777778,
          -49.451122222222224,
          -49.45132777777778,
          -49.452086111111115,
          -49.37027777777778,
          -53.41804166666667,
          -53.043733055555556,
          -52.051944444444445,
          -57.52661111111111,
          -57.635305555555554,
          -57.559979166666665,
          -57.527055555555556,
          -55.79266666666666,
          -55.82259444444445,
          -56.05063611111111,
          -59.658113888888884,
          -59.66909111111111,
          -59.654468611111106,
          -56.47827222222222,
          -56.36548055555556,
          -56.38133888888889,
          -56.350972222222225,
          -56.35288333333334,
          -56.28508333333333,
          -56.46089583333334,
          -56.354036111111114,
          -56.17219444444444,
          -56.27270277777777,
          -56.38876388888889,
          -56.313855555555556,
          -56.396,
          -56.48128888888889,
          -56.18538888888889,
          -56.291803888888886,
          -56.41588611111111,
          -56.58774722222223,
          -56.67122833333333,
          -56.6693425,
          -56.64747611111111,
          -56.650755555555556,
          -56.607369444444444,
          -56.606011111111115,
          -56.58928055555556,
          -56.60697527777778,
          -56.65228611111111,
          -56.521163888888886,
          -56.565102777777774,
          -56.71197222222222,
          -56.75136777777778,
          -56.617225,
          -56.72061055555556,
          -59.34515277777778,
          -59.25678166666667,
          -59.371611111111115,
          -59.36935277777778,
          -59.37916111111111,
          -59.35851666666667,
          -59.376958333333334,
          -58.14525,
          -49.406166666666664,
          -47.78447222222222,
          -47.77976666666667,
          -49.96016666666667,
          -47.80566694444444,
          -47.80611111111111,
          -47.811388888888885,
          -47.80305555555555,
          -47.84541666666667,
          -49.54066666666667
         ],
         "marker": {
          "color": "#EF553B"
         },
         "mode": "markers",
         "name": "0",
         "showlegend": true,
         "subplot": "mapbox",
         "type": "scattermapbox"
        },
        {
         "customdata": [
          [
           "Alta",
           "Média"
          ],
          [
           "Baixa",
           "Baixa"
          ],
          [
           "Média",
           "Baixa"
          ],
          [
           "Média",
           "Baixa"
          ],
          [
           "Baixa",
           "Baixa"
          ],
          [
           "Baixa",
           "Baixa"
          ],
          [
           "Baixa",
           "Baixa"
          ],
          [
           "Baixa",
           "Média"
          ],
          [
           "Baixa",
           "Média"
          ],
          [
           "Baixa",
           "Média"
          ],
          [
           "Baixa",
           "Média"
          ],
          [
           "Média",
           "Baixa"
          ],
          [
           "Baixa",
           "Alta"
          ],
          [
           "Baixa",
           "Alta"
          ],
          [
           "Baixa",
           "Alta"
          ],
          [
           "Média",
           "Baixa"
          ],
          [
           "Baixa",
           "Baixa"
          ],
          [
           "Baixa",
           "Baixa"
          ],
          [
           "Baixa",
           "Alta"
          ],
          [
           "Média",
           "Baixa"
          ],
          [
           "Média",
           "Baixa"
          ],
          [
           "Média",
           "Baixa"
          ],
          [
           "Média",
           "Baixa"
          ],
          [
           "Média",
           "Baixa"
          ],
          [
           "Média",
           "Baixa"
          ],
          [
           "Baixa",
           "Baixa"
          ],
          [
           "Baixa",
           "Baixa"
          ],
          [
           "Média",
           "Baixa"
          ],
          [
           "Média",
           "Baixa"
          ],
          [
           "Baixa",
           "Média"
          ],
          [
           "Média",
           "Baixa"
          ],
          [
           "Média",
           "Baixa"
          ],
          [
           "Média",
           "Baixa"
          ],
          [
           "Média",
           "Baixa"
          ],
          [
           "Média",
           "Média"
          ],
          [
           "Média",
           "Baixa"
          ],
          [
           "Média",
           "Alta"
          ],
          [
           "Média",
           "Baixa"
          ],
          [
           "Média",
           "Baixa"
          ],
          [
           "Baixa",
           "Baixa"
          ],
          [
           "Média",
           "Baixa"
          ],
          [
           "Média",
           "Baixa"
          ],
          [
           "Média",
           "Baixa"
          ],
          [
           "Média",
           "Baixa"
          ],
          [
           "Média",
           "Baixa"
          ],
          [
           "Baixa",
           "Baixa"
          ],
          [
           "Média",
           "Baixa"
          ],
          [
           "Baixa",
           "Baixa"
          ],
          [
           "Baixa",
           "Baixa"
          ],
          [
           "Média",
           "Alta"
          ],
          [
           "Baixa",
           "Baixa"
          ],
          [
           "Média",
           "Baixa"
          ],
          [
           "Média",
           "Baixa"
          ],
          [
           "Baixa",
           "Média"
          ],
          [
           "Baixa",
           "Alta"
          ],
          [
           "Baixa",
           "Alta"
          ],
          [
           "Baixa",
           "Média"
          ],
          [
           "Baixa",
           "Baixa"
          ],
          [
           "Média",
           "Baixa"
          ],
          [
           "Alta",
           "Média"
          ],
          [
           "Média",
           "Média"
          ],
          [
           "Média",
           "Alta"
          ],
          [
           "Média",
           "Alta"
          ],
          [
           "Média",
           "Alta"
          ],
          [
           "Não se aplica",
           "Não se aplica"
          ],
          [
           "Não se aplica",
           "Não se aplica"
          ],
          [
           "Média",
           "Média"
          ],
          [
           "Média",
           "Média"
          ],
          [
           "Baixa",
           "Baixa"
          ],
          [
           "Média",
           "Média"
          ],
          [
           "Média",
           "Média"
          ],
          [
           "Média",
           "Baixa"
          ],
          [
           "Alta",
           "Baixa"
          ],
          [
           "Média",
           "Baixa"
          ],
          [
           "Alta",
           "Baixa"
          ],
          [
           "Média",
           "Baixa"
          ],
          [
           "Média",
           "Baixa"
          ]
         ],
         "hovertemplate": "<b>%{hovertext}</b><br><br>color=1<br>Latitude=%{lat}<br>Longitude=%{lon}<br>Categoria de Risco - CRI=%{customdata[0]}<br>Dano Potencial Associado - DPA=%{customdata[1]}<extra></extra>",
         "hovertext": [
          "ARIQUEMES",
          "MACHADINHO D'OESTE",
          "RIO CRESPO",
          "RIO CRESPO",
          "ITAPUÃ DO OESTE",
          "JURUTI",
          "JURUTI",
          "JURUTI",
          "JURUTI",
          "JURUTI",
          "JURUTI",
          "CAMPO FORMOSO",
          "CAMPO FORMOSO",
          "CAETÉ",
          "CAETÉ",
          "INHAÚMA",
          "INHAÚMA",
          "LAGAMAR",
          "MARIANA",
          "AGUAÍ",
          "ANALÂNDIA",
          "ANALÂNDIA",
          "ANALÂNDIA",
          "BOFETE",
          "BOFETE",
          "BOFETE",
          "BOFETE",
          "CAPIVARI",
          "CARAGUATATUBA",
          "CORUMBATAÍ",
          "DESCALVADO",
          "DESCALVADO",
          "DESCALVADO",
          "HORTOLÂNDIA",
          "HORTOLÂNDIA",
          "IBIÚNA",
          "IBIÚNA",
          "ITAPETININGA",
          "ITAPETININGA",
          "ITAPETININGA",
          "LEME",
          "MOGI DAS CRUZES",
          "MOGI DAS CRUZES",
          "MOGI DAS CRUZES",
          "MOGI DAS CRUZES",
          "MOGI DAS CRUZES",
          "PEDREIRA",
          "SALTO DE PIRAPORA",
          "SALTO DE PIRAPORA",
          "SALTO DE PIRAPORA",
          "SANTANA DE PARNAÍBA",
          "SÃO PAULO",
          "SÃO PAULO",
          "SÃO SIMÃO",
          "LAURO MÜLLER",
          "LAURO MÜLLER",
          "SIDERÓPOLIS",
          "URUSSANGA",
          "NOVA PETRÓPOLIS",
          "NOSSA SENHORA DO LIVRAMENTO",
          "NOSSA SENHORA DO LIVRAMENTO",
          "NOSSA SENHORA DO LIVRAMENTO",
          "NOSSA SENHORA DO LIVRAMENTO",
          "NOSSA SENHORA DO LIVRAMENTO",
          "NOSSA SENHORA DO LIVRAMENTO",
          "NOVA BANDEIRANTES",
          "POCONÉ",
          "POCONÉ",
          "POCONÉ",
          "PONTES E LACERDA",
          "PONTES E LACERDA",
          "VÁRZEA GRANDE",
          "NIQUELÂNDIA",
          "NIQUELÂNDIA",
          "NIQUELÂNDIA",
          "SÃO LUÍS DE MONTES BELOS",
          "SÃO LUÍS DE MONTES BELOS"
         ],
         "lat": [
          -9.792790833333333,
          -9.583333333333334,
          -9.586308333333333,
          -9.619663888888889,
          -9.461388888888887,
          -2.4866944444444443,
          -2.536477777777778,
          -2.495888888888889,
          -2.48625,
          -2.4869444444444446,
          -2.484027777777778,
          -10.54561111111111,
          -10.545,
          -19.934925833333335,
          -19.958252777777776,
          -19.582444444444445,
          -19.582597222222223,
          -18.27986111111111,
          -20.194805555555554,
          -21.996166666666667,
          -22.15502083333333,
          -22.156957499999997,
          -22.150666666666666,
          -23.120833333333334,
          -23.17813888888889,
          -23.193922222222223,
          -23.177833333333336,
          -23.00825777777778,
          -23.659,
          -22.192083333333333,
          -21.956799999999998,
          -21.954739444444442,
          -21.951668333333334,
          -22.86766666666667,
          -22.852100833333335,
          -23.78541666666667,
          -23.788194444444446,
          -23.65908333333333,
          -23.651527777777776,
          -23.66244,
          -22.192777777777778,
          -23.398166666666665,
          -23.3955,
          -23.411944444444444,
          -23.404444444444444,
          -23.41685,
          -22.747944444444446,
          -23.62836111111111,
          -23.631555555555558,
          -23.662,
          -23.400988888888886,
          -23.785111111111114,
          -23.782916666666665,
          -21.432786111111113,
          -28.40961111111111,
          -28.408819444444443,
          -28.577277777777777,
          -28.456441666666667,
          -29.346666666666664,
          -15.921744444444444,
          -15.656355833333334,
          -15.661886111111112,
          -15.663845833333333,
          -15.656125000000001,
          -15.656344444444445,
          -9.215338888888889,
          -16.255,
          -16.08167222222222,
          -16.27436111111111,
          -15.131490833333334,
          -15.13238888888889,
          -15.621347222222223,
          -14.52635,
          -14.478547222222222,
          -14.415972222222223,
          -16.39388888888889,
          -16.39713888888889
         ],
         "legendgroup": "1",
         "lon": [
          -63.55968583333333,
          -62.39611111111111,
          -62.86429166666667,
          -63.06617222222222,
          -63.07555555555556,
          -56.17813888888889,
          -56.16697194444444,
          -56.18801111111111,
          -56.196,
          -56.17305555555555,
          -56.20183333333333,
          -40.42519444444444,
          -40.41455555555555,
          -43.649055833333335,
          -43.63480888888889,
          -44.41141666666667,
          -44.409930555555555,
          -46.86211111111111,
          -43.49308333333333,
          -47.16780555555555,
          -47.63945138888889,
          -47.64279138888889,
          -47.6425,
          -48.2265,
          -48.34652777777778,
          -48.358672222222225,
          -48.34466666666667,
          -47.48237972222223,
          -45.52066666666666,
          -47.55152777777778,
          -47.621859722222226,
          -47.61333722222222,
          -47.61306166666667,
          -47.23928333333333,
          -47.23936277777778,
          -47.11944444444445,
          -47.1215,
          -48.00566666666667,
          -47.99236111111111,
          -48.001398888888886,
          -47.45444444444445,
          -46.20483333333333,
          -46.20483333333333,
          -46.21188888888889,
          -46.19847222222222,
          -46.21273888888889,
          -46.87166666666667,
          -47.622,
          -47.621805555555554,
          -47.66663888888889,
          -46.91824722222222,
          -46.696777777777775,
          -46.69880555555555,
          -47.61324166666667,
          -49.427749999999996,
          -49.42847777777777,
          -49.44219444444444,
          -49.37055,
          -51.19166666666666,
          -56.16320555555556,
          -56.33784083333334,
          -56.34405277777778,
          -56.35261388888889,
          -56.385374999999996,
          -56.38233888888889,
          -58.29170833333333,
          -56.61527777777778,
          -56.55501972222222,
          -56.63725,
          -59.373534444444445,
          -59.37752777777778,
          -56.27679166666667,
          -48.46074166666667,
          -48.25893888888889,
          -48.25553611111111,
          -50.38366666666666,
          -50.38341666666667
         ],
         "marker": {
          "color": "#00cc96"
         },
         "mode": "markers",
         "name": "1",
         "showlegend": true,
         "subplot": "mapbox",
         "type": "scattermapbox"
        },
        {
         "customdata": [
          [
           "Média",
           "Baixa"
          ],
          [
           "Baixa",
           "Baixa"
          ],
          [
           "Baixa",
           "Baixa"
          ],
          [
           "Baixa",
           "Baixa"
          ],
          [
           "Baixa",
           "Baixa"
          ],
          [
           "Baixa",
           "Baixa"
          ],
          [
           "Baixa",
           "Baixa"
          ],
          [
           "Baixa",
           "Baixa"
          ],
          [
           "Baixa",
           "Baixa"
          ],
          [
           "Média",
           "Baixa"
          ],
          [
           "Baixa",
           "Baixa"
          ],
          [
           "Baixa",
           "Baixa"
          ],
          [
           "Baixa",
           "Baixa"
          ],
          [
           "Baixa",
           "Baixa"
          ],
          [
           "Baixa",
           "Baixa"
          ],
          [
           "Média",
           "Baixa"
          ],
          [
           "Baixa",
           "Baixa"
          ],
          [
           "Baixa",
           "Baixa"
          ],
          [
           "Baixa",
           "Baixa"
          ],
          [
           "Baixa",
           "Baixa"
          ],
          [
           "Baixa",
           "Baixa"
          ],
          [
           "Baixa",
           "Baixa"
          ],
          [
           "Baixa",
           "Baixa"
          ],
          [
           "Média",
           "Baixa"
          ],
          [
           "Baixa",
           "Baixa"
          ],
          [
           "Média",
           "Baixa"
          ],
          [
           "Baixa",
           "Baixa"
          ],
          [
           "Baixa",
           "Baixa"
          ],
          [
           "Baixa",
           "Baixa"
          ],
          [
           "Baixa",
           "Baixa"
          ],
          [
           "Baixa",
           "Baixa"
          ],
          [
           "Baixa",
           "Baixa"
          ],
          [
           "Baixa",
           "Baixa"
          ],
          [
           "Baixa",
           "Baixa"
          ],
          [
           "Baixa",
           "Baixa"
          ],
          [
           "Baixa",
           "Baixa"
          ],
          [
           "Baixa",
           "Baixa"
          ],
          [
           "Baixa",
           "Baixa"
          ],
          [
           "Baixa",
           "Baixa"
          ],
          [
           "Baixa",
           "Baixa"
          ],
          [
           "Baixa",
           "Baixa"
          ],
          [
           "Baixa",
           "Baixa"
          ],
          [
           "Baixa",
           "Alta"
          ],
          [
           "Média",
           "Baixa"
          ],
          [
           "Baixa",
           "Alta"
          ],
          [
           "Média",
           "Alta"
          ]
         ],
         "hovertemplate": "<b>%{hovertext}</b><br><br>color=4<br>Latitude=%{lat}<br>Longitude=%{lon}<br>Categoria de Risco - CRI=%{customdata[0]}<br>Dano Potencial Associado - DPA=%{customdata[1]}<extra></extra>",
         "hovertext": [
          "JAGUARARI",
          "JAGUARARI",
          "JAGUARARI",
          "JAGUARARI",
          "JAGUARARI",
          "JAGUARARI",
          "JAGUARARI",
          "JAGUARARI",
          "JAGUARARI",
          "JAGUARARI",
          "JAGUARARI",
          "JAGUARARI",
          "JAGUARARI",
          "JAGUARARI",
          "JAGUARARI",
          "JAGUARARI",
          "JAGUARARI",
          "JAGUARARI",
          "JAGUARARI",
          "JAGUARARI",
          "JAGUARARI",
          "JAGUARARI",
          "JAGUARARI",
          "JAGUARARI",
          "JAGUARARI",
          "JAGUARARI",
          "JAGUARARI",
          "JAGUARARI",
          "JAGUARARI",
          "JAGUARARI",
          "JAGUARARI",
          "JAGUARARI",
          "JAGUARARI",
          "JAGUARARI",
          "JAGUARARI",
          "JAGUARARI",
          "JAGUARARI",
          "JAGUARARI",
          "JAGUARARI",
          "JAGUARARI",
          "JAGUARARI",
          "JAGUARARI",
          "RIO PIRACICABA",
          "SABARÁ",
          "SANTA BÁRBARA",
          "CAJATI"
         ],
         "lat": [
          -9.861611111111111,
          -9.85286111111111,
          -9.852825,
          -9.855442499999999,
          -9.854245833333334,
          -9.861199722222223,
          -9.851531944444444,
          -9.880839722222223,
          -9.875618888888889,
          -9.86087888888889,
          -9.862105,
          -9.863473888888889,
          -9.879863333333335,
          -9.85333,
          -9.873844722222223,
          -9.875987777777778,
          -9.874896944444444,
          -9.878252777777778,
          -9.85697,
          -9.88128888888889,
          -9.879062777777778,
          -9.852604722222221,
          -9.853491944444444,
          -9.853759166666666,
          -9.85637111111111,
          -9.878395000000001,
          -9.875650277777778,
          -9.875388888888889,
          -9.87485888888889,
          -9.87446388888889,
          -9.878210000000001,
          -9.879488333333335,
          -9.876857777777778,
          -9.880159166666667,
          -9.875204722222223,
          -9.87887388888889,
          -9.877211666666668,
          -9.855460833333334,
          -9.853056944444445,
          -9.855352777777778,
          -9.857335555555554,
          -9.855806944444444,
          -19.92690277777778,
          -19.818766666666665,
          -19.948166666666665,
          -24.693055555555556
         ],
         "legendgroup": "4",
         "lon": [
          -39.873083333333334,
          -39.868138888888886,
          -39.862296666666666,
          -39.86398722222222,
          -39.86653583333334,
          -39.879016944444444,
          -39.863911944444446,
          -39.87318277777778,
          -39.87270083333333,
          -39.880362777777776,
          -39.88049777777778,
          -39.87994888888889,
          -39.8662025,
          -39.86157888888889,
          -39.87090194444445,
          -39.87161861111111,
          -39.864965833333336,
          -39.87231083333334,
          -39.86570777777778,
          -39.86716972222222,
          -39.871405833333334,
          -39.86609694444444,
          -39.86364277777778,
          -39.861645,
          -39.864937222222224,
          -39.86323194444444,
          -39.86521861111111,
          -39.86942694444444,
          -39.87146194444445,
          -39.87223888888889,
          -39.870066944444446,
          -39.86517,
          -39.86816888888889,
          -39.864240555555554,
          -39.86891694444444,
          -39.86882,
          -39.86453888888889,
          -39.86725583333333,
          -39.86494416666667,
          -39.86511083333333,
          -39.86335972222222,
          -39.862769722222225,
          -43.21273333333334,
          -43.69519722222222,
          -43.22203888888889,
          -48.12027777777778
         ],
         "marker": {
          "color": "#ab63fa"
         },
         "mode": "markers",
         "name": "4",
         "showlegend": true,
         "subplot": "mapbox",
         "type": "scattermapbox"
        },
        {
         "customdata": [
          [
           "Alta",
           "Alta"
          ],
          [
           "Alta",
           "Alta"
          ],
          [
           "Alta",
           "Alta"
          ],
          [
           "Média",
           "Alta"
          ],
          [
           "Baixa",
           "Alta"
          ],
          [
           "Alta",
           "Alta"
          ],
          [
           "Alta",
           "Alta"
          ],
          [
           "Baixa",
           "Alta"
          ],
          [
           "Alta",
           "Alta"
          ],
          [
           "Alta",
           "Alta"
          ],
          [
           "Baixa",
           "Alta"
          ]
         ],
         "hovertemplate": "<b>%{hovertext}</b><br><br>color=2<br>Latitude=%{lat}<br>Longitude=%{lon}<br>Categoria de Risco - CRI=%{customdata[0]}<br>Dano Potencial Associado - DPA=%{customdata[1]}<extra></extra>",
         "hovertext": [
          "BARÃO DE COCAIS",
          "ITABIRA",
          "NOVA LIMA",
          "OURO PRETO",
          "OURO PRETO",
          "OURO PRETO",
          "OURO PRETO",
          "OURO PRETO",
          "OURO PRETO",
          "OURO PRETO",
          "BUTIÁ"
         ],
         "lat": [
          -19.970175555555553,
          -19.625463333333332,
          -20.047611111111113,
          -20.412253888888888,
          -20.39498,
          -20.408277777777776,
          -20.406055555555554,
          -20.394777777777776,
          -20.414777777777775,
          -20.410916666666665,
          -30.14566138888889
         ],
         "legendgroup": "2",
         "lon": [
          -43.59686694444445,
          -43.18294361111111,
          -43.95436111111111,
          -43.87885194444444,
          -43.83973972222223,
          -43.85180555555556,
          -43.85572222222223,
          -43.85155555555556,
          -43.86513888888889,
          -43.83661111111111,
          -52.00377527777778
         ],
         "marker": {
          "color": "#FFA15A"
         },
         "mode": "markers",
         "name": "2",
         "showlegend": true,
         "subplot": "mapbox",
         "type": "scattermapbox"
        }
       ],
       "layout": {
        "height": 900,
        "legend": {
         "title": {
          "text": "color"
         },
         "tracegroupgap": 0
        },
        "mapbox": {
         "center": {
          "lat": -14.235004,
          "lon": -51.92528
         },
         "domain": {
          "x": [
           0,
           1
          ],
          "y": [
           0,
           1
          ]
         },
         "style": "open-street-map",
         "zoom": 4
        },
        "template": {
         "data": {
          "bar": [
           {
            "error_x": {
             "color": "#2a3f5f"
            },
            "error_y": {
             "color": "#2a3f5f"
            },
            "marker": {
             "line": {
              "color": "#E5ECF6",
              "width": 0.5
             },
             "pattern": {
              "fillmode": "overlay",
              "size": 10,
              "solidity": 0.2
             }
            },
            "type": "bar"
           }
          ],
          "barpolar": [
           {
            "marker": {
             "line": {
              "color": "#E5ECF6",
              "width": 0.5
             },
             "pattern": {
              "fillmode": "overlay",
              "size": 10,
              "solidity": 0.2
             }
            },
            "type": "barpolar"
           }
          ],
          "carpet": [
           {
            "aaxis": {
             "endlinecolor": "#2a3f5f",
             "gridcolor": "white",
             "linecolor": "white",
             "minorgridcolor": "white",
             "startlinecolor": "#2a3f5f"
            },
            "baxis": {
             "endlinecolor": "#2a3f5f",
             "gridcolor": "white",
             "linecolor": "white",
             "minorgridcolor": "white",
             "startlinecolor": "#2a3f5f"
            },
            "type": "carpet"
           }
          ],
          "choropleth": [
           {
            "colorbar": {
             "outlinewidth": 0,
             "ticks": ""
            },
            "type": "choropleth"
           }
          ],
          "contour": [
           {
            "colorbar": {
             "outlinewidth": 0,
             "ticks": ""
            },
            "colorscale": [
             [
              0,
              "#0d0887"
             ],
             [
              0.1111111111111111,
              "#46039f"
             ],
             [
              0.2222222222222222,
              "#7201a8"
             ],
             [
              0.3333333333333333,
              "#9c179e"
             ],
             [
              0.4444444444444444,
              "#bd3786"
             ],
             [
              0.5555555555555556,
              "#d8576b"
             ],
             [
              0.6666666666666666,
              "#ed7953"
             ],
             [
              0.7777777777777778,
              "#fb9f3a"
             ],
             [
              0.8888888888888888,
              "#fdca26"
             ],
             [
              1,
              "#f0f921"
             ]
            ],
            "type": "contour"
           }
          ],
          "contourcarpet": [
           {
            "colorbar": {
             "outlinewidth": 0,
             "ticks": ""
            },
            "type": "contourcarpet"
           }
          ],
          "heatmap": [
           {
            "colorbar": {
             "outlinewidth": 0,
             "ticks": ""
            },
            "colorscale": [
             [
              0,
              "#0d0887"
             ],
             [
              0.1111111111111111,
              "#46039f"
             ],
             [
              0.2222222222222222,
              "#7201a8"
             ],
             [
              0.3333333333333333,
              "#9c179e"
             ],
             [
              0.4444444444444444,
              "#bd3786"
             ],
             [
              0.5555555555555556,
              "#d8576b"
             ],
             [
              0.6666666666666666,
              "#ed7953"
             ],
             [
              0.7777777777777778,
              "#fb9f3a"
             ],
             [
              0.8888888888888888,
              "#fdca26"
             ],
             [
              1,
              "#f0f921"
             ]
            ],
            "type": "heatmap"
           }
          ],
          "heatmapgl": [
           {
            "colorbar": {
             "outlinewidth": 0,
             "ticks": ""
            },
            "colorscale": [
             [
              0,
              "#0d0887"
             ],
             [
              0.1111111111111111,
              "#46039f"
             ],
             [
              0.2222222222222222,
              "#7201a8"
             ],
             [
              0.3333333333333333,
              "#9c179e"
             ],
             [
              0.4444444444444444,
              "#bd3786"
             ],
             [
              0.5555555555555556,
              "#d8576b"
             ],
             [
              0.6666666666666666,
              "#ed7953"
             ],
             [
              0.7777777777777778,
              "#fb9f3a"
             ],
             [
              0.8888888888888888,
              "#fdca26"
             ],
             [
              1,
              "#f0f921"
             ]
            ],
            "type": "heatmapgl"
           }
          ],
          "histogram": [
           {
            "marker": {
             "pattern": {
              "fillmode": "overlay",
              "size": 10,
              "solidity": 0.2
             }
            },
            "type": "histogram"
           }
          ],
          "histogram2d": [
           {
            "colorbar": {
             "outlinewidth": 0,
             "ticks": ""
            },
            "colorscale": [
             [
              0,
              "#0d0887"
             ],
             [
              0.1111111111111111,
              "#46039f"
             ],
             [
              0.2222222222222222,
              "#7201a8"
             ],
             [
              0.3333333333333333,
              "#9c179e"
             ],
             [
              0.4444444444444444,
              "#bd3786"
             ],
             [
              0.5555555555555556,
              "#d8576b"
             ],
             [
              0.6666666666666666,
              "#ed7953"
             ],
             [
              0.7777777777777778,
              "#fb9f3a"
             ],
             [
              0.8888888888888888,
              "#fdca26"
             ],
             [
              1,
              "#f0f921"
             ]
            ],
            "type": "histogram2d"
           }
          ],
          "histogram2dcontour": [
           {
            "colorbar": {
             "outlinewidth": 0,
             "ticks": ""
            },
            "colorscale": [
             [
              0,
              "#0d0887"
             ],
             [
              0.1111111111111111,
              "#46039f"
             ],
             [
              0.2222222222222222,
              "#7201a8"
             ],
             [
              0.3333333333333333,
              "#9c179e"
             ],
             [
              0.4444444444444444,
              "#bd3786"
             ],
             [
              0.5555555555555556,
              "#d8576b"
             ],
             [
              0.6666666666666666,
              "#ed7953"
             ],
             [
              0.7777777777777778,
              "#fb9f3a"
             ],
             [
              0.8888888888888888,
              "#fdca26"
             ],
             [
              1,
              "#f0f921"
             ]
            ],
            "type": "histogram2dcontour"
           }
          ],
          "mesh3d": [
           {
            "colorbar": {
             "outlinewidth": 0,
             "ticks": ""
            },
            "type": "mesh3d"
           }
          ],
          "parcoords": [
           {
            "line": {
             "colorbar": {
              "outlinewidth": 0,
              "ticks": ""
             }
            },
            "type": "parcoords"
           }
          ],
          "pie": [
           {
            "automargin": true,
            "type": "pie"
           }
          ],
          "scatter": [
           {
            "fillpattern": {
             "fillmode": "overlay",
             "size": 10,
             "solidity": 0.2
            },
            "type": "scatter"
           }
          ],
          "scatter3d": [
           {
            "line": {
             "colorbar": {
              "outlinewidth": 0,
              "ticks": ""
             }
            },
            "marker": {
             "colorbar": {
              "outlinewidth": 0,
              "ticks": ""
             }
            },
            "type": "scatter3d"
           }
          ],
          "scattercarpet": [
           {
            "marker": {
             "colorbar": {
              "outlinewidth": 0,
              "ticks": ""
             }
            },
            "type": "scattercarpet"
           }
          ],
          "scattergeo": [
           {
            "marker": {
             "colorbar": {
              "outlinewidth": 0,
              "ticks": ""
             }
            },
            "type": "scattergeo"
           }
          ],
          "scattergl": [
           {
            "marker": {
             "colorbar": {
              "outlinewidth": 0,
              "ticks": ""
             }
            },
            "type": "scattergl"
           }
          ],
          "scattermapbox": [
           {
            "marker": {
             "colorbar": {
              "outlinewidth": 0,
              "ticks": ""
             }
            },
            "type": "scattermapbox"
           }
          ],
          "scatterpolar": [
           {
            "marker": {
             "colorbar": {
              "outlinewidth": 0,
              "ticks": ""
             }
            },
            "type": "scatterpolar"
           }
          ],
          "scatterpolargl": [
           {
            "marker": {
             "colorbar": {
              "outlinewidth": 0,
              "ticks": ""
             }
            },
            "type": "scatterpolargl"
           }
          ],
          "scatterternary": [
           {
            "marker": {
             "colorbar": {
              "outlinewidth": 0,
              "ticks": ""
             }
            },
            "type": "scatterternary"
           }
          ],
          "surface": [
           {
            "colorbar": {
             "outlinewidth": 0,
             "ticks": ""
            },
            "colorscale": [
             [
              0,
              "#0d0887"
             ],
             [
              0.1111111111111111,
              "#46039f"
             ],
             [
              0.2222222222222222,
              "#7201a8"
             ],
             [
              0.3333333333333333,
              "#9c179e"
             ],
             [
              0.4444444444444444,
              "#bd3786"
             ],
             [
              0.5555555555555556,
              "#d8576b"
             ],
             [
              0.6666666666666666,
              "#ed7953"
             ],
             [
              0.7777777777777778,
              "#fb9f3a"
             ],
             [
              0.8888888888888888,
              "#fdca26"
             ],
             [
              1,
              "#f0f921"
             ]
            ],
            "type": "surface"
           }
          ],
          "table": [
           {
            "cells": {
             "fill": {
              "color": "#EBF0F8"
             },
             "line": {
              "color": "white"
             }
            },
            "header": {
             "fill": {
              "color": "#C8D4E3"
             },
             "line": {
              "color": "white"
             }
            },
            "type": "table"
           }
          ]
         },
         "layout": {
          "annotationdefaults": {
           "arrowcolor": "#2a3f5f",
           "arrowhead": 0,
           "arrowwidth": 1
          },
          "autotypenumbers": "strict",
          "coloraxis": {
           "colorbar": {
            "outlinewidth": 0,
            "ticks": ""
           }
          },
          "colorscale": {
           "diverging": [
            [
             0,
             "#8e0152"
            ],
            [
             0.1,
             "#c51b7d"
            ],
            [
             0.2,
             "#de77ae"
            ],
            [
             0.3,
             "#f1b6da"
            ],
            [
             0.4,
             "#fde0ef"
            ],
            [
             0.5,
             "#f7f7f7"
            ],
            [
             0.6,
             "#e6f5d0"
            ],
            [
             0.7,
             "#b8e186"
            ],
            [
             0.8,
             "#7fbc41"
            ],
            [
             0.9,
             "#4d9221"
            ],
            [
             1,
             "#276419"
            ]
           ],
           "sequential": [
            [
             0,
             "#0d0887"
            ],
            [
             0.1111111111111111,
             "#46039f"
            ],
            [
             0.2222222222222222,
             "#7201a8"
            ],
            [
             0.3333333333333333,
             "#9c179e"
            ],
            [
             0.4444444444444444,
             "#bd3786"
            ],
            [
             0.5555555555555556,
             "#d8576b"
            ],
            [
             0.6666666666666666,
             "#ed7953"
            ],
            [
             0.7777777777777778,
             "#fb9f3a"
            ],
            [
             0.8888888888888888,
             "#fdca26"
            ],
            [
             1,
             "#f0f921"
            ]
           ],
           "sequentialminus": [
            [
             0,
             "#0d0887"
            ],
            [
             0.1111111111111111,
             "#46039f"
            ],
            [
             0.2222222222222222,
             "#7201a8"
            ],
            [
             0.3333333333333333,
             "#9c179e"
            ],
            [
             0.4444444444444444,
             "#bd3786"
            ],
            [
             0.5555555555555556,
             "#d8576b"
            ],
            [
             0.6666666666666666,
             "#ed7953"
            ],
            [
             0.7777777777777778,
             "#fb9f3a"
            ],
            [
             0.8888888888888888,
             "#fdca26"
            ],
            [
             1,
             "#f0f921"
            ]
           ]
          },
          "colorway": [
           "#636efa",
           "#EF553B",
           "#00cc96",
           "#ab63fa",
           "#FFA15A",
           "#19d3f3",
           "#FF6692",
           "#B6E880",
           "#FF97FF",
           "#FECB52"
          ],
          "font": {
           "color": "#2a3f5f"
          },
          "geo": {
           "bgcolor": "white",
           "lakecolor": "white",
           "landcolor": "#E5ECF6",
           "showlakes": true,
           "showland": true,
           "subunitcolor": "white"
          },
          "hoverlabel": {
           "align": "left"
          },
          "hovermode": "closest",
          "mapbox": {
           "style": "light"
          },
          "paper_bgcolor": "white",
          "plot_bgcolor": "#E5ECF6",
          "polar": {
           "angularaxis": {
            "gridcolor": "white",
            "linecolor": "white",
            "ticks": ""
           },
           "bgcolor": "#E5ECF6",
           "radialaxis": {
            "gridcolor": "white",
            "linecolor": "white",
            "ticks": ""
           }
          },
          "scene": {
           "xaxis": {
            "backgroundcolor": "#E5ECF6",
            "gridcolor": "white",
            "gridwidth": 2,
            "linecolor": "white",
            "showbackground": true,
            "ticks": "",
            "zerolinecolor": "white"
           },
           "yaxis": {
            "backgroundcolor": "#E5ECF6",
            "gridcolor": "white",
            "gridwidth": 2,
            "linecolor": "white",
            "showbackground": true,
            "ticks": "",
            "zerolinecolor": "white"
           },
           "zaxis": {
            "backgroundcolor": "#E5ECF6",
            "gridcolor": "white",
            "gridwidth": 2,
            "linecolor": "white",
            "showbackground": true,
            "ticks": "",
            "zerolinecolor": "white"
           }
          },
          "shapedefaults": {
           "line": {
            "color": "#2a3f5f"
           }
          },
          "ternary": {
           "aaxis": {
            "gridcolor": "white",
            "linecolor": "white",
            "ticks": ""
           },
           "baxis": {
            "gridcolor": "white",
            "linecolor": "white",
            "ticks": ""
           },
           "bgcolor": "#E5ECF6",
           "caxis": {
            "gridcolor": "white",
            "linecolor": "white",
            "ticks": ""
           }
          },
          "title": {
           "x": 0.05
          },
          "xaxis": {
           "automargin": true,
           "gridcolor": "white",
           "linecolor": "white",
           "ticks": "",
           "title": {
            "standoff": 15
           },
           "zerolinecolor": "white",
           "zerolinewidth": 2
          },
          "yaxis": {
           "automargin": true,
           "gridcolor": "white",
           "linecolor": "white",
           "ticks": "",
           "title": {
            "standoff": 15
           },
           "zerolinecolor": "white",
           "zerolinewidth": 2
          }
         }
        },
        "title": {
         "text": "Barragens de mineração no Brasil por cluster"
        }
       }
      }
     },
     "metadata": {},
     "output_type": "display_data"
    }
   ],
   "source": [
    "fig = px.scatter_mapbox(barragem, lat=\"Latitude\", lon=\"Longitude\",title='Barragens de mineração no Brasil por cluster',\n",
    "                        hover_name=\"Município\",hover_data=['Categoria de Risco - CRI','Dano Potencial Associado - DPA'],\n",
    "                        zoom=4, height=900,color=barragem['Cluster'].astype(str),\n",
    "                        center={\"lat\":-14.235004,\"lon\":-51.92528})\n",
    "fig.update_layout(mapbox_style=\"open-street-map\")\n",
    "fig.show()"
   ]
  },
  {
   "cell_type": "code",
   "execution_count": 47,
   "metadata": {},
   "outputs": [
    {
     "data": {
      "application/vnd.plotly.v1+json": {
       "config": {
        "plotlyServerURL": "https://plot.ly"
       },
       "data": [
        {
         "customdata": [
          [
           "Baixa"
          ],
          [
           "Alta"
          ],
          [
           "Baixa"
          ],
          [
           "Baixa"
          ],
          [
           "Baixa"
          ],
          [
           "Baixa"
          ],
          [
           "Baixa"
          ],
          [
           "Baixa"
          ],
          [
           "Baixa"
          ],
          [
           "Baixa"
          ],
          [
           "Baixa"
          ],
          [
           "Baixa"
          ],
          [
           "Baixa"
          ],
          [
           "Baixa"
          ],
          [
           "Baixa"
          ],
          [
           "Baixa"
          ],
          [
           "Baixa"
          ],
          [
           "Baixa"
          ],
          [
           "Média"
          ],
          [
           "Média"
          ],
          [
           "Média"
          ],
          [
           "Baixa"
          ],
          [
           "Baixa"
          ],
          [
           "Baixa"
          ],
          [
           "Baixa"
          ],
          [
           "Baixa"
          ],
          [
           "Baixa"
          ],
          [
           "Baixa"
          ],
          [
           "Baixa"
          ],
          [
           "Baixa"
          ],
          [
           "Baixa"
          ],
          [
           "Alta"
          ],
          [
           "Baixa"
          ],
          [
           "Baixa"
          ],
          [
           "Baixa"
          ],
          [
           "Baixa"
          ],
          [
           "Baixa"
          ],
          [
           "Baixa"
          ],
          [
           "Baixa"
          ],
          [
           "Média"
          ],
          [
           "Alta"
          ],
          [
           "Média"
          ],
          [
           "Alta"
          ],
          [
           "Média"
          ],
          [
           "Média"
          ],
          [
           "Baixa"
          ],
          [
           "Baixa"
          ],
          [
           "Baixa"
          ],
          [
           "Média"
          ],
          [
           "Baixa"
          ],
          [
           "Baixa"
          ],
          [
           "Baixa"
          ],
          [
           "Baixa"
          ],
          [
           "Baixa"
          ],
          [
           "Baixa"
          ],
          [
           "Baixa"
          ],
          [
           "Baixa"
          ],
          [
           "Baixa"
          ],
          [
           "Baixa"
          ],
          [
           "Baixa"
          ],
          [
           "Média"
          ],
          [
           "Baixa"
          ],
          [
           "Baixa"
          ],
          [
           "Baixa"
          ],
          [
           "Baixa"
          ],
          [
           "Baixa"
          ],
          [
           "Baixa"
          ],
          [
           "Baixa"
          ],
          [
           "Baixa"
          ],
          [
           "Baixa"
          ],
          [
           "Baixa"
          ],
          [
           "Baixa"
          ],
          [
           "Média"
          ],
          [
           "Média"
          ],
          [
           "Média"
          ],
          [
           "Média"
          ],
          [
           "Baixa"
          ],
          [
           "Baixa"
          ],
          [
           "Baixa"
          ],
          [
           "Baixa"
          ],
          [
           "Alta"
          ],
          [
           "Baixa"
          ],
          [
           "Baixa"
          ],
          [
           "Baixa"
          ],
          [
           "Baixa"
          ],
          [
           "Baixa"
          ],
          [
           "Baixa"
          ],
          [
           "Média"
          ],
          [
           "Baixa"
          ],
          [
           "Baixa"
          ],
          [
           "Baixa"
          ],
          [
           "Baixa"
          ],
          [
           "Baixa"
          ],
          [
           "Baixa"
          ],
          [
           "Baixa"
          ],
          [
           "Baixa"
          ],
          [
           "Baixa"
          ],
          [
           "Baixa"
          ],
          [
           "Baixa"
          ],
          [
           "Baixa"
          ],
          [
           "Baixa"
          ],
          [
           "Baixa"
          ],
          [
           "Baixa"
          ],
          [
           "Baixa"
          ],
          [
           "Baixa"
          ],
          [
           "Baixa"
          ],
          [
           "Baixa"
          ],
          [
           "Baixa"
          ],
          [
           "Baixa"
          ],
          [
           "Baixa"
          ],
          [
           "Alta"
          ],
          [
           "Alta"
          ],
          [
           "Baixa"
          ],
          [
           "Baixa"
          ],
          [
           "Média"
          ],
          [
           "Baixa"
          ],
          [
           "Baixa"
          ],
          [
           "Baixa"
          ],
          [
           "Baixa"
          ],
          [
           "Baixa"
          ],
          [
           "Baixa"
          ],
          [
           "Baixa"
          ],
          [
           "Baixa"
          ],
          [
           "Baixa"
          ],
          [
           "Baixa"
          ],
          [
           "Baixa"
          ],
          [
           "Alta"
          ],
          [
           "Baixa"
          ],
          [
           "Baixa"
          ],
          [
           "Alta"
          ],
          [
           "Alta"
          ],
          [
           "Baixa"
          ],
          [
           "Baixa"
          ],
          [
           "Baixa"
          ],
          [
           "Média"
          ],
          [
           "Baixa"
          ],
          [
           "Baixa"
          ],
          [
           "Baixa"
          ],
          [
           "Baixa"
          ],
          [
           "Baixa"
          ],
          [
           "Baixa"
          ],
          [
           "Baixa"
          ],
          [
           "Baixa"
          ],
          [
           "Baixa"
          ],
          [
           "Baixa"
          ],
          [
           "Baixa"
          ],
          [
           "Baixa"
          ],
          [
           "Baixa"
          ],
          [
           "Baixa"
          ],
          [
           "Baixa"
          ],
          [
           "Baixa"
          ],
          [
           "Baixa"
          ],
          [
           "Baixa"
          ],
          [
           "Baixa"
          ],
          [
           "Baixa"
          ],
          [
           "Baixa"
          ],
          [
           "Baixa"
          ],
          [
           "Baixa"
          ],
          [
           "Baixa"
          ],
          [
           "Baixa"
          ],
          [
           "Baixa"
          ],
          [
           "Baixa"
          ],
          [
           "Baixa"
          ],
          [
           "Baixa"
          ],
          [
           "Baixa"
          ],
          [
           "Baixa"
          ],
          [
           "Baixa"
          ],
          [
           "Baixa"
          ],
          [
           "Baixa"
          ],
          [
           "Baixa"
          ],
          [
           "Baixa"
          ],
          [
           "Média"
          ],
          [
           "Baixa"
          ],
          [
           "Baixa"
          ],
          [
           "Baixa"
          ],
          [
           "Baixa"
          ],
          [
           "Alta"
          ],
          [
           "Alta"
          ],
          [
           "Baixa"
          ],
          [
           "Alta"
          ],
          [
           "Baixa"
          ],
          [
           "Baixa"
          ],
          [
           "Baixa"
          ],
          [
           "Baixa"
          ],
          [
           "Baixa"
          ],
          [
           "Baixa"
          ],
          [
           "Baixa"
          ],
          [
           "Baixa"
          ],
          [
           "Baixa"
          ],
          [
           "Baixa"
          ],
          [
           "Baixa"
          ],
          [
           "Baixa"
          ],
          [
           "Baixa"
          ],
          [
           "Baixa"
          ],
          [
           "Baixa"
          ],
          [
           "Baixa"
          ],
          [
           "Baixa"
          ],
          [
           "Baixa"
          ],
          [
           "Baixa"
          ],
          [
           "Baixa"
          ],
          [
           "Baixa"
          ],
          [
           "Baixa"
          ],
          [
           "Baixa"
          ],
          [
           "Baixa"
          ],
          [
           "Baixa"
          ],
          [
           "Baixa"
          ],
          [
           "Alta"
          ],
          [
           "Baixa"
          ],
          [
           "Baixa"
          ],
          [
           "Baixa"
          ],
          [
           "Baixa"
          ],
          [
           "Baixa"
          ],
          [
           "Baixa"
          ],
          [
           "Baixa"
          ],
          [
           "Média"
          ],
          [
           "Baixa"
          ],
          [
           "Alta"
          ],
          [
           "Baixa"
          ],
          [
           "Baixa"
          ],
          [
           "Baixa"
          ],
          [
           "Baixa"
          ],
          [
           "Baixa"
          ],
          [
           "Baixa"
          ],
          [
           "Baixa"
          ],
          [
           "Baixa"
          ],
          [
           "Baixa"
          ],
          [
           "Baixa"
          ],
          [
           "Baixa"
          ],
          [
           "Baixa"
          ],
          [
           "Baixa"
          ],
          [
           "Baixa"
          ],
          [
           "Alta"
          ],
          [
           "Baixa"
          ],
          [
           "Baixa"
          ],
          [
           "Baixa"
          ],
          [
           "Baixa"
          ],
          [
           "Baixa"
          ],
          [
           "Média"
          ],
          [
           "Baixa"
          ],
          [
           "Baixa"
          ],
          [
           "Baixa"
          ],
          [
           "Média"
          ],
          [
           "Média"
          ],
          [
           "Baixa"
          ],
          [
           "Baixa"
          ],
          [
           "Média"
          ],
          [
           "Média"
          ],
          [
           "Baixa"
          ],
          [
           "Baixa"
          ],
          [
           "Baixa"
          ],
          [
           "Baixa"
          ],
          [
           "Baixa"
          ],
          [
           "Baixa"
          ],
          [
           "Baixa"
          ],
          [
           "Baixa"
          ],
          [
           "Baixa"
          ],
          [
           "Baixa"
          ],
          [
           "Baixa"
          ],
          [
           "Baixa"
          ],
          [
           "Média"
          ],
          [
           "Baixa"
          ],
          [
           "Baixa"
          ],
          [
           "Baixa"
          ],
          [
           "Alta"
          ],
          [
           "Média"
          ],
          [
           "Alta"
          ],
          [
           "Baixa"
          ],
          [
           "Baixa"
          ],
          [
           "Baixa"
          ],
          [
           "Baixa"
          ],
          [
           "Baixa"
          ],
          [
           "Baixa"
          ],
          [
           "Média"
          ],
          [
           "Baixa"
          ],
          [
           "Média"
          ],
          [
           "Alta"
          ],
          [
           "Alta"
          ],
          [
           "Alta"
          ],
          [
           "Média"
          ],
          [
           "Média"
          ],
          [
           "Alta"
          ],
          [
           "Alta"
          ],
          [
           "Baixa"
          ],
          [
           "Média"
          ],
          [
           "Média"
          ],
          [
           "Média"
          ],
          [
           "Baixa"
          ],
          [
           "Baixa"
          ],
          [
           "Baixa"
          ],
          [
           "Baixa"
          ],
          [
           "Baixa"
          ],
          [
           "Média"
          ],
          [
           "Baixa"
          ],
          [
           "Baixa"
          ],
          [
           "Baixa"
          ],
          [
           "Baixa"
          ],
          [
           "Baixa"
          ],
          [
           "Alta"
          ],
          [
           "Média"
          ],
          [
           "Média"
          ],
          [
           "Média"
          ],
          [
           "Média"
          ],
          [
           "Baixa"
          ],
          [
           "Média"
          ],
          [
           "Média"
          ],
          [
           "Baixa"
          ],
          [
           "Média"
          ],
          [
           "Baixa"
          ],
          [
           "Média"
          ],
          [
           "Média"
          ],
          [
           "Baixa"
          ],
          [
           "Baixa"
          ],
          [
           "Baixa"
          ],
          [
           "Baixa"
          ],
          [
           "Baixa"
          ],
          [
           "Baixa"
          ],
          [
           "Média"
          ],
          [
           "Média"
          ],
          [
           "Média"
          ],
          [
           "Média"
          ],
          [
           "Média"
          ],
          [
           "Baixa"
          ],
          [
           "Alta"
          ],
          [
           "Baixa"
          ],
          [
           "Baixa"
          ],
          [
           "Baixa"
          ],
          [
           "Baixa"
          ],
          [
           "Baixa"
          ],
          [
           "Baixa"
          ],
          [
           "Baixa"
          ],
          [
           "Baixa"
          ],
          [
           "Baixa"
          ],
          [
           "Baixa"
          ],
          [
           "Baixa"
          ],
          [
           "Baixa"
          ]
         ],
         "hovertemplate": "<b>%{hovertext}</b><br><br>Categoria de Risco - CRI=Média<br>Latitude=%{lat}<br>Longitude=%{lon}<br>Dano Potencial Associado - DPA=%{customdata[0]}<extra></extra>",
         "hovertext": [
          "ARIQUEMES",
          "ARIQUEMES",
          "JARU",
          "RIO CRESPO",
          "RIO CRESPO",
          "RIO CRESPO",
          "RIO CRESPO",
          "VILHENA",
          "VILHENA",
          "VILHENA",
          "VILHENA",
          "VILHENA",
          "CAMPO NOVO DE RONDÔNIA",
          "CAMPO NOVO DE RONDÔNIA",
          "CUJUBIM",
          "ITAPUÃ DO OESTE",
          "ITAPUÃ DO OESTE",
          "ITAPUÃ DO OESTE",
          "ITAPUÃ DO OESTE",
          "ITAPUÃ DO OESTE",
          "ITAPUÃ DO OESTE",
          "MINISTRO ANDREAZZA",
          "MINISTRO ANDREAZZA",
          "URUPÁ",
          "PRESIDENTE FIGUEIREDO",
          "PRESIDENTE FIGUEIREDO",
          "PRESIDENTE FIGUEIREDO",
          "PRESIDENTE FIGUEIREDO",
          "PRESIDENTE FIGUEIREDO",
          "PRESIDENTE FIGUEIREDO",
          "PRESIDENTE FIGUEIREDO",
          "PRESIDENTE FIGUEIREDO",
          "ALMEIRIM",
          "CANAÃ DOS CARAJÁS",
          "CANAÃ DOS CARAJÁS",
          "CANAÃ DOS CARAJÁS",
          "CURIONÓPOLIS",
          "ITAITUBA",
          "ITAITUBA",
          "ITAITUBA",
          "ORIXIMINÁ",
          "ORIXIMINÁ",
          "ORIXIMINÁ",
          "ORIXIMINÁ",
          "ORIXIMINÁ",
          "SÃO FÉLIX DO XINGU",
          "SÃO FÉLIX DO XINGU",
          "SÃO FÉLIX DO XINGU",
          "PEDRA BRANCA DO AMAPARI",
          "CALÇOENE",
          "CALÇOENE",
          "CALÇOENE",
          "FERREIRA GOMES",
          "MAZAGÃO",
          "MAZAGÃO",
          "PORTO GRANDE",
          "PORTO GRANDE",
          "PORTO GRANDE",
          "PORTO GRANDE",
          "VITÓRIA DO JARI",
          "VITÓRIA DO JARI",
          "MONTE DO CARMO",
          "NATIVIDADE",
          "CODÓ",
          "CASTELO DO PIAUÍ",
          "SÃO LOURENÇO DO PIAUÍ",
          "VÁRZEA",
          "ANDORINHA",
          "ANDORINHA",
          "ANDORINHA",
          "BRUMADO",
          "BRUMADO",
          "CAETITÉ",
          "CAETITÉ",
          "CAETITÉ",
          "CAETITÉ",
          "CAETITÉ",
          "CAMPO FORMOSO",
          "IRECÊ",
          "ITAGIBÁ",
          "JACOBINA",
          "JAGUARARI",
          "JAGUARARI",
          "JAGUARARI",
          "JAGUARARI",
          "JAGUARARI",
          "JAGUARARI",
          "MAIQUINIQUE",
          "SANTALUZ",
          "SANTALUZ",
          "SANTALUZ",
          "SIMÕES FILHO",
          "VITÓRIA DA CONQUISTA",
          "ANTÔNIO DIAS",
          "ANTÔNIO DIAS",
          "ANTÔNIO DIAS",
          "BARÃO DE COCAIS",
          "BARÃO DE COCAIS",
          "BARÃO DE COCAIS",
          "BELA VISTA DE MINAS",
          "BELA VISTA DE MINAS",
          "BELA VISTA DE MINAS",
          "BELA VISTA DE MINAS",
          "BELA VISTA DE MINAS",
          "BELA VISTA DE MINAS",
          "BRUMADINHO",
          "BRUMADINHO",
          "BRUMADINHO",
          "BRUMADINHO",
          "BRUMADINHO",
          "BRUMADINHO",
          "BRUMADINHO",
          "BRUMADINHO",
          "BRUMADINHO",
          "CALDAS",
          "CARANAÍBA",
          "CATAS ALTAS",
          "CATAS ALTAS",
          "CATAS ALTAS",
          "CATAS ALTAS",
          "CONGONHAS",
          "CONGONHAS",
          "CONGONHAS",
          "DESCOBERTO",
          "DIAMANTINA",
          "ESMERALDAS",
          "IGARAPÉ",
          "INHAÚMA",
          "ITABIRA",
          "ITABIRA",
          "ITABIRITO",
          "ITABIRITO",
          "ITABIRITO",
          "ITABIRITO",
          "ITABIRITO",
          "ITABIRITO",
          "ITABIRITO",
          "ITABIRITO",
          "ITABIRITO",
          "ITABIRITO",
          "ITABIRITO",
          "ITATIAIUÇU",
          "ITATIAIUÇU",
          "ITATIAIUÇU",
          "ITATIAIUÇU",
          "ITATIAIUÇU",
          "ITATIAIUÇU",
          "ITATIAIUÇU",
          "ITATIAIUÇU",
          "ITATIAIUÇU",
          "ITATIAIUÇU",
          "ITAÚNA",
          "ITAÚNA",
          "ITUTINGA",
          "ITUTINGA",
          "ITUTINGA",
          "MARIANA",
          "MARIANA",
          "MATEUS LEME",
          "MATEUS LEME",
          "MATEUS LEME",
          "MATEUS LEME",
          "MATEUS LEME",
          "MATEUS LEME",
          "MATEUS LEME",
          "MATEUS LEME",
          "MATEUS LEME",
          "MATEUS LEME",
          "MATEUS LEME",
          "MATEUS LEME",
          "MATEUS LEME",
          "NOVA ERA",
          "NOVA LIMA",
          "NOVA LIMA",
          "NOVA LIMA",
          "NOVA LIMA",
          "NOVA LIMA",
          "NOVA LIMA",
          "OURO PRETO",
          "OURO PRETO",
          "PRADOS",
          "SABARÁ",
          "SABARÁ",
          "SABARÁ",
          "SABARÁ",
          "SANTA BÁRBARA",
          "SARZEDO",
          "TAPIRA",
          "UBERABA",
          "UBERABA",
          "UBERABA",
          "UBERABA",
          "UBERABA",
          "UBERABA",
          "SÃO JOÃO DA BARRA",
          "AGUAÍ",
          "AGUAÍ",
          "ALAMBARI",
          "ANALÂNDIA",
          "ANALÂNDIA",
          "ANALÂNDIA",
          "BOFETE",
          "BOFETE",
          "BOFETE",
          "BOFETE",
          "CAIEIRAS",
          "CAJATI",
          "CAPIVARI",
          "CARAGUATATUBA",
          "DESCALVADO",
          "DESCALVADO",
          "DESCALVADO",
          "GUARAREMA",
          "HORTOLÂNDIA",
          "HORTOLÂNDIA",
          "IBIÚNA",
          "IBIÚNA",
          "ITAPETININGA",
          "ITAPETININGA",
          "LEME",
          "MOGI DAS CRUZES",
          "MOGI DAS CRUZES",
          "MOGI DAS CRUZES",
          "MOGI DAS CRUZES",
          "MOGI DAS CRUZES",
          "MOGI DAS CRUZES",
          "MOGI DAS CRUZES",
          "MOGI DAS CRUZES",
          "MONTE MOR",
          "PEDREIRA",
          "RIBEIRÃO BRANCO",
          "SALTO DE PIRAPORA",
          "SANTA ISABEL",
          "SANTA ISABEL",
          "SANTOS",
          "SÃO PAULO",
          "SÃO PAULO",
          "SÃO SIMÃO",
          "SOROCABA",
          "TATUÍ",
          "TATUÍ",
          "CERRO AZUL",
          "CERRO AZUL",
          "FORQUILHINHA",
          "IÇARA",
          "CAÇAPAVA DO SUL",
          "CACHOEIRA DO SUL",
          "NOVA PETRÓPOLIS",
          "CORUMBÁ",
          "CORUMBÁ",
          "CORUMBÁ",
          "CORUMBÁ",
          "CORUMBÁ",
          "CORUMBÁ",
          "CORUMBÁ",
          "CORUMBÁ",
          "CORUMBÁ",
          "CORUMBÁ",
          "CORUMBÁ",
          "CORUMBÁ",
          "CARLINDA",
          "CUIABÁ",
          "CUIABÁ",
          "CUIABÁ",
          "CUIABÁ",
          "CUIABÁ",
          "JUÍNA",
          "JUÍNA",
          "JUÍNA",
          "NOSSA SENHORA DO LIVRAMENTO",
          "NOSSA SENHORA DO LIVRAMENTO",
          "NOSSA SENHORA DO LIVRAMENTO",
          "NOSSA SENHORA DO LIVRAMENTO",
          "NOSSA SENHORA DO LIVRAMENTO",
          "NOSSA SENHORA DO LIVRAMENTO",
          "NOSSA SENHORA DO LIVRAMENTO",
          "NOSSA SENHORA DO LIVRAMENTO",
          "NOSSA SENHORA DO LIVRAMENTO",
          "NOSSA SENHORA DO LIVRAMENTO",
          "NOSSA SENHORA DO LIVRAMENTO",
          "NOSSA SENHORA DO LIVRAMENTO",
          "NOSSA SENHORA DO LIVRAMENTO",
          "NOSSA SENHORA DO LIVRAMENTO",
          "NOSSA SENHORA DO LIVRAMENTO",
          "NOSSA SENHORA DO LIVRAMENTO",
          "NOSSA SENHORA DO LIVRAMENTO",
          "NOSSA SENHORA DO LIVRAMENTO",
          "NOSSA SENHORA DO LIVRAMENTO",
          "NOSSA SENHORA DO LIVRAMENTO",
          "NOSSA SENHORA DO LIVRAMENTO",
          "NOSSA SENHORA DO LIVRAMENTO",
          "NOSSA SENHORA DO LIVRAMENTO",
          "NOSSA SENHORA DO LIVRAMENTO",
          "NOSSA SENHORA DO LIVRAMENTO",
          "NOVA SANTA HELENA",
          "NOVA SANTA HELENA",
          "POCONÉ",
          "POCONÉ",
          "POCONÉ",
          "POCONÉ",
          "POCONÉ",
          "POCONÉ",
          "POCONÉ",
          "POCONÉ",
          "POCONÉ",
          "POCONÉ",
          "POCONÉ",
          "POCONÉ",
          "POCONÉ",
          "POCONÉ",
          "POCONÉ",
          "POCONÉ",
          "POCONÉ",
          "POCONÉ",
          "POCONÉ",
          "PONTES E LACERDA",
          "PONTES E LACERDA",
          "PONTES E LACERDA",
          "PONTES E LACERDA",
          "PONTES E LACERDA",
          "PONTES E LACERDA",
          "PONTES E LACERDA",
          "RIO BRANCO",
          "VÁRZEA GRANDE",
          "VÁRZEA GRANDE",
          "ALTO HORIZONTE",
          "ALTO HORIZONTE",
          "ALTO HORIZONTE",
          "ALTO HORIZONTE",
          "ALTO HORIZONTE",
          "ALTO HORIZONTE",
          "CORUMBÁ DE GOIÁS",
          "NIQUELÂNDIA",
          "SÃO LUÍS DE MONTES BELOS",
          "SÃO LUÍS DE MONTES BELOS"
         ],
         "lat": [
          -9.946125833333333,
          -9.765406944444445,
          -10.822,
          -9.770694444444445,
          -9.622277777777779,
          -9.586308333333333,
          -9.619663888888889,
          -12.932583333333334,
          -12.95253611111111,
          -12.95975,
          -12.804852777777779,
          -12.897444444444444,
          -10.505,
          -11.16175,
          -9.523333333333333,
          -9.42386111111111,
          -9.431805555555554,
          -9.43163888888889,
          -9.198694444444445,
          -9.205542777777778,
          -9.210861111111111,
          -11.158402777777779,
          -11.161902777777778,
          -11.135416666666666,
          -0.7235277777777778,
          -0.7404166666666666,
          -0.7431944444444444,
          -0.7615555555555555,
          -0.707111111111111,
          -0.7386388888888888,
          -0.7895555555555556,
          -0.7896666666666666,
          -0.9111158333333333,
          -6.454916666666667,
          -6.394416666666667,
          -6.4782222222222225,
          -6.086646944444444,
          -6.788890555555556,
          -6.363833333333333,
          -6.366119444444444,
          -1.6764999999999999,
          -1.6696944444444444,
          -1.6817777777777776,
          -1.6848055555555557,
          -1.6715555555555555,
          -6.831527777777778,
          -6.110194444444444,
          -6.075777777777778,
          -0.8008358333333334,
          -2.285833333333333,
          -2.321194444444444,
          -2.278611111111111,
          -1.0019722222222223,
          -0.37949999999999995,
          -0.3516111111111111,
          -0.41214194444444446,
          -0.4098638888888889,
          -0.4079111111111111,
          -0.4070944444444445,
          -0.882888888888889,
          -0.8976869444444444,
          -10.760492777777777,
          -11.588944444444445,
          -4.523583333333333,
          -5.208916666666667,
          -9.236055555555554,
          -6.807472222222222,
          -10.314166666666667,
          -10.314916666666667,
          -10.315555555555557,
          -14.233777777777776,
          -14.097930555555557,
          -13.835227777777778,
          -13.834747222222223,
          -13.835941666666667,
          -13.836108333333334,
          -13.828388888888888,
          -10.54561111111111,
          -11.311944444444444,
          -14.196540833333334,
          -11.243638888888889,
          -9.831472222222223,
          -9.861611111111111,
          -9.86087888888889,
          -9.875987777777778,
          -9.853759166666666,
          -9.878395000000001,
          -15.780347222222224,
          -11.260280555555555,
          -11.260519444444444,
          -11.26008888888889,
          -12.856777777777777,
          -14.811214722222223,
          -19.545458333333336,
          -19.549972222222223,
          -19.547583333333336,
          -19.948728055555556,
          -19.938450833333334,
          -19.9717275,
          -19.78311111111111,
          -19.784972222222223,
          -19.777177777777776,
          -19.77631472222222,
          -19.78609777777778,
          -19.783826944444446,
          -20.064777777777778,
          -20.067444444444444,
          -20.11202777777778,
          -20.110916666666668,
          -20.1216,
          -20.117583333333332,
          -20.11936111111111,
          -20.126694444444446,
          -20.1159,
          -21.94025388888889,
          -20.903388888888887,
          -20.027475,
          -20.090833333333332,
          -20.091666666666665,
          -20.098055555555554,
          -20.451651944444443,
          -20.436508333333332,
          -20.431333333333335,
          -21.46719444444444,
          -18.009055555555555,
          -19.74476527777778,
          -20.110430555555556,
          -19.582444444444445,
          -19.69236111111111,
          -19.572700277777777,
          -20.23311111111111,
          -20.377275,
          -20.37808888888889,
          -20.377702777777777,
          -20.224916666666665,
          -20.282999999999998,
          -20.379427777777778,
          -20.380666666666666,
          -20.38071111111111,
          -20.3795,
          -20.37718611111111,
          -20.16925,
          -20.161916666666666,
          -20.16247222222222,
          -20.136333333333333,
          -20.131516666666666,
          -20.13359722222222,
          -20.13189722222222,
          -20.15036111111111,
          -20.156055555555554,
          -20.138583333333333,
          -20.146855555555554,
          -20.14776138888889,
          -21.30823888888889,
          -21.30823611111111,
          -21.308733333333333,
          -20.17090388888889,
          -20.16991,
          -20.129083333333334,
          -20.130277777777778,
          -20.12441388888889,
          -20.125333333333334,
          -20.12625,
          -20.119794444444445,
          -20.12368888888889,
          -20.12138888888889,
          -20.12022222222222,
          -20.116083333333336,
          -19.934444444444445,
          -19.934166666666666,
          -19.933888888888887,
          -19.60171388888889,
          -20.110225,
          -20.110016666666667,
          -20.116111111111113,
          -20.147178888888888,
          -19.977086666666665,
          -19.967364999999997,
          -20.401805555555555,
          -20.412253888888888,
          -21.191055555555558,
          -19.821413888888888,
          -19.815466666666666,
          -19.818805555555556,
          -19.818766666666665,
          -19.966949999999997,
          -20.090052777777778,
          -19.873994444444445,
          -19.410908055555556,
          -19.41135361111111,
          -19.410823055555554,
          -19.41016111111111,
          -19.411454166666665,
          -19.40947222222222,
          -21.83111111111111,
          -21.996222222222222,
          -21.996166666666667,
          -23.579560833333332,
          -22.15502083333333,
          -22.156957499999997,
          -22.150666666666666,
          -23.1885,
          -23.192944444444446,
          -23.120833333333334,
          -23.17813888888889,
          -23.393072222222223,
          -24.693055555555556,
          -23.00825777777778,
          -23.659,
          -21.956799999999998,
          -21.954739444444442,
          -21.951668333333334,
          -23.392305555555556,
          -22.86766666666667,
          -22.852100833333335,
          -23.78541666666667,
          -23.788194444444446,
          -23.65908333333333,
          -23.651527777777776,
          -22.192777777777778,
          -23.621083333333335,
          -23.562805555555556,
          -23.56563888888889,
          -23.398166666666665,
          -23.3955,
          -23.394,
          -23.411944444444444,
          -23.404444444444444,
          -22.93841666666667,
          -22.747944444444446,
          -24.25375,
          -23.662,
          -23.356805555555557,
          -23.356055555555557,
          -23.881666666666668,
          -23.785111111111114,
          -23.782916666666665,
          -21.43033888888889,
          -23.508972222222223,
          -23.354805555555558,
          -23.35363611111111,
          -24.748508333333334,
          -24.747997222222224,
          -28.738500000000002,
          -28.729166666666664,
          -30.919777777777778,
          -30.386201944444444,
          -29.346666666666664,
          -19.261555555555557,
          -19.261555555555557,
          -19.262416666666667,
          -19.262083333333333,
          -19.262333333333334,
          -19.2625,
          -19.264666666666667,
          -19.26097222222222,
          -19.20035083333333,
          -19.19184027777778,
          -19.190809444444444,
          -19.262694444444445,
          -9.79448611111111,
          -15.558333333333334,
          -15.504008333333333,
          -15.560166666666667,
          -15.561816666666667,
          -15.534016666666666,
          -11.313396944444445,
          -11.463339166666666,
          -11.463339166666666,
          -15.696527777777778,
          -15.923845833333333,
          -15.948016666666668,
          -15.691361111111112,
          -15.659277777777778,
          -15.656355833333334,
          -15.661886111111112,
          -15.659775,
          -15.663845833333333,
          -15.872527777777778,
          -15.954652777777778,
          -15.656125000000001,
          -15.65463888888889,
          -15.771905555555556,
          -16.139333333333333,
          -15.95722222222222,
          -15.895583333333333,
          -15.902691666666668,
          -15.683756944444445,
          -16.005525,
          -15.766986111111112,
          -15.863437777777778,
          -16.16332222222222,
          -15.756005555555555,
          -15.75995,
          -10.687972222222223,
          -10.686777777777777,
          -16.17586111111111,
          -16.246430555555555,
          -16.279689166666667,
          -16.2924,
          -16.255,
          -16.31250277777778,
          -16.027080555555553,
          -16.024538888888888,
          -16.08167222222222,
          -16.29515277777778,
          -16.290750000000003,
          -16.190517777777778,
          -16.307420833333335,
          -16.30513611111111,
          -16.305533333333333,
          -16.273075,
          -16.18325,
          -16.215833333333332,
          -16.214416666666665,
          -15.304491666666667,
          -15.132683333333334,
          -15.131490833333334,
          -15.135091666666666,
          -15.13238888888889,
          -15.13543611111111,
          -15.130688888888889,
          -15.396194444444443,
          -15.621726944444445,
          -15.621347222222223,
          -14.244210833333332,
          -14.253591666666667,
          -14.245883333333332,
          -14.252707777777777,
          -14.256361111111111,
          -14.240483333333332,
          -15.772222222222224,
          -14.478547222222222,
          -16.39388888888889,
          -16.39713888888889
         ],
         "legendgroup": "Média",
         "lon": [
          -63.33021305555556,
          -63.52003083333333,
          -62.83394444444445,
          -62.74063888888889,
          -63.06086111111111,
          -62.86429166666667,
          -63.06617222222222,
          -60.34952777777778,
          -60.408249999999995,
          -60.287638888888885,
          -60.364444444444445,
          -60.42258333333333,
          -63.620583333333336,
          -62.41741666666666,
          -62.90588888888889,
          -63.047888888888885,
          -63.055527777777776,
          -63.055527777777776,
          -63.075138888888894,
          -63.083620833333335,
          -63.08638888888889,
          -61.611675,
          -61.614111111111114,
          -62.437527777777774,
          -60.19672222222222,
          -60.20141666666667,
          -60.20141666666667,
          -60.20597222222222,
          -60.19252777777778,
          -60.16738888888889,
          -60.01302777777778,
          -60.14427777777778,
          -52.43246277777777,
          -50.228750000000005,
          -50.31980555555556,
          -50.321361111111116,
          -49.65229083333333,
          -56.608110833333335,
          -56.26923611111111,
          -56.26777777777777,
          -56.437999999999995,
          -56.44488888888888,
          -56.41108333333333,
          -56.427055555555555,
          -56.434194444444444,
          -51.991,
          -52.275277777777774,
          -52.25519444444444,
          -51.87452583333334,
          -51.63333333333333,
          -51.69058333333333,
          -51.65066111111111,
          -51.12888888888889,
          -51.72277777777778,
          -51.83786111111112,
          -51.72891666666667,
          -51.72924166666667,
          -51.73000555555556,
          -51.73753333333333,
          -52.38111111111111,
          -52.378970833333334,
          -48.08072555555556,
          -47.88317222222222,
          -44.01602777777778,
          -41.70766666666667,
          -42.57811111111111,
          -37.008,
          -39.76722222222222,
          -39.76583333333333,
          -39.76583333333333,
          -41.71969444444445,
          -41.68920555555555,
          -42.281702777777774,
          -42.281169444444444,
          -42.28261944444444,
          -42.284283333333335,
          -42.287791666666664,
          -40.42519444444444,
          -41.839444444444446,
          -39.691649722222216,
          -40.52575,
          -39.82491666666667,
          -39.873083333333334,
          -39.880362777777776,
          -39.87161861111111,
          -39.861645,
          -39.86323194444444,
          -40.31443055555555,
          -39.35756111111111,
          -39.35755555555556,
          -39.35758333333334,
          -38.40441666666666,
          -41.004976944444444,
          -43.03093611111111,
          -43.02225,
          -43.02152777777778,
          -43.58669972222223,
          -43.58381027777778,
          -43.60806222222222,
          -43.18311111111111,
          -43.180166666666665,
          -43.189425,
          -43.191047777777776,
          -43.17279694444444,
          -43.165212777777775,
          -44.02886111111111,
          -44.02302777777778,
          -44.220194444444445,
          -44.22408333333333,
          -44.31937222222223,
          -44.317194444444446,
          -44.31594444444444,
          -44.31613888888889,
          -44.29810277777778,
          -46.48911888888889,
          -43.803888888888885,
          -43.42413888888888,
          -43.41583333333333,
          -43.41611111111111,
          -43.41416666666667,
          -43.90656583333333,
          -43.87179166666667,
          -43.88286111111111,
          -42.88597222222222,
          -43.76891666666666,
          -44.37487194444444,
          -44.28667222222222,
          -44.41141666666667,
          -43.112861111111116,
          -43.197536388888885,
          -43.85675,
          -43.91469722222222,
          -43.91542777777778,
          -43.91509444444444,
          -43.873222222222225,
          -43.927277777777775,
          -43.91690277777778,
          -43.91750833333333,
          -43.91925833333333,
          -43.916916666666665,
          -43.91268888888889,
          -44.45088055555556,
          -44.456250000000004,
          -44.44738888888889,
          -44.405249999999995,
          -44.375011111111114,
          -44.37956944444444,
          -44.37663888888889,
          -44.43583333333333,
          -44.44138888888889,
          -44.400749999999995,
          -44.45146388888889,
          -44.46010305555556,
          -44.66088333333333,
          -44.661830555555554,
          -44.66203888888889,
          -43.49808888888889,
          -43.49610583333333,
          -44.42019444444444,
          -44.4225,
          -44.40018333333333,
          -44.41047222222222,
          -44.4135,
          -44.38552222222222,
          -44.37551666666667,
          -44.37122222222222,
          -44.37177777777778,
          -44.37125,
          -44.47083333333334,
          -44.47138888888889,
          -44.471944444444446,
          -43.029916666666665,
          -43.9088,
          -43.90324722222222,
          -43.87372222222222,
          -43.885752777777775,
          -43.893002777777774,
          -43.882979166666665,
          -43.534166666666664,
          -43.87885194444444,
          -43.99125,
          -43.71707777777778,
          -43.71013611111111,
          -43.71078888888889,
          -43.69519722222222,
          -43.47503888888889,
          -44.11182222222222,
          -46.80303055555555,
          -47.957124444444446,
          -47.957726944444445,
          -47.95583777777778,
          -47.95496305555556,
          -47.956608611111115,
          -47.95568333333333,
          -41.02055555555555,
          -47.16858333333333,
          -47.16780555555555,
          -47.82935472222223,
          -47.63945138888889,
          -47.64279138888889,
          -47.6425,
          -48.351333333333336,
          -48.362500000000004,
          -48.2265,
          -48.34652777777778,
          -46.77502777777778,
          -48.12027777777778,
          -47.48237972222223,
          -45.52066666666666,
          -47.621859722222226,
          -47.61333722222222,
          -47.61306166666667,
          -46.136361111111114,
          -47.23928333333333,
          -47.23936277777778,
          -47.11944444444445,
          -47.1215,
          -48.00566666666667,
          -47.99236111111111,
          -47.45444444444445,
          -46.24758333333333,
          -46.267916666666665,
          -46.27336111111111,
          -46.20483333333333,
          -46.20483333333333,
          -46.20975,
          -46.21188888888889,
          -46.19847222222222,
          -47.24025,
          -46.87166666666667,
          -48.91597222222222,
          -47.66663888888889,
          -46.275333333333336,
          -46.27469444444444,
          -46.31433333333333,
          -46.696777777777775,
          -46.69880555555555,
          -47.613055555555555,
          -47.39088888888889,
          -47.730250000000005,
          -47.734375,
          -49.187797222222216,
          -49.19470277777778,
          -49.425888888888885,
          -49.248333333333335,
          -53.41804166666667,
          -53.043733055555556,
          -51.19166666666666,
          -57.528555555555556,
          -57.528555555555556,
          -57.528416666666665,
          -57.52791666666666,
          -57.52777777777778,
          -57.52761111111111,
          -57.527055555555556,
          -57.528777777777776,
          -57.63943888888889,
          -57.61378138888889,
          -57.6166975,
          -57.527055555555556,
          -55.798375,
          -55.802905555555554,
          -56.020675,
          -55.79266666666666,
          -55.82259444444445,
          -56.05063611111111,
          -59.086264722222225,
          -58.938520277777776,
          -58.938520277777776,
          -56.33391666666667,
          -56.16356472222222,
          -56.276919722222225,
          -56.350972222222225,
          -56.28508333333333,
          -56.33784083333334,
          -56.34405277777778,
          -56.354036111111114,
          -56.35261388888889,
          -56.17219444444444,
          -56.27270277777777,
          -56.385374999999996,
          -56.38876388888889,
          -56.37585277777778,
          -56.396,
          -56.48128888888889,
          -56.18538888888889,
          -56.20735277777778,
          -56.30414888888889,
          -56.22818055555556,
          -56.23110555555556,
          -56.224936944444444,
          -56.41588611111111,
          -56.166263888888885,
          -56.16990833333333,
          -54.82791666666667,
          -54.82930555555556,
          -56.59447222222222,
          -56.58774722222223,
          -56.64747611111111,
          -56.650755555555556,
          -56.61527777777778,
          -56.65228611111111,
          -56.5248,
          -56.521163888888886,
          -56.55501972222222,
          -56.72561666666667,
          -56.71197222222222,
          -56.41310222222222,
          -56.75136777777778,
          -56.72061055555556,
          -56.732486111111115,
          -56.696216666666665,
          -56.41858333333333,
          -56.604305555555555,
          -56.60594444444445,
          -59.42344166666666,
          -59.371611111111115,
          -59.373534444444445,
          -59.37916111111111,
          -59.37752777777778,
          -59.376958333333334,
          -59.379419444444444,
          -58.14525,
          -56.275935833333335,
          -56.27679166666667,
          -49.36754194444445,
          -49.42599444444444,
          -49.38073611111111,
          -49.38899583333333,
          -49.42452222222222,
          -49.365011111111116,
          -48.63805555555555,
          -48.25893888888889,
          -50.38366666666666,
          -50.38341666666667
         ],
         "marker": {
          "color": "#636efa"
         },
         "mode": "markers",
         "name": "Média",
         "showlegend": true,
         "subplot": "mapbox",
         "type": "scattermapbox"
        },
        {
         "customdata": [
          [
           "Média"
          ],
          [
           "Média"
          ],
          [
           "Alta"
          ],
          [
           "Alta"
          ],
          [
           "Alta"
          ],
          [
           "Média"
          ],
          [
           "Alta"
          ],
          [
           "Baixa"
          ],
          [
           "Média"
          ],
          [
           "Média"
          ],
          [
           "Alta"
          ],
          [
           "Média"
          ],
          [
           "Média"
          ],
          [
           "Baixa"
          ],
          [
           "Média"
          ],
          [
           "Média"
          ],
          [
           "Alta"
          ],
          [
           "Alta"
          ],
          [
           "Média"
          ],
          [
           "Alta"
          ],
          [
           "Alta"
          ],
          [
           "Alta"
          ],
          [
           "Alta"
          ],
          [
           "Baixa"
          ],
          [
           "Alta"
          ],
          [
           "Alta"
          ],
          [
           "Alta"
          ],
          [
           "Alta"
          ],
          [
           "Alta"
          ],
          [
           "Alta"
          ],
          [
           "Alta"
          ],
          [
           "Alta"
          ],
          [
           "Alta"
          ],
          [
           "Alta"
          ],
          [
           "Alta"
          ],
          [
           "Alta"
          ],
          [
           "Alta"
          ],
          [
           "Alta"
          ],
          [
           "Alta"
          ],
          [
           "Média"
          ],
          [
           "Alta"
          ],
          [
           "Alta"
          ],
          [
           "Alta"
          ],
          [
           "Alta"
          ],
          [
           "Alta"
          ],
          [
           "Alta"
          ],
          [
           "Alta"
          ],
          [
           "Média"
          ],
          [
           "Alta"
          ],
          [
           "Alta"
          ],
          [
           "Baixa"
          ],
          [
           "Média"
          ],
          [
           "Média"
          ],
          [
           "Média"
          ],
          [
           "Baixa"
          ],
          [
           "Média"
          ],
          [
           "Média"
          ],
          [
           "Alta"
          ],
          [
           "Baixa"
          ],
          [
           "Alta"
          ],
          [
           "Baixa"
          ],
          [
           "Baixa"
          ],
          [
           "Alta"
          ],
          [
           "Baixa"
          ],
          [
           "Baixa"
          ]
         ],
         "hovertemplate": "<b>%{hovertext}</b><br><br>Categoria de Risco - CRI=Alta<br>Latitude=%{lat}<br>Longitude=%{lon}<br>Dano Potencial Associado - DPA=%{customdata[0]}<extra></extra>",
         "hovertext": [
          "ARIQUEMES",
          "ARIQUEMES",
          "ARIQUEMES",
          "ARIQUEMES",
          "ARIQUEMES",
          "PRESIDENTE FIGUEIREDO",
          "PRESIDENTE FIGUEIREDO",
          "ITAITUBA",
          "ITAITUBA",
          "ITAITUBA",
          "MARABÁ",
          "MARABÁ",
          "VITÓRIA DO JARI",
          "CAETITÉ",
          "MAIQUINIQUE",
          "MAIQUINIQUE",
          "BARÃO DE COCAIS",
          "BARÃO DE COCAIS",
          "BRUMADINHO",
          "BRUMADINHO",
          "BRUMADINHO",
          "CALDAS",
          "CALDAS",
          "ESMERALDAS",
          "FORTALEZA DE MINAS",
          "ITABIRA",
          "ITABIRITO",
          "ITATIAIUÇU",
          "MARIANA",
          "MARIANA",
          "NOVA LIMA",
          "NOVA LIMA",
          "NOVA LIMA",
          "NOVA LIMA",
          "NOVA LIMA",
          "NOVA LIMA",
          "OURO PRETO",
          "OURO PRETO",
          "OURO PRETO",
          "OURO PRETO",
          "OURO PRETO",
          "OURO PRETO",
          "OURO PRETO",
          "PATOS DE MINAS",
          "RIO ACIMA",
          "RIO ACIMA",
          "RIO ACIMA",
          "MINAS DO LEÃO",
          "NOSSA SENHORA DO LIVRAMENTO",
          "NOSSA SENHORA DO LIVRAMENTO",
          "NOSSA SENHORA DO LIVRAMENTO",
          "NOSSA SENHORA DO LIVRAMENTO",
          "NOSSA SENHORA DO LIVRAMENTO",
          "NOSSA SENHORA DO LIVRAMENTO",
          "NOVA LACERDA",
          "POCONÉ",
          "POCONÉ",
          "POCONÉ",
          "POCONÉ",
          "PONTES E LACERDA",
          "PONTES E LACERDA",
          "CRIXÁS",
          "CRIXÁS",
          "NIQUELÂNDIA",
          "NIQUELÂNDIA"
         ],
         "lat": [
          -9.76586111111111,
          -9.792790833333333,
          -9.787805555555556,
          -9.817,
          -9.7955,
          -0.7853611111111111,
          -0.733361111111111,
          -6.368191666666666,
          -6.3608361111111105,
          -6.365602777777777,
          -5.5135861111111115,
          -5.509079722222222,
          -0.8940277777777778,
          -13.829672222222221,
          -15.777333333333335,
          -15.778333333333334,
          -19.970175555555553,
          -19.84834222222222,
          -20.118047222222224,
          -20.122972222222224,
          -20.126991944444445,
          -21.96611111111111,
          -21.97076111111111,
          -19.74500388888889,
          -20.89286111111111,
          -19.625463333333332,
          -20.214416666666665,
          -20.137583333333332,
          -20.176068055555557,
          -20.139289722222223,
          -20.18186111111111,
          -20.12441666666667,
          -19.96,
          -19.965555555555554,
          -20.047611111111113,
          -20.02622583333333,
          -20.290448611111113,
          -20.447408333333332,
          -20.408277777777776,
          -20.402205555555554,
          -20.406055555555554,
          -20.414777777777775,
          -20.410916666666665,
          -18.38088888888889,
          -20.062805555555556,
          -20.061694444444445,
          -20.16338888888889,
          -30.131027777777778,
          -15.69313611111111,
          -15.647963888888889,
          -15.774750000000001,
          -15.921744444444444,
          -16.058772222222224,
          -15.937664722222223,
          -14.479905555555556,
          -16.255249166666665,
          -16.257,
          -16.28215833333333,
          -16.260277777777777,
          -15.181433333333333,
          -15.139533333333333,
          -14.586013888888889,
          -14.561166666666667,
          -14.52635,
          -14.415972222222223
         ],
         "legendgroup": "Alta",
         "lon": [
          -63.568583333333336,
          -63.55968583333333,
          -63.57516666666667,
          -63.55319444444444,
          -63.56527777777777,
          -60.19341111111111,
          -60.13838888888889,
          -56.268391666666666,
          -56.26710833333333,
          -56.26658611111111,
          -50.235533333333336,
          -50.23345194444445,
          -52.364583333333336,
          -42.287369444444444,
          -40.32233333333334,
          -40.31783333333334,
          -43.59686694444445,
          -43.42172055555555,
          -44.319252777777784,
          -44.31258333333333,
          -44.31611083333333,
          -46.51111111111111,
          -46.49391111111111,
          -44.37478055555555,
          -46.70527777777778,
          -43.18294361111111,
          -43.89169444444445,
          -44.396166666666666,
          -43.487316666666665,
          -43.41233305555556,
          -43.867,
          -43.92522222222222,
          -43.882777777777775,
          -43.88527777777778,
          -43.95436111111111,
          -43.942562499999994,
          -43.49052777777778,
          -43.64382222222222,
          -43.85180555555556,
          -43.85186388888889,
          -43.85572222222223,
          -43.86513888888889,
          -43.83661111111111,
          -46.92719444444444,
          -43.79472222222222,
          -43.794694444444445,
          -43.85100277777778,
          -52.051944444444445,
          -56.36548055555556,
          -56.38133888888889,
          -56.28572222222222,
          -56.16320555555556,
          -56.35288333333334,
          -56.291803888888886,
          -59.8378,
          -56.67122833333333,
          -56.6693425,
          -56.617225,
          -56.595555555555556,
          -59.34515277777778,
          -59.35851666666667,
          -49.94083611111111,
          -49.96016666666667,
          -48.46074166666667,
          -48.25553611111111
         ],
         "marker": {
          "color": "#EF553B"
         },
         "mode": "markers",
         "name": "Alta",
         "showlegend": true,
         "subplot": "mapbox",
         "type": "scattermapbox"
        },
        {
         "customdata": [
          [
           "Baixa"
          ],
          [
           "Baixa"
          ],
          [
           "Baixa"
          ],
          [
           "Baixa"
          ],
          [
           "Baixa"
          ],
          [
           "Média"
          ],
          [
           "Alta"
          ],
          [
           "Alta"
          ],
          [
           "Alta"
          ],
          [
           "Alta"
          ],
          [
           "Alta"
          ],
          [
           "Baixa"
          ],
          [
           "Alta"
          ],
          [
           "Alta"
          ],
          [
           "Alta"
          ],
          [
           "Alta"
          ],
          [
           "Alta"
          ],
          [
           "Alta"
          ],
          [
           "Alta"
          ],
          [
           "Alta"
          ],
          [
           "Alta"
          ],
          [
           "Alta"
          ],
          [
           "Alta"
          ],
          [
           "Baixa"
          ],
          [
           "Baixa"
          ],
          [
           "Alta"
          ],
          [
           "Baixa"
          ],
          [
           "Baixa"
          ],
          [
           "Baixa"
          ],
          [
           "Baixa"
          ],
          [
           "Baixa"
          ],
          [
           "Baixa"
          ],
          [
           "Baixa"
          ],
          [
           "Baixa"
          ],
          [
           "Baixa"
          ],
          [
           "Média"
          ],
          [
           "Baixa"
          ],
          [
           "Baixa"
          ],
          [
           "Baixa"
          ],
          [
           "Baixa"
          ],
          [
           "Baixa"
          ],
          [
           "Média"
          ],
          [
           "Média"
          ],
          [
           "Média"
          ],
          [
           "Média"
          ],
          [
           "Média"
          ],
          [
           "Média"
          ],
          [
           "Média"
          ],
          [
           "Alta"
          ],
          [
           "Alta"
          ],
          [
           "Alta"
          ],
          [
           "Alta"
          ],
          [
           "Alta"
          ],
          [
           "Média"
          ],
          [
           "Média"
          ],
          [
           "Média"
          ],
          [
           "Média"
          ],
          [
           "Média"
          ],
          [
           "Média"
          ],
          [
           "Média"
          ],
          [
           "Média"
          ],
          [
           "Média"
          ],
          [
           "Média"
          ],
          [
           "Média"
          ],
          [
           "Média"
          ],
          [
           "Média"
          ],
          [
           "Média"
          ],
          [
           "Média"
          ],
          [
           "Média"
          ],
          [
           "Média"
          ],
          [
           "Média"
          ],
          [
           "Média"
          ],
          [
           "Média"
          ],
          [
           "Média"
          ],
          [
           "Média"
          ],
          [
           "Média"
          ],
          [
           "Média"
          ],
          [
           "Média"
          ],
          [
           "Baixa"
          ],
          [
           "Alta"
          ],
          [
           "Baixa"
          ],
          [
           "Média"
          ],
          [
           "Alta"
          ],
          [
           "Baixa"
          ],
          [
           "Baixa"
          ],
          [
           "Baixa"
          ],
          [
           "Alta"
          ],
          [
           "Alta"
          ],
          [
           "Média"
          ],
          [
           "Média"
          ],
          [
           "Alta"
          ],
          [
           "Baixa"
          ],
          [
           "Alta"
          ],
          [
           "Baixa"
          ],
          [
           "Baixa"
          ],
          [
           "Baixa"
          ],
          [
           "Baixa"
          ],
          [
           "Baixa"
          ],
          [
           "Alta"
          ],
          [
           "Alta"
          ],
          [
           "Alta"
          ],
          [
           "Baixa"
          ],
          [
           "Baixa"
          ],
          [
           "Baixa"
          ],
          [
           "Alta"
          ],
          [
           "Baixa"
          ],
          [
           "Baixa"
          ],
          [
           "Baixa"
          ],
          [
           "Alta"
          ],
          [
           "Alta"
          ],
          [
           "Baixa"
          ],
          [
           "Média"
          ],
          [
           "Média"
          ],
          [
           "Alta"
          ],
          [
           "Alta"
          ],
          [
           "Alta"
          ],
          [
           "Alta"
          ],
          [
           "Alta"
          ],
          [
           "Alta"
          ],
          [
           "Baixa"
          ],
          [
           "Baixa"
          ],
          [
           "Baixa"
          ],
          [
           "Baixa"
          ],
          [
           "Baixa"
          ],
          [
           "Média"
          ],
          [
           "Baixa"
          ],
          [
           "Baixa"
          ],
          [
           "Baixa"
          ],
          [
           "Baixa"
          ],
          [
           "Baixa"
          ],
          [
           "Baixa"
          ],
          [
           "Baixa"
          ],
          [
           "Baixa"
          ],
          [
           "Baixa"
          ],
          [
           "Baixa"
          ],
          [
           "Baixa"
          ],
          [
           "Baixa"
          ],
          [
           "Baixa"
          ],
          [
           "Baixa"
          ],
          [
           "Baixa"
          ],
          [
           "Baixa"
          ],
          [
           "Baixa"
          ],
          [
           "Baixa"
          ],
          [
           "Baixa"
          ],
          [
           "Baixa"
          ],
          [
           "Baixa"
          ],
          [
           "Baixa"
          ],
          [
           "Baixa"
          ],
          [
           "Baixa"
          ],
          [
           "Baixa"
          ],
          [
           "Baixa"
          ],
          [
           "Baixa"
          ],
          [
           "Baixa"
          ],
          [
           "Baixa"
          ],
          [
           "Baixa"
          ],
          [
           "Baixa"
          ],
          [
           "Baixa"
          ],
          [
           "Baixa"
          ],
          [
           "Baixa"
          ],
          [
           "Baixa"
          ],
          [
           "Baixa"
          ],
          [
           "Baixa"
          ],
          [
           "Baixa"
          ],
          [
           "Média"
          ],
          [
           "Média"
          ],
          [
           "Média"
          ],
          [
           "Alta"
          ],
          [
           "Alta"
          ],
          [
           "Baixa"
          ],
          [
           "Baixa"
          ],
          [
           "Baixa"
          ],
          [
           "Alta"
          ],
          [
           "Alta"
          ],
          [
           "Alta"
          ],
          [
           "Alta"
          ],
          [
           "Alta"
          ],
          [
           "Alta"
          ],
          [
           "Baixa"
          ],
          [
           "Alta"
          ],
          [
           "Baixa"
          ],
          [
           "Alta"
          ],
          [
           "Alta"
          ],
          [
           "Baixa"
          ],
          [
           "Alta"
          ],
          [
           "Baixa"
          ],
          [
           "Baixa"
          ],
          [
           "Alta"
          ],
          [
           "Alta"
          ],
          [
           "Baixa"
          ],
          [
           "Baixa"
          ],
          [
           "Alta"
          ],
          [
           "Baixa"
          ],
          [
           "Média"
          ],
          [
           "Alta"
          ],
          [
           "Baixa"
          ],
          [
           "Alta"
          ],
          [
           "Alta"
          ],
          [
           "Média"
          ],
          [
           "Baixa"
          ],
          [
           "Baixa"
          ],
          [
           "Alta"
          ],
          [
           "Baixa"
          ],
          [
           "Baixa"
          ],
          [
           "Alta"
          ],
          [
           "Alta"
          ],
          [
           "Alta"
          ],
          [
           "Alta"
          ],
          [
           "Alta"
          ],
          [
           "Alta"
          ],
          [
           "Média"
          ],
          [
           "Média"
          ],
          [
           "Alta"
          ],
          [
           "Alta"
          ],
          [
           "Alta"
          ],
          [
           "Alta"
          ],
          [
           "Alta"
          ],
          [
           "Média"
          ],
          [
           "Média"
          ],
          [
           "Alta"
          ],
          [
           "Alta"
          ],
          [
           "Baixa"
          ],
          [
           "Alta"
          ],
          [
           "Alta"
          ],
          [
           "Baixa"
          ],
          [
           "Alta"
          ],
          [
           "Alta"
          ],
          [
           "Alta"
          ],
          [
           "Alta"
          ],
          [
           "Alta"
          ],
          [
           "Alta"
          ],
          [
           "Alta"
          ],
          [
           "Alta"
          ],
          [
           "Alta"
          ],
          [
           "Alta"
          ],
          [
           "Baixa"
          ],
          [
           "Baixa"
          ],
          [
           "Alta"
          ],
          [
           "Média"
          ],
          [
           "Média"
          ],
          [
           "Média"
          ],
          [
           "Alta"
          ],
          [
           "Média"
          ],
          [
           "Média"
          ],
          [
           "Média"
          ],
          [
           "Alta"
          ],
          [
           "Baixa"
          ],
          [
           "Baixa"
          ],
          [
           "Baixa"
          ],
          [
           "Baixa"
          ],
          [
           "Baixa"
          ],
          [
           "Alta"
          ],
          [
           "Média"
          ],
          [
           "Alta"
          ],
          [
           "Alta"
          ],
          [
           "Baixa"
          ],
          [
           "Baixa"
          ],
          [
           "Baixa"
          ],
          [
           "Alta"
          ],
          [
           "Alta"
          ],
          [
           "Baixa"
          ],
          [
           "Alta"
          ],
          [
           "Média"
          ],
          [
           "Baixa"
          ],
          [
           "Baixa"
          ],
          [
           "Baixa"
          ],
          [
           "Baixa"
          ],
          [
           "Alta"
          ],
          [
           "Baixa"
          ],
          [
           "Baixa"
          ],
          [
           "Baixa"
          ],
          [
           "Baixa"
          ],
          [
           "Baixa"
          ],
          [
           "Alta"
          ],
          [
           "Baixa"
          ],
          [
           "Alta"
          ],
          [
           "Média"
          ],
          [
           "Alta"
          ],
          [
           "Alta"
          ],
          [
           "Alta"
          ],
          [
           "Alta"
          ],
          [
           "Alta"
          ],
          [
           "Alta"
          ],
          [
           "Baixa"
          ],
          [
           "Baixa"
          ],
          [
           "Alta"
          ],
          [
           "Baixa"
          ],
          [
           "Alta"
          ],
          [
           "Alta"
          ],
          [
           "Baixa"
          ],
          [
           "Alta"
          ],
          [
           "Alta"
          ],
          [
           "Alta"
          ],
          [
           "Alta"
          ],
          [
           "Alta"
          ],
          [
           "Alta"
          ],
          [
           "Alta"
          ],
          [
           "Média"
          ],
          [
           "Média"
          ],
          [
           "Alta"
          ],
          [
           "Alta"
          ],
          [
           "Baixa"
          ],
          [
           "Média"
          ],
          [
           "Média"
          ],
          [
           "Alta"
          ],
          [
           "Alta"
          ],
          [
           "Alta"
          ],
          [
           "Alta"
          ],
          [
           "Alta"
          ],
          [
           "Baixa"
          ],
          [
           "Alta"
          ],
          [
           "Alta"
          ],
          [
           "Alta"
          ],
          [
           "Alta"
          ],
          [
           "Alta"
          ],
          [
           "Média"
          ],
          [
           "Média"
          ],
          [
           "Média"
          ],
          [
           "Alta"
          ],
          [
           "Alta"
          ],
          [
           "Alta"
          ],
          [
           "Baixa"
          ],
          [
           "Média"
          ],
          [
           "Alta"
          ],
          [
           "Alta"
          ],
          [
           "Alta"
          ],
          [
           "Média"
          ],
          [
           "Alta"
          ],
          [
           "Média"
          ],
          [
           "Alta"
          ],
          [
           "Alta"
          ],
          [
           "Alta"
          ],
          [
           "Alta"
          ],
          [
           "Baixa"
          ],
          [
           "Baixa"
          ],
          [
           "Alta"
          ],
          [
           "Alta"
          ],
          [
           "Alta"
          ],
          [
           "Alta"
          ],
          [
           "Alta"
          ],
          [
           "Alta"
          ],
          [
           "Baixa"
          ],
          [
           "Baixa"
          ],
          [
           "Alta"
          ],
          [
           "Alta"
          ],
          [
           "Média"
          ],
          [
           "Alta"
          ],
          [
           "Média"
          ],
          [
           "Média"
          ],
          [
           "Baixa"
          ],
          [
           "Alta"
          ],
          [
           "Baixa"
          ],
          [
           "Baixa"
          ],
          [
           "Baixa"
          ],
          [
           "Alta"
          ],
          [
           "Baixa"
          ],
          [
           "Alta"
          ],
          [
           "Alta"
          ],
          [
           "Alta"
          ],
          [
           "Alta"
          ],
          [
           "Alta"
          ],
          [
           "Baixa"
          ],
          [
           "Baixa"
          ],
          [
           "Baixa"
          ],
          [
           "Baixa"
          ],
          [
           "Baixa"
          ],
          [
           "Alta"
          ],
          [
           "Média"
          ],
          [
           "Média"
          ],
          [
           "Baixa"
          ],
          [
           "Baixa"
          ],
          [
           "Alta"
          ],
          [
           "Alta"
          ],
          [
           "Média"
          ],
          [
           "Alta"
          ],
          [
           "Baixa"
          ],
          [
           "Alta"
          ],
          [
           "Alta"
          ],
          [
           "Baixa"
          ],
          [
           "Baixa"
          ],
          [
           "Baixa"
          ],
          [
           "Alta"
          ],
          [
           "Baixa"
          ],
          [
           "Baixa"
          ],
          [
           "Baixa"
          ],
          [
           "Média"
          ],
          [
           "Média"
          ],
          [
           "Baixa"
          ],
          [
           "Alta"
          ],
          [
           "Alta"
          ],
          [
           "Média"
          ],
          [
           "Média"
          ],
          [
           "Alta"
          ],
          [
           "Alta"
          ],
          [
           "Alta"
          ],
          [
           "Média"
          ],
          [
           "Alta"
          ],
          [
           "Alta"
          ],
          [
           "Alta"
          ],
          [
           "Alta"
          ],
          [
           "Alta"
          ],
          [
           "Alta"
          ],
          [
           "Baixa"
          ],
          [
           "Alta"
          ],
          [
           "Alta"
          ],
          [
           "Média"
          ],
          [
           "Alta"
          ],
          [
           "Alta"
          ],
          [
           "Baixa"
          ],
          [
           "Alta"
          ],
          [
           "Média"
          ],
          [
           "Média"
          ],
          [
           "Baixa"
          ],
          [
           "Média"
          ],
          [
           "Baixa"
          ],
          [
           "Média"
          ],
          [
           "Média"
          ],
          [
           "Baixa"
          ],
          [
           "Baixa"
          ],
          [
           "Baixa"
          ],
          [
           "Baixa"
          ],
          [
           "Baixa"
          ],
          [
           "Baixa"
          ],
          [
           "Baixa"
          ],
          [
           "Baixa"
          ],
          [
           "Baixa"
          ],
          [
           "Baixa"
          ],
          [
           "Baixa"
          ],
          [
           "Baixa"
          ],
          [
           "Média"
          ],
          [
           "Baixa"
          ],
          [
           "Média"
          ],
          [
           "Alta"
          ],
          [
           "Baixa"
          ],
          [
           "Média"
          ],
          [
           "Baixa"
          ],
          [
           "Média"
          ],
          [
           "Baixa"
          ],
          [
           "Baixa"
          ],
          [
           "Baixa"
          ],
          [
           "Baixa"
          ],
          [
           "Baixa"
          ],
          [
           "Baixa"
          ],
          [
           "Baixa"
          ],
          [
           "Baixa"
          ],
          [
           "Baixa"
          ],
          [
           "Baixa"
          ],
          [
           "Alta"
          ],
          [
           "Média"
          ],
          [
           "Baixa"
          ],
          [
           "Alta"
          ],
          [
           "Alta"
          ],
          [
           "Alta"
          ],
          [
           "Baixa"
          ],
          [
           "Baixa"
          ],
          [
           "Baixa"
          ],
          [
           "Alta"
          ],
          [
           "Alta"
          ],
          [
           "Alta"
          ],
          [
           "Alta"
          ],
          [
           "Alta"
          ],
          [
           "Alta"
          ]
         ],
         "hovertemplate": "<b>%{hovertext}</b><br><br>Categoria de Risco - CRI=Baixa<br>Latitude=%{lat}<br>Longitude=%{lon}<br>Dano Potencial Associado - DPA=%{customdata[0]}<extra></extra>",
         "hovertext": [
          "MACHADINHO D'OESTE",
          "ITAPUÃ DO OESTE",
          "ITAPUÃ DO OESTE",
          "ITAPUÃ DO OESTE",
          "ITAPUÃ DO OESTE",
          "ITAPUÃ DO OESTE",
          "PRESIDENTE FIGUEIREDO",
          "PRESIDENTE FIGUEIREDO",
          "PRESIDENTE FIGUEIREDO",
          "PRESIDENTE FIGUEIREDO",
          "PRESIDENTE FIGUEIREDO",
          "ALMEIRIM",
          "ALMEIRIM",
          "BARCARENA",
          "BARCARENA",
          "BARCARENA",
          "BARCARENA",
          "BARCARENA",
          "BARCARENA",
          "BARCARENA",
          "BARCARENA",
          "BARCARENA",
          "BARCARENA",
          "CANAÃ DOS CARAJÁS",
          "CANAÃ DOS CARAJÁS",
          "CANAÃ DOS CARAJÁS",
          "CANAÃ DOS CARAJÁS",
          "CANAÃ DOS CARAJÁS",
          "CANAÃ DOS CARAJÁS",
          "CANAÃ DOS CARAJÁS",
          "CANAÃ DOS CARAJÁS",
          "CANAÃ DOS CARAJÁS",
          "CURIONÓPOLIS",
          "CURIONÓPOLIS",
          "CURIONÓPOLIS",
          "CURIONÓPOLIS",
          "ITAITUBA",
          "ITAITUBA",
          "ITAITUBA",
          "JURUTI",
          "JURUTI",
          "JURUTI",
          "JURUTI",
          "JURUTI",
          "JURUTI",
          "JURUTI",
          "JURUTI",
          "JURUTI",
          "MARABÁ",
          "MARABÁ",
          "MARABÁ",
          "MARABÁ",
          "MARABÁ",
          "MARABÁ",
          "ORIXIMINÁ",
          "ORIXIMINÁ",
          "ORIXIMINÁ",
          "ORIXIMINÁ",
          "ORIXIMINÁ",
          "ORIXIMINÁ",
          "ORIXIMINÁ",
          "ORIXIMINÁ",
          "ORIXIMINÁ",
          "ORIXIMINÁ",
          "ORIXIMINÁ",
          "ORIXIMINÁ",
          "ORIXIMINÁ",
          "ORIXIMINÁ",
          "ORIXIMINÁ",
          "ORIXIMINÁ",
          "ORIXIMINÁ",
          "ORIXIMINÁ",
          "ORIXIMINÁ",
          "ORIXIMINÁ",
          "ORIXIMINÁ",
          "ORIXIMINÁ",
          "ORIXIMINÁ",
          "ORIXIMINÁ",
          "OURILÂNDIA DO NORTE",
          "PARAGOMINAS",
          "PARAGOMINAS",
          "PARAGOMINAS",
          "PARAGOMINAS",
          "PARAUAPEBAS",
          "PARAUAPEBAS",
          "PARAUAPEBAS",
          "PARAUAPEBAS",
          "PARAUAPEBAS",
          "PARAUAPEBAS",
          "PARAUAPEBAS",
          "PARAUAPEBAS",
          "PARAUAPEBAS",
          "PARAUAPEBAS",
          "SÃO FÉLIX DO XINGU",
          "SÃO FÉLIX DO XINGU",
          "SÃO FÉLIX DO XINGU",
          "SÃO FÉLIX DO XINGU",
          "SÃO FÉLIX DO XINGU",
          "PEDRA BRANCA DO AMAPARI",
          "PEDRA BRANCA DO AMAPARI",
          "PEDRA BRANCA DO AMAPARI",
          "MAZAGÃO",
          "ALMAS",
          "ALMAS",
          "ARRAIAS",
          "NATIVIDADE",
          "NATIVIDADE",
          "NATIVIDADE",
          "GODOFREDO VIANA",
          "CRAÍBAS",
          "ROSÁRIO DO CATETE",
          "ROSÁRIO DO CATETE",
          "ROSÁRIO DO CATETE",
          "BARROCAS",
          "BARROCAS",
          "BARROCAS",
          "CAMPO FORMOSO",
          "ITAGIBÁ",
          "JACOBINA",
          "JAGUARARI",
          "JAGUARARI",
          "JAGUARARI",
          "JAGUARARI",
          "JAGUARARI",
          "JAGUARARI",
          "JAGUARARI",
          "JAGUARARI",
          "JAGUARARI",
          "JAGUARARI",
          "JAGUARARI",
          "JAGUARARI",
          "JAGUARARI",
          "JAGUARARI",
          "JAGUARARI",
          "JAGUARARI",
          "JAGUARARI",
          "JAGUARARI",
          "JAGUARARI",
          "JAGUARARI",
          "JAGUARARI",
          "JAGUARARI",
          "JAGUARARI",
          "JAGUARARI",
          "JAGUARARI",
          "JAGUARARI",
          "JAGUARARI",
          "JAGUARARI",
          "JAGUARARI",
          "JAGUARARI",
          "JAGUARARI",
          "JAGUARARI",
          "JAGUARARI",
          "JAGUARARI",
          "JAGUARARI",
          "JAGUARARI",
          "JAGUARARI",
          "JAGUARARI",
          "JAGUARARI",
          "JAGUARARI",
          "JAGUARARI",
          "JAGUARARI",
          "JAGUARARI",
          "JAGUARARI",
          "MARACÁS",
          "MARACÁS",
          "MARACÁS",
          "SANTALUZ",
          "SANTALUZ",
          "ARAXÁ",
          "ARAXÁ",
          "ARAXÁ",
          "ARAXÁ",
          "ARAXÁ",
          "ARAXÁ",
          "ARAXÁ",
          "ARAXÁ",
          "ARAXÁ",
          "ARAXÁ",
          "ARAXÁ",
          "ARAXÁ",
          "ARCOS",
          "ARCOS",
          "BARÃO DE COCAIS",
          "BARÃO DE COCAIS",
          "BELA VISTA DE MINAS",
          "BELO HORIZONTE",
          "BELO VALE",
          "BELO VALE",
          "BETIM",
          "BETIM",
          "BETIM",
          "BRUMADINHO",
          "BRUMADINHO",
          "BRUMADINHO",
          "BRUMADINHO",
          "BRUMADINHO",
          "BRUMADINHO",
          "BRUMADINHO",
          "BRUMADINHO",
          "BRUMADINHO",
          "BRUMADINHO",
          "BRUMADINHO",
          "BRUMADINHO",
          "CAETÉ",
          "CAETÉ",
          "CATAS ALTAS",
          "CONCEIÇÃO DO MATO DENTRO",
          "CONCEIÇÃO DO MATO DENTRO",
          "CONCEIÇÃO DO MATO DENTRO",
          "CONCEIÇÃO DO MATO DENTRO",
          "CONCEIÇÃO DO MATO DENTRO",
          "CONCEIÇÃO DO PARÁ",
          "CONGONHAS",
          "CONGONHAS",
          "CONGONHAS",
          "CONGONHAS",
          "CONGONHAS",
          "CONGONHAS",
          "CONGONHAS",
          "IGARAPÉ",
          "INHAÚMA",
          "ITABIRA",
          "ITABIRA",
          "ITABIRA",
          "ITABIRA",
          "ITABIRA",
          "ITABIRA",
          "ITABIRA",
          "ITABIRA",
          "ITABIRA",
          "ITABIRA",
          "ITABIRA",
          "ITABIRA",
          "ITABIRA",
          "ITABIRITO",
          "ITABIRITO",
          "ITABIRITO",
          "ITABIRITO",
          "ITABIRITO",
          "ITABIRITO",
          "ITABIRITO",
          "ITABIRITO",
          "ITABIRITO",
          "ITABIRITO",
          "ITABIRITO",
          "ITABIRITO",
          "ITABIRITO",
          "ITABIRITO",
          "ITABIRITO",
          "ITABIRITO",
          "ITAMARATI DE MINAS",
          "ITAPECERICA",
          "ITAPECERICA",
          "ITAPECERICA",
          "ITATIAIUÇU",
          "ITATIAIUÇU",
          "ITATIAIUÇU",
          "ITATIAIUÇU",
          "ITATIAIUÇU",
          "ITATIAIUÇU",
          "ITATIAIUÇU",
          "ITATIAIUÇU",
          "ITATIAIUÇU",
          "ITATIAIUÇU",
          "ITATIAIUÇU",
          "ITAÚNA",
          "JECEABA",
          "LAGAMAR",
          "LAGAMAR",
          "MARIANA",
          "MARIANA",
          "MARIANA",
          "MARIANA",
          "MARIANA",
          "MARIANA",
          "MARIANA",
          "MARIANA",
          "MARIANA",
          "MARIANA",
          "MARIANA",
          "MARIANA",
          "MARIANA",
          "MÁRIO CAMPOS",
          "MATEUS LEME",
          "MATIPÓ",
          "MERCÊS",
          "MIRAÍ",
          "MIRAÍ",
          "NAZARENO",
          "NOVA LIMA",
          "NOVA LIMA",
          "NOVA LIMA",
          "NOVA LIMA",
          "NOVA LIMA",
          "NOVA LIMA",
          "NOVA LIMA",
          "NOVA LIMA",
          "NOVA LIMA",
          "NOVA LIMA",
          "NOVA LIMA",
          "OURO PRETO",
          "OURO PRETO",
          "OURO PRETO",
          "OURO PRETO",
          "OURO PRETO",
          "OURO PRETO",
          "OURO PRETO",
          "OURO PRETO",
          "PARACATU",
          "PARACATU",
          "PARACATU",
          "PARACATU",
          "PARACATU",
          "PARACATU",
          "PARACATU",
          "PARACATU",
          "PARACATU",
          "PARACATU",
          "PATOS DE MINAS",
          "PATOS DE MINAS",
          "PATROCÍNIO",
          "PEDRA AZUL",
          "PEDRA AZUL",
          "RIACHO DOS MACHADOS",
          "RIO ACIMA",
          "RIO ACIMA",
          "RIO PIRACICABA",
          "RIO PIRACICABA",
          "RIO PIRACICABA",
          "SABARÁ",
          "SABARÁ",
          "SALTO DA DIVISA",
          "SANTA BÁRBARA",
          "SANTA BÁRBARA",
          "SANTA BÁRBARA",
          "SANTA BÁRBARA",
          "SANTA BÁRBARA",
          "SANTA BÁRBARA",
          "SANTA BÁRBARA",
          "SANTO ANTÔNIO DO GRAMA",
          "SÃO GONÇALO DO RIO ABAIXO",
          "SÃO GONÇALO DO RIO ABAIXO",
          "SÃO GONÇALO DO RIO ABAIXO",
          "SÃO GONÇALO DO RIO ABAIXO",
          "SÃO GONÇALO DO RIO ABAIXO",
          "SÃO GONÇALO DO RIO ABAIXO",
          "SÃO TIAGO",
          "SÃO TIAGO",
          "SARZEDO",
          "SARZEDO",
          "SENADOR MODESTINO GONÇALVES",
          "SENADOR MODESTINO GONÇALVES",
          "SENADOR MODESTINO GONÇALVES",
          "SERRA DO SALITRE",
          "TAPIRA",
          "TAPIRA",
          "TAPIRA",
          "TAPIRA",
          "TAPIRA",
          "TAPIRA",
          "UBERABA",
          "UBERABA",
          "UBERABA",
          "UBERABA",
          "VAZANTE",
          "VAZANTE",
          "VAZANTE",
          "QUATIS",
          "BOFETE",
          "BOFETE",
          "CAJATI",
          "CAJATI",
          "CORUMBATAÍ",
          "GUARAREMA",
          "ITAPETININGA",
          "LEME",
          "MOGI DAS CRUZES",
          "MOGI DAS CRUZES",
          "MOGI DAS CRUZES",
          "MOGI DAS CRUZES",
          "MOGI DAS CRUZES",
          "SALTO DE PIRAPORA",
          "SALTO DE PIRAPORA",
          "SANTA ISABEL",
          "SANTA ISABEL",
          "SANTA ISABEL",
          "SANTANA DE PARNAÍBA",
          "SÃO PAULO",
          "SÃO PAULO",
          "SÃO SIMÃO",
          "CAMPO LARGO",
          "LAURO MÜLLER",
          "LAURO MÜLLER",
          "SIDERÓPOLIS",
          "SIDERÓPOLIS",
          "TREVISO",
          "TREVISO",
          "TREVISO",
          "TREVISO",
          "TREVISO",
          "TREVISO",
          "URUSSANGA",
          "URUSSANGA",
          "BUTIÁ",
          "CORUMBÁ",
          "CORUMBÁ",
          "CORUMBÁ",
          "CUIABÁ",
          "VILA BELA DA SANTÍSSIMA TRINDADE",
          "VILA BELA DA SANTÍSSIMA TRINDADE",
          "VILA BELA DA SANTÍSSIMA TRINDADE",
          "NOSSA SENHORA DO LIVRAMENTO",
          "NOSSA SENHORA DO LIVRAMENTO",
          "NOSSA SENHORA DO LIVRAMENTO",
          "NOSSA SENHORA DO LIVRAMENTO",
          "NOSSA SENHORA DO LIVRAMENTO",
          "NOSSA SENHORA DO LIVRAMENTO",
          "NOSSA SENHORA DO LIVRAMENTO",
          "NOSSA SENHORA DO LIVRAMENTO",
          "NOSSA SENHORA DO LIVRAMENTO",
          "NOSSA SENHORA DO LIVRAMENTO",
          "NOSSA SENHORA DO LIVRAMENTO",
          "PARANAÍTA",
          "POCONÉ",
          "POCONÉ",
          "POCONÉ",
          "POCONÉ",
          "POCONÉ",
          "POCONÉ",
          "POCONÉ",
          "POCONÉ",
          "POCONÉ",
          "POCONÉ",
          "POCONÉ",
          "POCONÉ",
          "POCONÉ",
          "POCONÉ",
          "POCONÉ",
          "POCONÉ",
          "POCONÉ",
          "POCONÉ",
          "POCONÉ",
          "POCONÉ",
          "POCONÉ",
          "POCONÉ",
          "POCONÉ",
          "PONTES E LACERDA",
          "PONTES E LACERDA",
          "SANTO ANTÔNIO DE LEVERGER",
          "ALTO HORIZONTE",
          "CATALÃO",
          "CATALÃO",
          "OUVIDOR",
          "OUVIDOR",
          "OUVIDOR",
          "OUVIDOR",
          "OUVIDOR",
          "OUVIDOR",
          "OUVIDOR",
          "OUVIDOR",
          "PILAR DE GOIÁS"
         ],
         "lat": [
          -9.583333333333334,
          -9.458055555555555,
          -9.437208333333334,
          -9.464166666666666,
          -9.461388888888887,
          -9.20436111111111,
          -0.7380277777777777,
          -0.7322869444444444,
          -0.7384238888888889,
          -0.7565758333333333,
          -0.7857222222222222,
          -0.9145697222222222,
          -0.8976111111111111,
          -1.5734438888888889,
          -1.5741666666666667,
          -1.5730555555555557,
          -1.5706111111111112,
          -1.5809027777777778,
          -1.5813408333333334,
          -1.584,
          -1.5827777777777778,
          -1.5814269444444444,
          -1.5802777777777777,
          -6.39938888888889,
          -6.408027777777778,
          -6.429108888888889,
          -6.405722222222223,
          -6.402594722222222,
          -6.411516944444445,
          -6.405993888888889,
          -6.421384722222222,
          -6.433861111111112,
          -6.2479941666666665,
          -6.244965277777778,
          -6.086658333333333,
          -6.236122222222222,
          -6.4155500000000005,
          -6.325094444444444,
          -6.325083333333333,
          -2.4866944444444443,
          -2.536477777777778,
          -2.505,
          -2.5006944444444446,
          -2.496611111111111,
          -2.495888888888889,
          -2.48625,
          -2.4869444444444446,
          -2.484027777777778,
          -5.823972222222222,
          -5.778,
          -5.5125,
          -5.81726,
          -5.8326111111111105,
          -5.779638888888889,
          -1.6694027777777776,
          -1.6719944444444443,
          -1.673861111111111,
          -1.6749166666666666,
          -1.6685277777777776,
          -1.6877777777777778,
          -1.690611111111111,
          -1.6826944444444443,
          -1.6828333333333332,
          -1.6763333333333332,
          -1.669722222222222,
          -1.673472222222222,
          -1.6929444444444444,
          -1.69875,
          -1.699888888888889,
          -1.693888888888889,
          -1.6808733333333332,
          -1.6846944444444445,
          -1.4719166666666668,
          -1.4658055555555556,
          -1.6829166666666666,
          -1.6835,
          -1.6826388888888888,
          -1.6873055555555556,
          -6.580472222222222,
          -3.265273888888889,
          -3.275,
          -3.2648444444444444,
          -3.2594944444444445,
          -6.48525,
          -6.479033888888889,
          -6.445389722222222,
          -5.979277777777778,
          -5.994793333333333,
          -6.099444444444444,
          -6.108138888888888,
          -6.046821111111111,
          -6.056853611111111,
          -6.078138888888889,
          -6.561861111111111,
          -6.560388888888888,
          -6.558737777777778,
          -6.5559569444444445,
          -6.58036111111111,
          -0.8531666666666667,
          -0.875675,
          -0.8722777777777777,
          -0.4016738888888889,
          -11.4464,
          -11.718616944444445,
          -12.895818888888888,
          -11.647416666666667,
          -11.649327777777778,
          -11.650002777777779,
          -1.3095933333333334,
          -9.67225,
          -10.653444444444444,
          -10.657833333333334,
          -10.657333333333334,
          -11.449666666666667,
          -11.447133888888889,
          -11.448055555555555,
          -10.545,
          -14.189108888888889,
          -11.23511111111111,
          -9.85286111111111,
          -9.852825,
          -9.855442499999999,
          -9.854245833333334,
          -9.861199722222223,
          -9.851138888888888,
          -9.851531944444444,
          -9.880839722222223,
          -9.875618888888889,
          -9.862105,
          -9.863473888888889,
          -9.879863333333335,
          -9.85333,
          -9.873844722222223,
          -9.872836944444446,
          -9.87293888888889,
          -9.851265,
          -9.874896944444444,
          -9.878252777777778,
          -9.85697,
          -9.88128888888889,
          -9.877543888888889,
          -9.879062777777778,
          -9.852604722222221,
          -9.853491944444444,
          -9.85637111111111,
          -9.875650277777778,
          -9.875388888888889,
          -9.87485888888889,
          -9.87446388888889,
          -9.876943888888889,
          -9.878210000000001,
          -9.879488333333335,
          -9.876857777777778,
          -9.880159166666667,
          -9.875204722222223,
          -9.87887388888889,
          -9.877211666666668,
          -9.855460833333334,
          -9.852129999999999,
          -9.853056944444445,
          -9.855352777777778,
          -9.857335555555554,
          -9.855806944444444,
          -13.686736388888889,
          -13.68725,
          -13.68993611111111,
          -11.003444444444444,
          -11.003638888888888,
          -19.65972222222222,
          -19.67342777777778,
          -19.653326944444444,
          -19.649722222222223,
          -19.610835,
          -19.63361111111111,
          -19.611005833333333,
          -19.65020388888889,
          -19.654166666666665,
          -19.641352777777776,
          -19.616944444444446,
          -19.657,
          -20.31343888888889,
          -20.316561111111113,
          -19.973500277777777,
          -19.851347222222223,
          -19.784722222222225,
          -20.025280555555554,
          -20.42527777777778,
          -20.433944444444446,
          -19.864936111111113,
          -19.875955555555556,
          -19.985555555555557,
          -20.115694444444447,
          -20.108272777777778,
          -20.119805555555555,
          -20.11963888888889,
          -20.128083333333333,
          -20.119055555555555,
          -20.104277777777778,
          -20.064805555555555,
          -20.066305555555555,
          -20.16186111111111,
          -20.129869444444445,
          -20.123088055555556,
          -19.934925833333335,
          -19.958252777777776,
          -20.105474444444447,
          -18.865222222222222,
          -18.889722222222222,
          -18.92082888888889,
          -18.93166666666667,
          -18.935555555555556,
          -19.746055555555557,
          -20.425833333333333,
          -20.43402777777778,
          -20.485833333333336,
          -20.50583333333333,
          -20.485,
          -20.45647222222222,
          -20.485277777777778,
          -20.103527777777778,
          -19.582597222222223,
          -19.640643333333333,
          -19.645592222222223,
          -19.570480555555555,
          -19.60931,
          -19.612504722222223,
          -19.575618055555555,
          -19.555094166666667,
          -19.56347388888889,
          -19.607335833333334,
          -19.68536111111111,
          -19.674222222222223,
          -19.647583333333333,
          -19.57450888888889,
          -20.249922222222224,
          -20.251191666666667,
          -20.22086,
          -20.26043888888889,
          -20.197243055555557,
          -20.21129138888889,
          -20.196583333333333,
          -20.272875833333334,
          -20.275777777777776,
          -20.301869444444446,
          -20.21045472222222,
          -20.278388888888887,
          -20.379469444444446,
          -20.378852777777777,
          -20.28597388888889,
          -20.292908333333337,
          -21.455224722222223,
          -20.444222222222223,
          -20.440055555555556,
          -20.43786111111111,
          -20.15588888888889,
          -20.145916666666665,
          -20.148377777777778,
          -20.1387,
          -20.138424999999998,
          -20.158188888888887,
          -20.172921666666667,
          -20.170972222222222,
          -20.15983333333333,
          -20.14038888888889,
          -20.138711944444445,
          -20.14667222222222,
          -20.56261111111111,
          -18.282231944444444,
          -18.27986111111111,
          -20.338055555555556,
          -20.348972222222223,
          -20.17795611111111,
          -20.188345,
          -20.159307499999997,
          -20.184531944444444,
          -20.207473055555553,
          -20.2165,
          -20.210477777777776,
          -20.194805555555554,
          -20.235874722222224,
          -20.24127777777778,
          -20.23131944444444,
          -20.095525,
          -20.130736111111112,
          -20.371955833333335,
          -21.13257527777778,
          -21.211575277777776,
          -21.06215472222222,
          -21.087777777777777,
          -20.15272222222222,
          -20.14975,
          -20.155694444444443,
          -20.12988888888889,
          -19.96361111111111,
          -20.11061527777778,
          -20.068666666666665,
          -20.05825,
          -20.06113888888889,
          -20.039333333333335,
          -20.15288888888889,
          -20.41172222222222,
          -20.193141666666666,
          -20.454777777777778,
          -20.39498,
          -20.270514444444444,
          -20.437981944444445,
          -20.425600000000003,
          -20.394777777777776,
          -17.15729083333333,
          -17.146166666666666,
          -17.496333333333336,
          -17.513333333333332,
          -17.510666666666665,
          -17.146333333333335,
          -17.174166666666668,
          -17.1755,
          -17.172333333333334,
          -17.182333333333336,
          -18.37902777777778,
          -18.379805555555556,
          -18.98670888888889,
          -15.888833333333332,
          -15.918861111111111,
          -16.0546,
          -20.161011944444443,
          -20.158840833333333,
          -19.929942222222223,
          -19.932458611111112,
          -19.92690277777778,
          -19.857194444444445,
          -19.865781944444446,
          -16.207638888888887,
          -20.185083333333335,
          -20.006616666666666,
          -20.1735,
          -20.019166666666667,
          -19.959216666666666,
          -19.963639722222222,
          -19.948166666666665,
          -20.344805555555553,
          -19.891527777777778,
          -19.89211111111111,
          -19.87864972222222,
          -19.87477861111111,
          -19.864143611111114,
          -19.883975,
          -21.072666666666667,
          -21.08393611111111,
          -20.08026111111111,
          -20.0899,
          -17.96846111111111,
          -17.968313888888886,
          -17.96865833333333,
          -19.047833333333337,
          -19.823305555555557,
          -19.82102777777778,
          -19.84247222222222,
          -19.788861111111114,
          -19.8385,
          -19.837249999999997,
          -19.409470277777775,
          -19.40967472222222,
          -19.40951944444444,
          -19.410207777777778,
          -17.965,
          -17.972666666666665,
          -17.961335833333333,
          -22.455055555555553,
          -23.193922222222223,
          -23.177833333333336,
          -24.69986666666667,
          -24.718744444444443,
          -22.192083333333333,
          -23.389027777777777,
          -23.66244,
          -22.18888888888889,
          -23.49663888888889,
          -23.401277777777775,
          -23.41685,
          -23.397333333333332,
          -23.49716666666667,
          -23.62836111111111,
          -23.631555555555558,
          -23.357750000000003,
          -23.355833333333333,
          -23.35663888888889,
          -23.400988888888886,
          -23.420555555555556,
          -23.409555555555553,
          -21.432786111111113,
          -25.370505833333333,
          -28.40961111111111,
          -28.408819444444443,
          -28.586851944444444,
          -28.577277777777777,
          -28.473055555555554,
          -28.49211111111111,
          -28.49413888888889,
          -28.48306111111111,
          -28.482441666666666,
          -28.481502777777777,
          -28.456441666666667,
          -28.453611111111112,
          -30.14566138888889,
          -19.26527777777778,
          -19.205527777777778,
          -19.224446666666665,
          -15.556175000000001,
          -14.849338888888889,
          -14.835988055555557,
          -14.852415833333334,
          -15.81140277777778,
          -15.960463888888889,
          -15.689327777777779,
          -15.466513888888889,
          -15.98753611111111,
          -15.692141666666666,
          -15.796725,
          -15.676077777777778,
          -15.63903611111111,
          -15.762616666666666,
          -15.905418888888889,
          -9.523130555555557,
          -16.119944444444446,
          -16.24136388888889,
          -16.29485277777778,
          -16.098363888888887,
          -16.234883333333336,
          -16.245391666666666,
          -16.06292777777778,
          -16.25285277777778,
          -16.24553611111111,
          -16.05025277777778,
          -16.232602777777775,
          -16.037916666666668,
          -16.06896111111111,
          -16.110855555555556,
          -16.265494444444446,
          -16.25861111111111,
          -16.25613611111111,
          -16.21913888888889,
          -16.297844444444447,
          -16.034502777777778,
          -16.27436111111111,
          -16.247797222222225,
          -16.239061111111113,
          -15.347345833333334,
          -15.129725,
          -15.726747222222222,
          -14.205833333333333,
          -18.112583333333333,
          -18.10531388888889,
          -18.150840833333334,
          -18.151942499999997,
          -18.138795277777778,
          -18.152136944444443,
          -18.144444444444446,
          -18.141666666666666,
          -18.148055555555555,
          -18.162499999999998,
          -14.810166666666667
         ],
         "legendgroup": "Baixa",
         "lon": [
          -62.39611111111111,
          -63.051944444444445,
          -63.05777777777777,
          -63.074444444444445,
          -63.07555555555556,
          -63.08455555555556,
          -60.07891666666667,
          -60.06899888888889,
          -60.075865,
          -60.08802888888889,
          -60.14191666666667,
          -52.42868583333333,
          -52.441805555555554,
          -48.75288277777778,
          -48.7505,
          -48.75555555555555,
          -48.75702777777778,
          -48.74978388888889,
          -48.751307777777775,
          -48.748916666666666,
          -48.747055555555555,
          -48.745565,
          -48.74761111111111,
          -50.340138888888895,
          -50.04416666666666,
          -50.07015388888889,
          -50.057111111111105,
          -50.075408888888894,
          -50.033252777777776,
          -50.084200833333334,
          -50.03609083333333,
          -50.048361111111106,
          -49.74656638888889,
          -49.74466388888889,
          -49.652375,
          -49.76645277777778,
          -55.97078888888889,
          -55.78635555555555,
          -55.7845,
          -56.17813888888889,
          -56.16697194444444,
          -56.175777777777775,
          -56.166805555555555,
          -56.17380555555555,
          -56.18801111111111,
          -56.196,
          -56.17305555555555,
          -56.20183333333333,
          -50.491416666666666,
          -50.52291666666667,
          -50.222500000000004,
          -50.567168888888894,
          -50.54111111111111,
          -50.53863888888889,
          -56.49225833333333,
          -56.48735,
          -56.49186944444445,
          -56.46091666666667,
          -56.462250000000004,
          -56.472500000000004,
          -56.42697222222222,
          -56.43541666666666,
          -56.44455555555555,
          -56.424277777777775,
          -56.44008333333333,
          -56.45280555555556,
          -56.467305555555555,
          -56.47027777777778,
          -56.47541666666667,
          -56.476111111111116,
          -56.46892888888889,
          -56.40369444444444,
          -56.38575,
          -56.39066666666667,
          -56.418166666666664,
          -56.45266666666667,
          -56.46327777777778,
          -56.468250000000005,
          -51.077083333333334,
          -47.753166666666665,
          -47.736333333333334,
          -47.72116666666667,
          -47.75816666666667,
          -51.07752777777778,
          -51.06147583333333,
          -51.07649388888889,
          -50.141416666666665,
          -50.10948166666667,
          -50.1625,
          -50.16905555555555,
          -50.142919166666665,
          -50.14378,
          -50.29147222222222,
          -51.17113888888888,
          -51.16672222222222,
          -51.17782888888889,
          -51.17348277777778,
          -51.174166666666665,
          -51.888194444444444,
          -51.887058333333336,
          -51.89593055555555,
          -51.75780888888889,
          -47.19303333333333,
          -47.18900194444444,
          -46.81811777777778,
          -47.67673333333333,
          -47.676177777777774,
          -47.67500277777778,
          -45.767765555555556,
          -36.77325,
          -37.03058333333333,
          -37.02983333333333,
          -37.03133333333333,
          -39.089666666666666,
          -39.071195833333334,
          -39.09805555555556,
          -40.41455555555555,
          -39.69714083333333,
          -40.52908333333333,
          -39.868138888888886,
          -39.862296666666666,
          -39.86398722222222,
          -39.86653583333334,
          -39.879016944444444,
          -39.82658333333334,
          -39.863911944444446,
          -39.87318277777778,
          -39.87270083333333,
          -39.88049777777778,
          -39.87994888888889,
          -39.8662025,
          -39.86157888888889,
          -39.87090194444445,
          -39.871659722222226,
          -39.871030833333336,
          -39.86499777777778,
          -39.864965833333336,
          -39.87231083333334,
          -39.86570777777778,
          -39.86716972222222,
          -39.867874444444446,
          -39.871405833333334,
          -39.86609694444444,
          -39.86364277777778,
          -39.864937222222224,
          -39.86521861111111,
          -39.86942694444444,
          -39.87146194444445,
          -39.87223888888889,
          -39.870152777777776,
          -39.870066944444446,
          -39.86517,
          -39.86816888888889,
          -39.864240555555554,
          -39.86891694444444,
          -39.86882,
          -39.86453888888889,
          -39.86725583333333,
          -39.86334388888889,
          -39.86494416666667,
          -39.86511083333333,
          -39.86335972222222,
          -39.862769722222225,
          -40.69166166666666,
          -40.689138888888884,
          -40.69147222222222,
          -39.28702777777777,
          -39.30083333333333,
          -46.926944444444445,
          -46.97199888888889,
          -46.95619777777778,
          -46.94611111111111,
          -47.02936583333333,
          -46.99638888888889,
          -47.01284777777778,
          -46.95232194444445,
          -46.95305555555556,
          -46.973849722222226,
          -47.02111111111111,
          -46.94018055555555,
          -45.57745555555556,
          -45.58316111111112,
          -43.6037275,
          -43.41376944444444,
          -43.192027777777774,
          -44.013527777777774,
          -43.927861111111106,
          -43.931555555555555,
          -44.09308444444445,
          -44.10049166666667,
          -44.12147222222222,
          -44.218361111111115,
          -44.07366777777778,
          -44.307472222222216,
          -44.13922222222222,
          -44.13827777777778,
          -44.12441666666667,
          -44.11966666666667,
          -44.029222222222224,
          -44.02719444444444,
          -44.00622222222222,
          -44.10256388888889,
          -44.10646972222222,
          -43.649055833333335,
          -43.63480888888889,
          -43.40418222222222,
          -43.40811111111111,
          -43.405277777777776,
          -43.406573055555555,
          -43.401666666666664,
          -43.40119166666666,
          -44.87441666666667,
          -43.891777777777776,
          -43.882333333333335,
          -43.88583333333333,
          -43.88333333333333,
          -43.93333333333333,
          -43.89447222222222,
          -43.955000000000005,
          -44.28819444444444,
          -44.409930555555555,
          -43.24147777777778,
          -43.242225,
          -43.23155666666667,
          -43.2633825,
          -43.26678,
          -43.20475694444445,
          -43.1608625,
          -43.20628277777778,
          -43.257255,
          -43.28622222222222,
          -43.23641666666667,
          -43.274138888888885,
          -43.24628555555556,
          -43.93545833333333,
          -43.93723333333333,
          -43.90835611111111,
          -43.926775,
          -43.87911916666667,
          -43.88174638888889,
          -43.86708333333333,
          -43.89517083333333,
          -43.89822222222222,
          -43.923024999999996,
          -43.68577777777777,
          -43.930861111111106,
          -43.91678333333333,
          -43.91670277777777,
          -43.898487777777774,
          -43.938627777777775,
          -42.87165888888889,
          -45.13352777777778,
          -45.132,
          -45.14841666666667,
          -44.44708333333333,
          -44.40547222222222,
          -44.45998388888889,
          -44.38018888888889,
          -44.38658611111111,
          -44.426449999999996,
          -44.4485475,
          -44.45458333333334,
          -44.44994444444444,
          -44.42247222222222,
          -44.40083083333333,
          -44.45438611111111,
          -43.95086111111112,
          -46.86132583333333,
          -46.86211111111111,
          -43.42461111111111,
          -43.41308333333333,
          -43.49758305555556,
          -43.497886944444446,
          -43.46931083333334,
          -43.43761361111111,
          -43.45439972222223,
          -43.46794444444445,
          -43.46011388888889,
          -43.49308333333333,
          -43.42299194444444,
          -43.41088694444444,
          -43.44181666666666,
          -44.16237777777778,
          -44.42670277777778,
          -42.35480777777778,
          -43.350344722222225,
          -42.714930833333334,
          -42.563762777777775,
          -44.589666666666666,
          -43.96544444444445,
          -43.96458333333334,
          -43.88711111111111,
          -43.92569444444444,
          -43.83888888888889,
          -43.963614166666666,
          -43.93058333333333,
          -43.964083333333335,
          -43.961333333333336,
          -43.929138888888886,
          -43.888416666666664,
          -43.86527777777778,
          -43.5085,
          -43.776944444444446,
          -43.83973972222223,
          -43.49623527777778,
          -43.83400972222223,
          -43.864691666666666,
          -43.85155555555556,
          -46.757905,
          -46.902166666666666,
          -46.81883333333334,
          -46.82833333333333,
          -46.82833333333333,
          -46.85633333333333,
          -46.87916666666667,
          -46.88783333333333,
          -46.88333333333333,
          -46.898833333333336,
          -46.92647222222222,
          -46.93283333333333,
          -46.79969972222222,
          -41.06022222222222,
          -41.03905555555556,
          -43.11406388888889,
          -43.84780583333333,
          -43.84299583333333,
          -43.196193888888885,
          -43.20921333333334,
          -43.21273333333334,
          -43.80452777777778,
          -43.727559722222225,
          -39.94694444444444,
          -43.60575,
          -43.506766666666664,
          -43.61530555555556,
          -43.49283333333334,
          -43.23888888888889,
          -43.2378675,
          -43.22203888888889,
          -42.56188888888889,
          -43.28552777777777,
          -43.28472222222222,
          -43.37824722222222,
          -43.37972833333333,
          -43.355869444444444,
          -43.38568,
          -44.588483333333336,
          -44.57685166666667,
          -44.11294166666667,
          -44.10048888888889,
          -43.169777777777774,
          -43.169013888888884,
          -43.16974444444444,
          -46.724000000000004,
          -46.86830555555556,
          -46.84180555555556,
          -46.86425,
          -46.87888888888889,
          -46.83277777777778,
          -46.837361111111115,
          -47.953901111111115,
          -47.954255833333335,
          -47.95547944444445,
          -47.95630055555556,
          -46.844166666666666,
          -46.814499999999995,
          -46.84977777777778,
          -44.28619444444444,
          -48.358672222222225,
          -48.34466666666667,
          -48.11296277777778,
          -48.095475,
          -47.55152777777778,
          -46.135333333333335,
          -48.001398888888886,
          -47.456944444444446,
          -46.24733333333334,
          -46.20541666666667,
          -46.21273888888889,
          -46.19488888888888,
          -46.24388888888889,
          -47.622,
          -47.621805555555554,
          -46.285888888888884,
          -46.283166666666666,
          -46.28494444444444,
          -46.91824722222222,
          -46.73605555555556,
          -46.73122222222222,
          -47.61324166666667,
          -49.69086083333333,
          -49.427749999999996,
          -49.42847777777777,
          -49.443215277777774,
          -49.44219444444444,
          -49.45805555555556,
          -49.46027777777778,
          -49.46002777777778,
          -49.451122222222224,
          -49.45132777777778,
          -49.452086111111115,
          -49.37055,
          -49.37027777777778,
          -52.00377527777778,
          -57.52661111111111,
          -57.635305555555554,
          -57.559979166666665,
          -55.84623888888889,
          -59.658113888888884,
          -59.66909111111111,
          -59.654468611111106,
          -56.39019166666667,
          -56.47827222222222,
          -56.35328055555556,
          -56.46089583333334,
          -56.313855555555556,
          -56.36056666666667,
          -56.27104444444444,
          -56.36579444444445,
          -56.340294444444446,
          -56.26496111111111,
          -56.20308194444445,
          -56.48665416666667,
          -56.587722222222226,
          -56.604866666666666,
          -56.65153333333333,
          -56.56857777777778,
          -56.65240277777777,
          -56.607369444444444,
          -56.561927777777775,
          -56.606011111111115,
          -56.58928055555556,
          -56.548275,
          -56.60697527777778,
          -56.537638888888885,
          -56.565102777777774,
          -56.57396666666667,
          -56.589869444444446,
          -56.59638888888889,
          -56.656413888888885,
          -56.652563888888885,
          -56.71169722222223,
          -56.53353055555555,
          -56.63725,
          -56.595800000000004,
          -56.65260277777778,
          -59.25678166666667,
          -59.36935277777778,
          -55.88217777777778,
          -49.406166666666664,
          -47.78447222222222,
          -47.77976666666667,
          -47.781976666666665,
          -47.783003888888885,
          -47.78213638888889,
          -47.80566694444444,
          -47.80611111111111,
          -47.811388888888885,
          -47.80305555555555,
          -47.84541666666667,
          -49.54066666666667
         ],
         "marker": {
          "color": "#00cc96"
         },
         "mode": "markers",
         "name": "Baixa",
         "showlegend": true,
         "subplot": "mapbox",
         "type": "scattermapbox"
        },
        {
         "customdata": [
          [
           "Não se aplica"
          ],
          [
           "Não se aplica"
          ],
          [
           "Não se aplica"
          ],
          [
           "Não se aplica"
          ],
          [
           "Não se aplica"
          ],
          [
           "Não se aplica"
          ],
          [
           "Não se aplica"
          ],
          [
           "Não se aplica"
          ],
          [
           "Não se aplica"
          ],
          [
           "Não se aplica"
          ],
          [
           "Não se aplica"
          ],
          [
           "Não se aplica"
          ],
          [
           "Não se aplica"
          ],
          [
           "Não se aplica"
          ],
          [
           "Não se aplica"
          ],
          [
           "Não se aplica"
          ],
          [
           "Não se aplica"
          ],
          [
           "Não se aplica"
          ],
          [
           "Não se aplica"
          ],
          [
           "Não se aplica"
          ],
          [
           "Não se aplica"
          ],
          [
           "Não se aplica"
          ],
          [
           "Não se aplica"
          ],
          [
           "Não se aplica"
          ],
          [
           "Não se aplica"
          ],
          [
           "Não se aplica"
          ],
          [
           "Não se aplica"
          ],
          [
           "Não se aplica"
          ],
          [
           "Não se aplica"
          ],
          [
           "Não se aplica"
          ],
          [
           "Não se aplica"
          ],
          [
           "Não se aplica"
          ],
          [
           "Não se aplica"
          ],
          [
           "Não se aplica"
          ],
          [
           "Não se aplica"
          ],
          [
           "Não se aplica"
          ],
          [
           "Não se aplica"
          ],
          [
           "Não se aplica"
          ],
          [
           "Não se aplica"
          ],
          [
           "Não se aplica"
          ],
          [
           "Não se aplica"
          ],
          [
           "Não se aplica"
          ],
          [
           "Não se aplica"
          ],
          [
           "Não se aplica"
          ],
          [
           "Não se aplica"
          ],
          [
           "Não se aplica"
          ],
          [
           "Não se aplica"
          ]
         ],
         "hovertemplate": "<b>%{hovertext}</b><br><br>Categoria de Risco - CRI=Não se aplica<br>Latitude=%{lat}<br>Longitude=%{lon}<br>Dano Potencial Associado - DPA=%{customdata[0]}<extra></extra>",
         "hovertext": [
          "CURIONÓPOLIS",
          "ITAITUBA",
          "ITAITUBA",
          "JACAREACANGA",
          "ORIXIMINÁ",
          "ORIXIMINÁ",
          "ORIXIMINÁ",
          "PARAUAPEBAS",
          "MAIQUINIQUE",
          "MARACÁS",
          "CONGONHAS",
          "ARIPUANÃ",
          "CUIABÁ",
          "CUIABÁ",
          "CUIABÁ",
          "CUIABÁ",
          "VILA BELA DA SANTÍSSIMA TRINDADE",
          "NOSSA SENHORA DO LIVRAMENTO",
          "NOSSA SENHORA DO LIVRAMENTO",
          "NOSSA SENHORA DO LIVRAMENTO",
          "NOSSA SENHORA DO LIVRAMENTO",
          "NOSSA SENHORA DO LIVRAMENTO",
          "NOSSA SENHORA DO LIVRAMENTO",
          "NOSSA SENHORA DO LIVRAMENTO",
          "NOSSA SENHORA DO LIVRAMENTO",
          "NOSSA SENHORA DO LIVRAMENTO",
          "NOSSA SENHORA DO LIVRAMENTO",
          "NOSSA SENHORA DO LIVRAMENTO",
          "NOSSA SENHORA DO LIVRAMENTO",
          "NOSSA SENHORA DO LIVRAMENTO",
          "NOSSA SENHORA DO LIVRAMENTO",
          "NOSSA SENHORA DO LIVRAMENTO",
          "NOSSA SENHORA DO LIVRAMENTO",
          "NOSSA SENHORA DO LIVRAMENTO",
          "NOVA BANDEIRANTES",
          "NOVA BANDEIRANTES",
          "NOVA SANTA HELENA",
          "NOVA SANTA HELENA",
          "PARANAÍTA",
          "POCONÉ",
          "POCONÉ",
          "POCONÉ",
          "POCONÉ",
          "POCONÉ",
          "SÃO JOSÉ DOS QUATRO MARCOS",
          "ROSÁRIO OESTE",
          "OUVIDOR"
         ],
         "lat": [
          -5.933916666666667,
          -6.067933333333333,
          -6.03965,
          -9.346195555555557,
          -1.6695788888888887,
          -1.6689947222222221,
          -1.6734469444444442,
          -6.107236111111111,
          -15.788333333333334,
          -14.161150555555556,
          -20.44013888888889,
          -10.123502777777778,
          -15.510619444444444,
          -15.919627777777777,
          -15.492038333333333,
          -15.557166666666667,
          -14.694328888888888,
          -15.664294444444446,
          -15.935405555555556,
          -15.669688888888889,
          -15.844419444444444,
          -15.809580555555556,
          -15.793255555555556,
          -15.694680555555555,
          -15.977733333333333,
          -15.656344444444445,
          -15.846633333333333,
          -15.968433333333333,
          -15.925567222222222,
          -15.919330555555556,
          -15.948472222222222,
          -15.465573611111111,
          -15.969600833333333,
          -15.796544444444445,
          -9.215338888888889,
          -9.215338888888889,
          -10.802486111111111,
          -10.802486111111111,
          -9.379680555555556,
          -16.24745,
          -16.08727222222222,
          -16.009066666666666,
          -16.219001666666664,
          -16.30282777777778,
          -15.652405555555555,
          -14.879138888888889,
          -18.150563888888886
         ],
         "legendgroup": "Não se aplica",
         "lon": [
          -49.673138888888886,
          -56.28649722222222,
          -56.29055555555556,
          -56.55292583333333,
          -56.49726638888889,
          -56.502364166666666,
          -56.50005222222222,
          -50.31803583333334,
          -40.323055555555555,
          -41.159390555555554,
          -43.905138888888885,
          -59.474722222222226,
          -56.04776944444444,
          -56.44723527777777,
          -55.939119999999996,
          -55.81506666666667,
          -59.72912027777778,
          -56.35454722222222,
          -56.467913888888894,
          -56.35072777777778,
          -56.31103333333333,
          -56.16383888888889,
          -56.18175833333333,
          -56.368611111111115,
          -56.490275000000004,
          -56.38233888888889,
          -56.15958888888889,
          -56.49926666666667,
          -56.356392222222226,
          -56.490883333333336,
          -56.18971666666666,
          -56.45760666666667,
          -56.2865375,
          -56.273669444444444,
          -58.29170833333333,
          -58.29170833333333,
          -55.18615555555555,
          -55.18615555555555,
          -56.56444444444444,
          -56.65826111111111,
          -56.55987222222222,
          -56.622348055555555,
          -56.61202361111111,
          -56.6281975,
          -58.542855555555555,
          -56.57302777777778,
          -47.77273388888889
         ],
         "marker": {
          "color": "#ab63fa"
         },
         "mode": "markers",
         "name": "Não se aplica",
         "showlegend": true,
         "subplot": "mapbox",
         "type": "scattermapbox"
        }
       ],
       "layout": {
        "height": 900,
        "legend": {
         "title": {
          "text": "Categoria de Risco - CRI"
         },
         "tracegroupgap": 0
        },
        "mapbox": {
         "center": {
          "lat": -14.235004,
          "lon": -51.92528
         },
         "domain": {
          "x": [
           0,
           1
          ],
          "y": [
           0,
           1
          ]
         },
         "style": "open-street-map",
         "zoom": 4
        },
        "template": {
         "data": {
          "bar": [
           {
            "error_x": {
             "color": "#2a3f5f"
            },
            "error_y": {
             "color": "#2a3f5f"
            },
            "marker": {
             "line": {
              "color": "#E5ECF6",
              "width": 0.5
             },
             "pattern": {
              "fillmode": "overlay",
              "size": 10,
              "solidity": 0.2
             }
            },
            "type": "bar"
           }
          ],
          "barpolar": [
           {
            "marker": {
             "line": {
              "color": "#E5ECF6",
              "width": 0.5
             },
             "pattern": {
              "fillmode": "overlay",
              "size": 10,
              "solidity": 0.2
             }
            },
            "type": "barpolar"
           }
          ],
          "carpet": [
           {
            "aaxis": {
             "endlinecolor": "#2a3f5f",
             "gridcolor": "white",
             "linecolor": "white",
             "minorgridcolor": "white",
             "startlinecolor": "#2a3f5f"
            },
            "baxis": {
             "endlinecolor": "#2a3f5f",
             "gridcolor": "white",
             "linecolor": "white",
             "minorgridcolor": "white",
             "startlinecolor": "#2a3f5f"
            },
            "type": "carpet"
           }
          ],
          "choropleth": [
           {
            "colorbar": {
             "outlinewidth": 0,
             "ticks": ""
            },
            "type": "choropleth"
           }
          ],
          "contour": [
           {
            "colorbar": {
             "outlinewidth": 0,
             "ticks": ""
            },
            "colorscale": [
             [
              0,
              "#0d0887"
             ],
             [
              0.1111111111111111,
              "#46039f"
             ],
             [
              0.2222222222222222,
              "#7201a8"
             ],
             [
              0.3333333333333333,
              "#9c179e"
             ],
             [
              0.4444444444444444,
              "#bd3786"
             ],
             [
              0.5555555555555556,
              "#d8576b"
             ],
             [
              0.6666666666666666,
              "#ed7953"
             ],
             [
              0.7777777777777778,
              "#fb9f3a"
             ],
             [
              0.8888888888888888,
              "#fdca26"
             ],
             [
              1,
              "#f0f921"
             ]
            ],
            "type": "contour"
           }
          ],
          "contourcarpet": [
           {
            "colorbar": {
             "outlinewidth": 0,
             "ticks": ""
            },
            "type": "contourcarpet"
           }
          ],
          "heatmap": [
           {
            "colorbar": {
             "outlinewidth": 0,
             "ticks": ""
            },
            "colorscale": [
             [
              0,
              "#0d0887"
             ],
             [
              0.1111111111111111,
              "#46039f"
             ],
             [
              0.2222222222222222,
              "#7201a8"
             ],
             [
              0.3333333333333333,
              "#9c179e"
             ],
             [
              0.4444444444444444,
              "#bd3786"
             ],
             [
              0.5555555555555556,
              "#d8576b"
             ],
             [
              0.6666666666666666,
              "#ed7953"
             ],
             [
              0.7777777777777778,
              "#fb9f3a"
             ],
             [
              0.8888888888888888,
              "#fdca26"
             ],
             [
              1,
              "#f0f921"
             ]
            ],
            "type": "heatmap"
           }
          ],
          "heatmapgl": [
           {
            "colorbar": {
             "outlinewidth": 0,
             "ticks": ""
            },
            "colorscale": [
             [
              0,
              "#0d0887"
             ],
             [
              0.1111111111111111,
              "#46039f"
             ],
             [
              0.2222222222222222,
              "#7201a8"
             ],
             [
              0.3333333333333333,
              "#9c179e"
             ],
             [
              0.4444444444444444,
              "#bd3786"
             ],
             [
              0.5555555555555556,
              "#d8576b"
             ],
             [
              0.6666666666666666,
              "#ed7953"
             ],
             [
              0.7777777777777778,
              "#fb9f3a"
             ],
             [
              0.8888888888888888,
              "#fdca26"
             ],
             [
              1,
              "#f0f921"
             ]
            ],
            "type": "heatmapgl"
           }
          ],
          "histogram": [
           {
            "marker": {
             "pattern": {
              "fillmode": "overlay",
              "size": 10,
              "solidity": 0.2
             }
            },
            "type": "histogram"
           }
          ],
          "histogram2d": [
           {
            "colorbar": {
             "outlinewidth": 0,
             "ticks": ""
            },
            "colorscale": [
             [
              0,
              "#0d0887"
             ],
             [
              0.1111111111111111,
              "#46039f"
             ],
             [
              0.2222222222222222,
              "#7201a8"
             ],
             [
              0.3333333333333333,
              "#9c179e"
             ],
             [
              0.4444444444444444,
              "#bd3786"
             ],
             [
              0.5555555555555556,
              "#d8576b"
             ],
             [
              0.6666666666666666,
              "#ed7953"
             ],
             [
              0.7777777777777778,
              "#fb9f3a"
             ],
             [
              0.8888888888888888,
              "#fdca26"
             ],
             [
              1,
              "#f0f921"
             ]
            ],
            "type": "histogram2d"
           }
          ],
          "histogram2dcontour": [
           {
            "colorbar": {
             "outlinewidth": 0,
             "ticks": ""
            },
            "colorscale": [
             [
              0,
              "#0d0887"
             ],
             [
              0.1111111111111111,
              "#46039f"
             ],
             [
              0.2222222222222222,
              "#7201a8"
             ],
             [
              0.3333333333333333,
              "#9c179e"
             ],
             [
              0.4444444444444444,
              "#bd3786"
             ],
             [
              0.5555555555555556,
              "#d8576b"
             ],
             [
              0.6666666666666666,
              "#ed7953"
             ],
             [
              0.7777777777777778,
              "#fb9f3a"
             ],
             [
              0.8888888888888888,
              "#fdca26"
             ],
             [
              1,
              "#f0f921"
             ]
            ],
            "type": "histogram2dcontour"
           }
          ],
          "mesh3d": [
           {
            "colorbar": {
             "outlinewidth": 0,
             "ticks": ""
            },
            "type": "mesh3d"
           }
          ],
          "parcoords": [
           {
            "line": {
             "colorbar": {
              "outlinewidth": 0,
              "ticks": ""
             }
            },
            "type": "parcoords"
           }
          ],
          "pie": [
           {
            "automargin": true,
            "type": "pie"
           }
          ],
          "scatter": [
           {
            "fillpattern": {
             "fillmode": "overlay",
             "size": 10,
             "solidity": 0.2
            },
            "type": "scatter"
           }
          ],
          "scatter3d": [
           {
            "line": {
             "colorbar": {
              "outlinewidth": 0,
              "ticks": ""
             }
            },
            "marker": {
             "colorbar": {
              "outlinewidth": 0,
              "ticks": ""
             }
            },
            "type": "scatter3d"
           }
          ],
          "scattercarpet": [
           {
            "marker": {
             "colorbar": {
              "outlinewidth": 0,
              "ticks": ""
             }
            },
            "type": "scattercarpet"
           }
          ],
          "scattergeo": [
           {
            "marker": {
             "colorbar": {
              "outlinewidth": 0,
              "ticks": ""
             }
            },
            "type": "scattergeo"
           }
          ],
          "scattergl": [
           {
            "marker": {
             "colorbar": {
              "outlinewidth": 0,
              "ticks": ""
             }
            },
            "type": "scattergl"
           }
          ],
          "scattermapbox": [
           {
            "marker": {
             "colorbar": {
              "outlinewidth": 0,
              "ticks": ""
             }
            },
            "type": "scattermapbox"
           }
          ],
          "scatterpolar": [
           {
            "marker": {
             "colorbar": {
              "outlinewidth": 0,
              "ticks": ""
             }
            },
            "type": "scatterpolar"
           }
          ],
          "scatterpolargl": [
           {
            "marker": {
             "colorbar": {
              "outlinewidth": 0,
              "ticks": ""
             }
            },
            "type": "scatterpolargl"
           }
          ],
          "scatterternary": [
           {
            "marker": {
             "colorbar": {
              "outlinewidth": 0,
              "ticks": ""
             }
            },
            "type": "scatterternary"
           }
          ],
          "surface": [
           {
            "colorbar": {
             "outlinewidth": 0,
             "ticks": ""
            },
            "colorscale": [
             [
              0,
              "#0d0887"
             ],
             [
              0.1111111111111111,
              "#46039f"
             ],
             [
              0.2222222222222222,
              "#7201a8"
             ],
             [
              0.3333333333333333,
              "#9c179e"
             ],
             [
              0.4444444444444444,
              "#bd3786"
             ],
             [
              0.5555555555555556,
              "#d8576b"
             ],
             [
              0.6666666666666666,
              "#ed7953"
             ],
             [
              0.7777777777777778,
              "#fb9f3a"
             ],
             [
              0.8888888888888888,
              "#fdca26"
             ],
             [
              1,
              "#f0f921"
             ]
            ],
            "type": "surface"
           }
          ],
          "table": [
           {
            "cells": {
             "fill": {
              "color": "#EBF0F8"
             },
             "line": {
              "color": "white"
             }
            },
            "header": {
             "fill": {
              "color": "#C8D4E3"
             },
             "line": {
              "color": "white"
             }
            },
            "type": "table"
           }
          ]
         },
         "layout": {
          "annotationdefaults": {
           "arrowcolor": "#2a3f5f",
           "arrowhead": 0,
           "arrowwidth": 1
          },
          "autotypenumbers": "strict",
          "coloraxis": {
           "colorbar": {
            "outlinewidth": 0,
            "ticks": ""
           }
          },
          "colorscale": {
           "diverging": [
            [
             0,
             "#8e0152"
            ],
            [
             0.1,
             "#c51b7d"
            ],
            [
             0.2,
             "#de77ae"
            ],
            [
             0.3,
             "#f1b6da"
            ],
            [
             0.4,
             "#fde0ef"
            ],
            [
             0.5,
             "#f7f7f7"
            ],
            [
             0.6,
             "#e6f5d0"
            ],
            [
             0.7,
             "#b8e186"
            ],
            [
             0.8,
             "#7fbc41"
            ],
            [
             0.9,
             "#4d9221"
            ],
            [
             1,
             "#276419"
            ]
           ],
           "sequential": [
            [
             0,
             "#0d0887"
            ],
            [
             0.1111111111111111,
             "#46039f"
            ],
            [
             0.2222222222222222,
             "#7201a8"
            ],
            [
             0.3333333333333333,
             "#9c179e"
            ],
            [
             0.4444444444444444,
             "#bd3786"
            ],
            [
             0.5555555555555556,
             "#d8576b"
            ],
            [
             0.6666666666666666,
             "#ed7953"
            ],
            [
             0.7777777777777778,
             "#fb9f3a"
            ],
            [
             0.8888888888888888,
             "#fdca26"
            ],
            [
             1,
             "#f0f921"
            ]
           ],
           "sequentialminus": [
            [
             0,
             "#0d0887"
            ],
            [
             0.1111111111111111,
             "#46039f"
            ],
            [
             0.2222222222222222,
             "#7201a8"
            ],
            [
             0.3333333333333333,
             "#9c179e"
            ],
            [
             0.4444444444444444,
             "#bd3786"
            ],
            [
             0.5555555555555556,
             "#d8576b"
            ],
            [
             0.6666666666666666,
             "#ed7953"
            ],
            [
             0.7777777777777778,
             "#fb9f3a"
            ],
            [
             0.8888888888888888,
             "#fdca26"
            ],
            [
             1,
             "#f0f921"
            ]
           ]
          },
          "colorway": [
           "#636efa",
           "#EF553B",
           "#00cc96",
           "#ab63fa",
           "#FFA15A",
           "#19d3f3",
           "#FF6692",
           "#B6E880",
           "#FF97FF",
           "#FECB52"
          ],
          "font": {
           "color": "#2a3f5f"
          },
          "geo": {
           "bgcolor": "white",
           "lakecolor": "white",
           "landcolor": "#E5ECF6",
           "showlakes": true,
           "showland": true,
           "subunitcolor": "white"
          },
          "hoverlabel": {
           "align": "left"
          },
          "hovermode": "closest",
          "mapbox": {
           "style": "light"
          },
          "paper_bgcolor": "white",
          "plot_bgcolor": "#E5ECF6",
          "polar": {
           "angularaxis": {
            "gridcolor": "white",
            "linecolor": "white",
            "ticks": ""
           },
           "bgcolor": "#E5ECF6",
           "radialaxis": {
            "gridcolor": "white",
            "linecolor": "white",
            "ticks": ""
           }
          },
          "scene": {
           "xaxis": {
            "backgroundcolor": "#E5ECF6",
            "gridcolor": "white",
            "gridwidth": 2,
            "linecolor": "white",
            "showbackground": true,
            "ticks": "",
            "zerolinecolor": "white"
           },
           "yaxis": {
            "backgroundcolor": "#E5ECF6",
            "gridcolor": "white",
            "gridwidth": 2,
            "linecolor": "white",
            "showbackground": true,
            "ticks": "",
            "zerolinecolor": "white"
           },
           "zaxis": {
            "backgroundcolor": "#E5ECF6",
            "gridcolor": "white",
            "gridwidth": 2,
            "linecolor": "white",
            "showbackground": true,
            "ticks": "",
            "zerolinecolor": "white"
           }
          },
          "shapedefaults": {
           "line": {
            "color": "#2a3f5f"
           }
          },
          "ternary": {
           "aaxis": {
            "gridcolor": "white",
            "linecolor": "white",
            "ticks": ""
           },
           "baxis": {
            "gridcolor": "white",
            "linecolor": "white",
            "ticks": ""
           },
           "bgcolor": "#E5ECF6",
           "caxis": {
            "gridcolor": "white",
            "linecolor": "white",
            "ticks": ""
           }
          },
          "title": {
           "x": 0.05
          },
          "xaxis": {
           "automargin": true,
           "gridcolor": "white",
           "linecolor": "white",
           "ticks": "",
           "title": {
            "standoff": 15
           },
           "zerolinecolor": "white",
           "zerolinewidth": 2
          },
          "yaxis": {
           "automargin": true,
           "gridcolor": "white",
           "linecolor": "white",
           "ticks": "",
           "title": {
            "standoff": 15
           },
           "zerolinecolor": "white",
           "zerolinewidth": 2
          }
         }
        },
        "title": {
         "text": "Barragens de mineração no Brasil por cluster"
        }
       }
      }
     },
     "metadata": {},
     "output_type": "display_data"
    }
   ],
   "source": [
    "fig = px.scatter_mapbox(barragem, lat=\"Latitude\", lon=\"Longitude\",title='Barragens de mineração no Brasil por cluster',\n",
    "                        hover_name=\"Município\",hover_data=['Dano Potencial Associado - DPA'],\n",
    "                        zoom=4, height=900,color='Categoria de Risco - CRI',\n",
    "                        center={\"lat\":-14.235004,\"lon\":-51.92528})\n",
    "fig.update_layout(mapbox_style=\"open-street-map\")\n",
    "fig.show()"
   ]
  }
 ],
 "metadata": {
  "kernelspec": {
   "display_name": ".venv",
   "language": "python",
   "name": "python3"
  },
  "language_info": {
   "codemirror_mode": {
    "name": "ipython",
    "version": 3
   },
   "file_extension": ".py",
   "mimetype": "text/x-python",
   "name": "python",
   "nbconvert_exporter": "python",
   "pygments_lexer": "ipython3",
   "version": "3.11.8"
  }
 },
 "nbformat": 4,
 "nbformat_minor": 2
}
